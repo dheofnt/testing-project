{
 "cells": [
  {
   "cell_type": "code",
   "execution_count": 5,
   "id": "b24a52ec",
   "metadata": {},
   "outputs": [],
   "source": [
    "umur = 23"
   ]
  },
  {
   "cell_type": "code",
   "execution_count": 6,
   "id": "a3173089",
   "metadata": {},
   "outputs": [
    {
     "data": {
      "text/plain": [
       "23"
      ]
     },
     "execution_count": 6,
     "metadata": {},
     "output_type": "execute_result"
    }
   ],
   "source": [
    "umur"
   ]
  },
  {
   "cell_type": "code",
   "execution_count": 7,
   "id": "390154b0",
   "metadata": {},
   "outputs": [],
   "source": [
    "berat = 55.5"
   ]
  },
  {
   "cell_type": "code",
   "execution_count": 8,
   "id": "2d66d69a",
   "metadata": {},
   "outputs": [],
   "source": [
    "perempuan = True"
   ]
  },
  {
   "cell_type": "code",
   "execution_count": 9,
   "id": "6dd44de8",
   "metadata": {},
   "outputs": [],
   "source": [
    "perempuan = False"
   ]
  },
  {
   "cell_type": "code",
   "execution_count": 10,
   "id": "cdc2df18",
   "metadata": {},
   "outputs": [],
   "source": [
    "deskripsi = 'sekolah di SMA 1'"
   ]
  },
  {
   "cell_type": "code",
   "execution_count": 11,
   "id": "6d51a543",
   "metadata": {},
   "outputs": [],
   "source": [
    "None"
   ]
  },
  {
   "cell_type": "code",
   "execution_count": null,
   "id": "b9d6c2f6",
   "metadata": {},
   "outputs": [],
   "source": []
  },
  {
   "cell_type": "code",
   "execution_count": 12,
   "id": "badac715",
   "metadata": {},
   "outputs": [
    {
     "data": {
      "text/plain": [
       "-1"
      ]
     },
     "execution_count": 12,
     "metadata": {},
     "output_type": "execute_result"
    }
   ],
   "source": [
    "min(-1, 0, 1, 10)"
   ]
  },
  {
   "cell_type": "code",
   "execution_count": 13,
   "id": "84930192",
   "metadata": {},
   "outputs": [
    {
     "data": {
      "text/plain": [
       "100"
      ]
     },
     "execution_count": 13,
     "metadata": {},
     "output_type": "execute_result"
    }
   ],
   "source": [
    "abs(-100)"
   ]
  },
  {
   "cell_type": "code",
   "execution_count": 14,
   "id": "e96f38ac",
   "metadata": {},
   "outputs": [
    {
     "data": {
      "text/plain": [
       "-4"
      ]
     },
     "execution_count": 14,
     "metadata": {},
     "output_type": "execute_result"
    }
   ],
   "source": [
    "round(-3.5)"
   ]
  },
  {
   "cell_type": "code",
   "execution_count": 15,
   "id": "7a1283ee",
   "metadata": {},
   "outputs": [],
   "source": [
    "text = \"Saya Ingin Menjadi Seorang Data Scientist\""
   ]
  },
  {
   "cell_type": "code",
   "execution_count": 16,
   "id": "07122a81",
   "metadata": {},
   "outputs": [
    {
     "data": {
      "text/plain": [
       "'Saya Ingin Menjadi Seorang Data Scientist'"
      ]
     },
     "execution_count": 16,
     "metadata": {},
     "output_type": "execute_result"
    }
   ],
   "source": [
    "text"
   ]
  },
  {
   "cell_type": "code",
   "execution_count": 17,
   "id": "40f37d5f",
   "metadata": {},
   "outputs": [
    {
     "data": {
      "text/plain": [
       "'saya ingin menjadi seorang data scientist'"
      ]
     },
     "execution_count": 17,
     "metadata": {},
     "output_type": "execute_result"
    }
   ],
   "source": [
    "text.lower()"
   ]
  },
  {
   "cell_type": "code",
   "execution_count": 18,
   "id": "c82ccbdb",
   "metadata": {},
   "outputs": [
    {
     "data": {
      "text/plain": [
       "'SAYA INGIN MENJADI SEORANG DATA SCIENTIST'"
      ]
     },
     "execution_count": 18,
     "metadata": {},
     "output_type": "execute_result"
    }
   ],
   "source": [
    "text.upper()"
   ]
  },
  {
   "cell_type": "code",
   "execution_count": 19,
   "id": "b560fbdb",
   "metadata": {},
   "outputs": [],
   "source": [
    "text = \" saya        ingin menjadi          seorang data scientist      \""
   ]
  },
  {
   "cell_type": "code",
   "execution_count": 20,
   "id": "b6a25dca",
   "metadata": {},
   "outputs": [
    {
     "data": {
      "text/plain": [
       "' saya        ingin menjadi          seorang data scientist      '"
      ]
     },
     "execution_count": 20,
     "metadata": {},
     "output_type": "execute_result"
    }
   ],
   "source": [
    "text"
   ]
  },
  {
   "cell_type": "code",
   "execution_count": 21,
   "id": "d7e61517",
   "metadata": {},
   "outputs": [
    {
     "data": {
      "text/plain": [
       "'saya        ingin menjadi          seorang data scientist'"
      ]
     },
     "execution_count": 21,
     "metadata": {},
     "output_type": "execute_result"
    }
   ],
   "source": [
    "text.strip()"
   ]
  },
  {
   "cell_type": "code",
   "execution_count": 22,
   "id": "f3ad7541",
   "metadata": {},
   "outputs": [
    {
     "data": {
      "text/plain": [
       "['saya', 'ingin', 'menjadi', 'seorang', 'data', 'scientist']"
      ]
     },
     "execution_count": 22,
     "metadata": {},
     "output_type": "execute_result"
    }
   ],
   "source": [
    "text.split()"
   ]
  },
  {
   "cell_type": "code",
   "execution_count": 23,
   "id": "d76102c9",
   "metadata": {},
   "outputs": [
    {
     "data": {
      "text/plain": [
       "'saya_ingin_menjadi_seorang_data_scientist'"
      ]
     },
     "execution_count": 23,
     "metadata": {},
     "output_type": "execute_result"
    }
   ],
   "source": [
    "\"_\".join(text.split())"
   ]
  },
  {
   "cell_type": "code",
   "execution_count": 24,
   "id": "436a9fcb",
   "metadata": {},
   "outputs": [
    {
     "data": {
      "text/plain": [
       "' siyi        ingin menjidi          seoring diti scientist      '"
      ]
     },
     "execution_count": 24,
     "metadata": {},
     "output_type": "execute_result"
    }
   ],
   "source": [
    "text.replace(\"a\", \"i\")"
   ]
  },
  {
   "cell_type": "code",
   "execution_count": 25,
   "id": "90538e0f",
   "metadata": {},
   "outputs": [
    {
     "data": {
      "text/plain": [
       "' saya        ingin menjadi          seorang data scientist      '"
      ]
     },
     "execution_count": 25,
     "metadata": {},
     "output_type": "execute_result"
    }
   ],
   "source": [
    "text"
   ]
  },
  {
   "cell_type": "code",
   "execution_count": 26,
   "id": "5779e4d9",
   "metadata": {},
   "outputs": [
    {
     "data": {
      "text/plain": [
       "str"
      ]
     },
     "execution_count": 26,
     "metadata": {},
     "output_type": "execute_result"
    }
   ],
   "source": [
    "type(text)"
   ]
  },
  {
   "cell_type": "code",
   "execution_count": 27,
   "id": "c96b18c8",
   "metadata": {},
   "outputs": [
    {
     "data": {
      "text/plain": [
       "int"
      ]
     },
     "execution_count": 27,
     "metadata": {},
     "output_type": "execute_result"
    }
   ],
   "source": [
    "type(umur)"
   ]
  }
 ],
 "metadata": {
  "kernelspec": {
   "display_name": "Python 3",
   "language": "python",
   "name": "python3"
  },
  "language_info": {
   "codemirror_mode": {
    "name": "ipython",
    "version": 3
   },
   "file_extension": ".py",
   "mimetype": "text/x-python",
   "name": "python",
   "nbconvert_exporter": "python",
   "pygments_lexer": "ipython3",
   "version": "3.8.8"
  }
 },
 "nbformat": 4,
 "nbformat_minor": 5
}
