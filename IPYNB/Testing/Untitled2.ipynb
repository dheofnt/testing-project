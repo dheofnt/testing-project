{
 "cells": [
  {
   "cell_type": "code",
   "execution_count": 1,
   "id": "7082c180",
   "metadata": {},
   "outputs": [],
   "source": [
    "umur = 16"
   ]
  },
  {
   "cell_type": "code",
   "execution_count": 5,
   "id": "fc3c12ac",
   "metadata": {},
   "outputs": [
    {
     "name": "stdout",
     "output_type": "stream",
     "text": [
      "anak-anak\n"
     ]
    }
   ],
   "source": [
    "if umur < 17:\n",
    "    print(\"anak-anak\")"
   ]
  },
  {
   "cell_type": "code",
   "execution_count": 7,
   "id": "463b47c4",
   "metadata": {},
   "outputs": [
    {
     "name": "stdout",
     "output_type": "stream",
     "text": [
      "bukan anak-anak\n"
     ]
    }
   ],
   "source": [
    "umur = 23\n",
    "if umur < 17:\n",
    "    print(\"anak-anak\")\n",
    "else:\n",
    "    print(\"bukan anak-anak\")"
   ]
  },
  {
   "cell_type": "code",
   "execution_count": 11,
   "id": "59343265",
   "metadata": {},
   "outputs": [
    {
     "name": "stdout",
     "output_type": "stream",
     "text": [
      "lansia\n"
     ]
    }
   ],
   "source": [
    "umur = 62\n",
    "if umur < 17:\n",
    "    print(\"anak-anak\")\n",
    "elif umur < 60:\n",
    "    print(\"umur produktif\")\n",
    "else:\n",
    "    print(\"lansia\")"
   ]
  },
  {
   "cell_type": "code",
   "execution_count": 12,
   "id": "9e725560",
   "metadata": {},
   "outputs": [],
   "source": [
    "numbers = [0, 1, 2, 3, 4, 5, 6]"
   ]
  },
  {
   "cell_type": "code",
   "execution_count": 15,
   "id": "e1945668",
   "metadata": {},
   "outputs": [
    {
     "name": "stdout",
     "output_type": "stream",
     "text": [
      "Proses 0\n",
      "Proses 1\n",
      "Proses 2\n",
      "Proses 3\n",
      "Proses 4\n",
      "Proses 5\n",
      "Proses 6\n",
      "21\n"
     ]
    }
   ],
   "source": [
    "jumlah = 0\n",
    "for number in numbers:\n",
    "    print(\"Proses\", number)\n",
    "    jumlah = jumlah + number\n",
    "print(jumlah)"
   ]
  },
  {
   "cell_type": "code",
   "execution_count": 22,
   "id": "e9f7b02a",
   "metadata": {},
   "outputs": [],
   "source": [
    "numbers2 = range(7)"
   ]
  },
  {
   "cell_type": "code",
   "execution_count": 24,
   "id": "19b0b709",
   "metadata": {},
   "outputs": [
    {
     "data": {
      "text/plain": [
       "[0, 1, 2, 3, 4, 5, 6]"
      ]
     },
     "execution_count": 24,
     "metadata": {},
     "output_type": "execute_result"
    }
   ],
   "source": [
    "list(numbers2)"
   ]
  },
  {
   "cell_type": "code",
   "execution_count": 26,
   "id": "156b65c1",
   "metadata": {},
   "outputs": [
    {
     "name": "stdout",
     "output_type": "stream",
     "text": [
      "Proses 0\n",
      "Proses 1\n",
      "Proses 2\n",
      "Proses 3\n",
      "Proses 4\n",
      "Proses 5\n",
      "Proses 6\n",
      "21\n"
     ]
    }
   ],
   "source": [
    "jumlah = 0\n",
    "for number in numbers2:\n",
    "    print(\"Proses\", number)\n",
    "    jumlah = jumlah + number\n",
    "print(jumlah)"
   ]
  },
  {
   "cell_type": "code",
   "execution_count": 30,
   "id": "6f031ed1",
   "metadata": {},
   "outputs": [],
   "source": [
    "i = 0"
   ]
  },
  {
   "cell_type": "code",
   "execution_count": 48,
   "id": "220dbb46",
   "metadata": {},
   "outputs": [],
   "source": [
    "jumlah = 0\n",
    "while i < 7:\n",
    "    print(\"Proses\", i)\n",
    "    jumlah = jumlah + i\n",
    "    i = i + 1"
   ]
  },
  {
   "cell_type": "code",
   "execution_count": 51,
   "id": "0f4d384c",
   "metadata": {},
   "outputs": [
    {
     "name": "stdout",
     "output_type": "stream",
     "text": [
      "0\n"
     ]
    }
   ],
   "source": [
    "print(jumlah)"
   ]
  },
  {
   "cell_type": "code",
   "execution_count": 52,
   "id": "eee54b37",
   "metadata": {},
   "outputs": [],
   "source": [
    "def my_function():\n",
    "    print(\"hello, world\")"
   ]
  },
  {
   "cell_type": "code",
   "execution_count": 54,
   "id": "41f1cd0c",
   "metadata": {},
   "outputs": [
    {
     "name": "stdout",
     "output_type": "stream",
     "text": [
      "hello, world\n"
     ]
    }
   ],
   "source": [
    "my_function()"
   ]
  },
  {
   "cell_type": "code",
   "execution_count": 59,
   "id": "83fcf4b5",
   "metadata": {},
   "outputs": [],
   "source": [
    "def is_square(panjang, lebar):\n",
    "    if panjang == lebar:\n",
    "        print(\"persegi\")\n",
    "    else:\n",
    "        print(\"persegi panjang\")"
   ]
  },
  {
   "cell_type": "code",
   "execution_count": 60,
   "id": "8700ce56",
   "metadata": {},
   "outputs": [
    {
     "name": "stdout",
     "output_type": "stream",
     "text": [
      "persegi panjang\n"
     ]
    }
   ],
   "source": [
    "is_square(4, 2)"
   ]
  },
  {
   "cell_type": "code",
   "execution_count": 61,
   "id": "66df2afe",
   "metadata": {},
   "outputs": [
    {
     "name": "stdout",
     "output_type": "stream",
     "text": [
      "persegi\n"
     ]
    }
   ],
   "source": [
    "is_square(4, 4)"
   ]
  },
  {
   "cell_type": "code",
   "execution_count": 63,
   "id": "90541aec",
   "metadata": {},
   "outputs": [
    {
     "name": "stdout",
     "output_type": "stream",
     "text": [
      "persegi panjang\n"
     ]
    }
   ],
   "source": [
    "is_square(panjang=5, lebar=3)"
   ]
  },
  {
   "cell_type": "code",
   "execution_count": 64,
   "id": "1517dac0",
   "metadata": {},
   "outputs": [],
   "source": [
    "def get_area(panjang, lebar):\n",
    "    return panjang * lebar"
   ]
  },
  {
   "cell_type": "code",
   "execution_count": 66,
   "id": "942665d7",
   "metadata": {},
   "outputs": [
    {
     "data": {
      "text/plain": [
       "20"
      ]
     },
     "execution_count": 66,
     "metadata": {},
     "output_type": "execute_result"
    }
   ],
   "source": [
    "get_area(4, 5)"
   ]
  },
  {
   "cell_type": "code",
   "execution_count": 67,
   "id": "83d8da4f",
   "metadata": {},
   "outputs": [],
   "source": [
    "def get_summary(number):\n",
    "    count = len(numbers)\n",
    "    jumlah = sum(numbers)\n",
    "    return count, jumlah"
   ]
  },
  {
   "cell_type": "code",
   "execution_count": 69,
   "id": "b5bc1b23",
   "metadata": {},
   "outputs": [
    {
     "data": {
      "text/plain": [
       "(6, 15)"
      ]
     },
     "execution_count": 69,
     "metadata": {},
     "output_type": "execute_result"
    }
   ],
   "source": [
    "numbers = [0, 1, 2, 3, 4, 5]\n",
    "get_summary(numbers)"
   ]
  },
  {
   "cell_type": "code",
   "execution_count": null,
   "id": "ea139deb",
   "metadata": {},
   "outputs": [],
   "source": []
  }
 ],
 "metadata": {
  "kernelspec": {
   "display_name": "Python 3",
   "language": "python",
   "name": "python3"
  },
  "language_info": {
   "codemirror_mode": {
    "name": "ipython",
    "version": 3
   },
   "file_extension": ".py",
   "mimetype": "text/x-python",
   "name": "python",
   "nbconvert_exporter": "python",
   "pygments_lexer": "ipython3",
   "version": "3.8.8"
  }
 },
 "nbformat": 4,
 "nbformat_minor": 5
}
