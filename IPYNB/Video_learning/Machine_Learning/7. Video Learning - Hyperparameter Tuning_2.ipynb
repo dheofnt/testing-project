{
 "cells": [
  {
   "cell_type": "markdown",
   "source": [
    "- Analyze tips data from seaborn\r\n",
    "    - Features = Total bill, sex, smoker, day, and time\r\n",
    "    - Target = Tips\r\n",
    "- Preprocess\r\n",
    "    - One hot encoding: smoker, day, time, sex\r\n",
    "    - no treatment: numerical\r\n",
    "- Random state 2020, splitting 80:20\r\n",
    "    - Model linear regression and tree (criterion mse, max_depth 5) compute R2 uing 5 fold CV\r\n",
    "    - Model decision tree (criterion mse, max_depth 5) compute mse in test set\r\n",
    "    - Do hyperparameter tuning (Randomized search) for decision tree (optimize criterion, min sample leaf, max depth) optimized by sme and using cv 5 fold\r\n",
    "    - Compare the result before and after in test set"
   ],
   "metadata": {}
  },
  {
   "cell_type": "code",
   "execution_count": 26,
   "source": [
    "import numpy as np\r\n",
    "import pandas as pd\r\n",
    "import matplotlib.pyplot as plt\r\n",
    "import seaborn as sns\r\n",
    "\r\n",
    "from sklearn import metrics\r\n",
    "from sklearn.model_selection import train_test_split\r\n",
    "\r\n",
    "from sklearn.linear_model import LinearRegression\r\n",
    "\r\n",
    "import category_encoders as ce\r\n",
    "from sklearn.preprocessing import OneHotEncoder\r\n",
    "from sklearn.compose import ColumnTransformer\r\n",
    "from sklearn.pipeline import Pipeline\r\n",
    "from sklearn.impute import SimpleImputer\r\n",
    "from sklearn.metrics import mean_squared_error\r\n",
    "\r\n",
    "from sklearn.model_selection import GridSearchCV, RandomizedSearchCV\r\n",
    "\r\n",
    "\r\n",
    "from sklearn.linear_model import LogisticRegression\r\n",
    "from sklearn.neighbors import KNeighborsClassifier\r\n",
    "from sklearn.tree import DecisionTreeClassifier\r\n",
    "from sklearn.tree import DecisionTreeRegressor\r\n",
    "from sklearn.model_selection import cross_val_score, StratifiedKFold\r\n",
    "from sklearn.metrics import accuracy_score, confusion_matrix, recall_score, precision_score, classification_report, f1_score\r\n",
    "from sklearn.metrics import roc_curve, roc_auc_score, plot_roc_curve, precision_recall_curve, average_precision_score, plot_precision_recall_curve\r\n",
    "\r\n",
    "import warnings\r\n",
    "warnings.filterwarnings('ignore')"
   ],
   "outputs": [],
   "metadata": {}
  },
  {
   "cell_type": "code",
   "execution_count": 2,
   "source": [
    "df = sns.load_dataset('tips')\r\n",
    "df"
   ],
   "outputs": [
    {
     "output_type": "execute_result",
     "data": {
      "text/html": [
       "<div>\n",
       "<style scoped>\n",
       "    .dataframe tbody tr th:only-of-type {\n",
       "        vertical-align: middle;\n",
       "    }\n",
       "\n",
       "    .dataframe tbody tr th {\n",
       "        vertical-align: top;\n",
       "    }\n",
       "\n",
       "    .dataframe thead th {\n",
       "        text-align: right;\n",
       "    }\n",
       "</style>\n",
       "<table border=\"1\" class=\"dataframe\">\n",
       "  <thead>\n",
       "    <tr style=\"text-align: right;\">\n",
       "      <th></th>\n",
       "      <th>total_bill</th>\n",
       "      <th>tip</th>\n",
       "      <th>sex</th>\n",
       "      <th>smoker</th>\n",
       "      <th>day</th>\n",
       "      <th>time</th>\n",
       "      <th>size</th>\n",
       "    </tr>\n",
       "  </thead>\n",
       "  <tbody>\n",
       "    <tr>\n",
       "      <th>0</th>\n",
       "      <td>16.99</td>\n",
       "      <td>1.01</td>\n",
       "      <td>Female</td>\n",
       "      <td>No</td>\n",
       "      <td>Sun</td>\n",
       "      <td>Dinner</td>\n",
       "      <td>2</td>\n",
       "    </tr>\n",
       "    <tr>\n",
       "      <th>1</th>\n",
       "      <td>10.34</td>\n",
       "      <td>1.66</td>\n",
       "      <td>Male</td>\n",
       "      <td>No</td>\n",
       "      <td>Sun</td>\n",
       "      <td>Dinner</td>\n",
       "      <td>3</td>\n",
       "    </tr>\n",
       "    <tr>\n",
       "      <th>2</th>\n",
       "      <td>21.01</td>\n",
       "      <td>3.50</td>\n",
       "      <td>Male</td>\n",
       "      <td>No</td>\n",
       "      <td>Sun</td>\n",
       "      <td>Dinner</td>\n",
       "      <td>3</td>\n",
       "    </tr>\n",
       "    <tr>\n",
       "      <th>3</th>\n",
       "      <td>23.68</td>\n",
       "      <td>3.31</td>\n",
       "      <td>Male</td>\n",
       "      <td>No</td>\n",
       "      <td>Sun</td>\n",
       "      <td>Dinner</td>\n",
       "      <td>2</td>\n",
       "    </tr>\n",
       "    <tr>\n",
       "      <th>4</th>\n",
       "      <td>24.59</td>\n",
       "      <td>3.61</td>\n",
       "      <td>Female</td>\n",
       "      <td>No</td>\n",
       "      <td>Sun</td>\n",
       "      <td>Dinner</td>\n",
       "      <td>4</td>\n",
       "    </tr>\n",
       "    <tr>\n",
       "      <th>...</th>\n",
       "      <td>...</td>\n",
       "      <td>...</td>\n",
       "      <td>...</td>\n",
       "      <td>...</td>\n",
       "      <td>...</td>\n",
       "      <td>...</td>\n",
       "      <td>...</td>\n",
       "    </tr>\n",
       "    <tr>\n",
       "      <th>239</th>\n",
       "      <td>29.03</td>\n",
       "      <td>5.92</td>\n",
       "      <td>Male</td>\n",
       "      <td>No</td>\n",
       "      <td>Sat</td>\n",
       "      <td>Dinner</td>\n",
       "      <td>3</td>\n",
       "    </tr>\n",
       "    <tr>\n",
       "      <th>240</th>\n",
       "      <td>27.18</td>\n",
       "      <td>2.00</td>\n",
       "      <td>Female</td>\n",
       "      <td>Yes</td>\n",
       "      <td>Sat</td>\n",
       "      <td>Dinner</td>\n",
       "      <td>2</td>\n",
       "    </tr>\n",
       "    <tr>\n",
       "      <th>241</th>\n",
       "      <td>22.67</td>\n",
       "      <td>2.00</td>\n",
       "      <td>Male</td>\n",
       "      <td>Yes</td>\n",
       "      <td>Sat</td>\n",
       "      <td>Dinner</td>\n",
       "      <td>2</td>\n",
       "    </tr>\n",
       "    <tr>\n",
       "      <th>242</th>\n",
       "      <td>17.82</td>\n",
       "      <td>1.75</td>\n",
       "      <td>Male</td>\n",
       "      <td>No</td>\n",
       "      <td>Sat</td>\n",
       "      <td>Dinner</td>\n",
       "      <td>2</td>\n",
       "    </tr>\n",
       "    <tr>\n",
       "      <th>243</th>\n",
       "      <td>18.78</td>\n",
       "      <td>3.00</td>\n",
       "      <td>Female</td>\n",
       "      <td>No</td>\n",
       "      <td>Thur</td>\n",
       "      <td>Dinner</td>\n",
       "      <td>2</td>\n",
       "    </tr>\n",
       "  </tbody>\n",
       "</table>\n",
       "<p>244 rows × 7 columns</p>\n",
       "</div>"
      ],
      "text/plain": [
       "     total_bill   tip     sex smoker   day    time  size\n",
       "0         16.99  1.01  Female     No   Sun  Dinner     2\n",
       "1         10.34  1.66    Male     No   Sun  Dinner     3\n",
       "2         21.01  3.50    Male     No   Sun  Dinner     3\n",
       "3         23.68  3.31    Male     No   Sun  Dinner     2\n",
       "4         24.59  3.61  Female     No   Sun  Dinner     4\n",
       "..          ...   ...     ...    ...   ...     ...   ...\n",
       "239       29.03  5.92    Male     No   Sat  Dinner     3\n",
       "240       27.18  2.00  Female    Yes   Sat  Dinner     2\n",
       "241       22.67  2.00    Male    Yes   Sat  Dinner     2\n",
       "242       17.82  1.75    Male     No   Sat  Dinner     2\n",
       "243       18.78  3.00  Female     No  Thur  Dinner     2\n",
       "\n",
       "[244 rows x 7 columns]"
      ]
     },
     "metadata": {},
     "execution_count": 2
    }
   ],
   "metadata": {}
  },
  {
   "cell_type": "code",
   "execution_count": 3,
   "source": [
    "x = df[['total_bill', 'sex', 'smoker', 'day', 'time']]\r\n",
    "x = pd.get_dummies(x, drop_first= True)\r\n",
    "y = df['tip']"
   ],
   "outputs": [],
   "metadata": {}
  },
  {
   "cell_type": "code",
   "execution_count": 5,
   "source": [
    "x_train, x_test, y_train, y_test = train_test_split(\r\n",
    "    x,\r\n",
    "    y,\r\n",
    "    test_size = 0.2,\r\n",
    "    random_state = 2020\r\n",
    ")"
   ],
   "outputs": [],
   "metadata": {}
  },
  {
   "cell_type": "markdown",
   "source": [
    "# MODEL"
   ],
   "metadata": {}
  },
  {
   "cell_type": "code",
   "execution_count": 14,
   "source": [
    "tree = DecisionTreeRegressor(criterion='mse', max_depth=5, random_state=2020)\r\n",
    "linreg = LinearRegression()"
   ],
   "outputs": [],
   "metadata": {}
  },
  {
   "cell_type": "code",
   "execution_count": 18,
   "source": [
    "tree_cv = cross_val_score(tree, x_train, y_train, scoring = 'r2')\r\n",
    "linreg_cv = cross_val_score(linreg, x_train, y_train, scoring = 'r2')"
   ],
   "outputs": [],
   "metadata": {}
  },
  {
   "cell_type": "code",
   "execution_count": 20,
   "source": [
    "print('Tree')\r\n",
    "print('Hasil Cross Validasi', tree_cv)\r\n",
    "print('Hasil Mean Cross Validasi', tree_cv.mean())\r\n",
    "print('Hasil STD Cross Validasi', tree_cv.std())"
   ],
   "outputs": [
    {
     "output_type": "stream",
     "name": "stdout",
     "text": [
      "Tree\n",
      "Hasil Cross Validasi [0.11865437 0.09663697 0.13388799 0.60844872 0.41722998]\n",
      "Hasil Mean Cross Validasi 0.27497160666626597\n",
      "Hasil STD Cross Validasi 0.2037583555823742\n"
     ]
    }
   ],
   "metadata": {}
  },
  {
   "cell_type": "code",
   "execution_count": 21,
   "source": [
    "print('Linreg')\r\n",
    "print('Hasil Cross Validasi', linreg_cv)\r\n",
    "print('Hasil Mean Cross Validasi', linreg_cv.mean())\r\n",
    "print('Hasil STD Cross Validasi', linreg_cv.std())"
   ],
   "outputs": [
    {
     "output_type": "stream",
     "name": "stdout",
     "text": [
      "Linreg\n",
      "Hasil Cross Validasi [0.27243371 0.18984475 0.31816682 0.46456813 0.44769515]\n",
      "Hasil Mean Cross Validasi 0.33854171153933316\n",
      "Hasil STD Cross Validasi 0.10458807015801638\n"
     ]
    }
   ],
   "metadata": {}
  },
  {
   "cell_type": "markdown",
   "source": [
    "# Tree test score"
   ],
   "metadata": {}
  },
  {
   "cell_type": "code",
   "execution_count": 22,
   "source": [
    "tree = DecisionTreeRegressor(criterion='mse', max_depth=5, random_state=2020)\r\n",
    "tree.fit(x_train,y_train)"
   ],
   "outputs": [
    {
     "output_type": "execute_result",
     "data": {
      "text/plain": [
       "DecisionTreeRegressor(max_depth=5, random_state=2020)"
      ]
     },
     "metadata": {},
     "execution_count": 22
    }
   ],
   "metadata": {}
  },
  {
   "cell_type": "code",
   "execution_count": 23,
   "source": [
    "y_pred = tree.predict(x_test)\r\n",
    "mean_squared_error(y_test, y_pred)"
   ],
   "outputs": [
    {
     "output_type": "execute_result",
     "data": {
      "text/plain": [
       "1.1723927020084088"
      ]
     },
     "metadata": {},
     "execution_count": 23
    }
   ],
   "metadata": {}
  },
  {
   "cell_type": "markdown",
   "source": [
    "# Hyperparameter Tuning untuk Tree"
   ],
   "metadata": {}
  },
  {
   "cell_type": "code",
   "execution_count": 29,
   "source": [
    "hyperparam = {\r\n",
    "    'min_samples_leaf': [1,5,10,15,20,50,100], # 6\r\n",
    "    'max_depth': [2,3,4,5,6,7], # 6\r\n",
    "    'criterion': ['mse', 'mae'] # 2\r\n",
    "}\r\n",
    "\r\n",
    "# 72 kombinasi yang akan dibandingkan\r\n",
    "# pilih 20 dari 72\r\n",
    "# random state 2020 ada 10 =  1 3 4 10\r\n",
    "\r\n",
    "tree = DecisionTreeRegressor(criterion='mse', max_depth=5, random_state=2020)\r\n",
    "\r\n",
    "randomized_search = RandomizedSearchCV(\r\n",
    "    tree,\r\n",
    "    param_distributions = hyperparam,\r\n",
    "    n_iter = 20,\r\n",
    "    cv = 5,\r\n",
    "    scoring = 'r2',\r\n",
    "    n_jobs = -1\r\n",
    ")\r\n"
   ],
   "outputs": [],
   "metadata": {}
  },
  {
   "cell_type": "code",
   "execution_count": 30,
   "source": [
    "randomized_search.fit(x_train, y_train)"
   ],
   "outputs": [
    {
     "output_type": "execute_result",
     "data": {
      "text/plain": [
       "RandomizedSearchCV(cv=5,\n",
       "                   estimator=DecisionTreeRegressor(max_depth=5,\n",
       "                                                   random_state=2020),\n",
       "                   n_iter=20, n_jobs=-1,\n",
       "                   param_distributions={'criterion': ['mse', 'mae'],\n",
       "                                        'max_depth': [2, 3, 4, 5, 6, 7],\n",
       "                                        'min_samples_leaf': [1, 5, 10, 15, 20,\n",
       "                                                             50, 100]},\n",
       "                   scoring='r2')"
      ]
     },
     "metadata": {},
     "execution_count": 30
    }
   ],
   "metadata": {}
  },
  {
   "cell_type": "code",
   "execution_count": 31,
   "source": [
    "randomized_search.best_score_"
   ],
   "outputs": [
    {
     "output_type": "execute_result",
     "data": {
      "text/plain": [
       "0.42723761679129024"
      ]
     },
     "metadata": {},
     "execution_count": 31
    }
   ],
   "metadata": {}
  },
  {
   "cell_type": "code",
   "execution_count": 32,
   "source": [
    "randomized_search.best_params_"
   ],
   "outputs": [
    {
     "output_type": "execute_result",
     "data": {
      "text/plain": [
       "{'min_samples_leaf': 1, 'max_depth': 3, 'criterion': 'mse'}"
      ]
     },
     "metadata": {},
     "execution_count": 32
    }
   ],
   "metadata": {}
  },
  {
   "cell_type": "code",
   "execution_count": 35,
   "source": [
    "hasil_cv = pd.DataFrame(randomized_search.cv_results_)\r\n",
    "hasil_cv[hasil_cv['param_min_samples_leaf'] == 1]"
   ],
   "outputs": [
    {
     "output_type": "execute_result",
     "data": {
      "text/html": [
       "<div>\n",
       "<style scoped>\n",
       "    .dataframe tbody tr th:only-of-type {\n",
       "        vertical-align: middle;\n",
       "    }\n",
       "\n",
       "    .dataframe tbody tr th {\n",
       "        vertical-align: top;\n",
       "    }\n",
       "\n",
       "    .dataframe thead th {\n",
       "        text-align: right;\n",
       "    }\n",
       "</style>\n",
       "<table border=\"1\" class=\"dataframe\">\n",
       "  <thead>\n",
       "    <tr style=\"text-align: right;\">\n",
       "      <th></th>\n",
       "      <th>mean_fit_time</th>\n",
       "      <th>std_fit_time</th>\n",
       "      <th>mean_score_time</th>\n",
       "      <th>std_score_time</th>\n",
       "      <th>param_min_samples_leaf</th>\n",
       "      <th>param_max_depth</th>\n",
       "      <th>param_criterion</th>\n",
       "      <th>params</th>\n",
       "      <th>split0_test_score</th>\n",
       "      <th>split1_test_score</th>\n",
       "      <th>split2_test_score</th>\n",
       "      <th>split3_test_score</th>\n",
       "      <th>split4_test_score</th>\n",
       "      <th>mean_test_score</th>\n",
       "      <th>std_test_score</th>\n",
       "      <th>rank_test_score</th>\n",
       "    </tr>\n",
       "  </thead>\n",
       "  <tbody>\n",
       "    <tr>\n",
       "      <th>5</th>\n",
       "      <td>0.006209</td>\n",
       "      <td>0.001171</td>\n",
       "      <td>0.004598</td>\n",
       "      <td>0.002344</td>\n",
       "      <td>1</td>\n",
       "      <td>3</td>\n",
       "      <td>mae</td>\n",
       "      <td>{'min_samples_leaf': 1, 'max_depth': 3, 'crite...</td>\n",
       "      <td>0.279180</td>\n",
       "      <td>0.187959</td>\n",
       "      <td>0.276184</td>\n",
       "      <td>0.671596</td>\n",
       "      <td>0.508687</td>\n",
       "      <td>0.384721</td>\n",
       "      <td>0.178493</td>\n",
       "      <td>2</td>\n",
       "    </tr>\n",
       "    <tr>\n",
       "      <th>7</th>\n",
       "      <td>0.006296</td>\n",
       "      <td>0.002044</td>\n",
       "      <td>0.003405</td>\n",
       "      <td>0.001012</td>\n",
       "      <td>1</td>\n",
       "      <td>2</td>\n",
       "      <td>mae</td>\n",
       "      <td>{'min_samples_leaf': 1, 'max_depth': 2, 'crite...</td>\n",
       "      <td>0.349978</td>\n",
       "      <td>0.182995</td>\n",
       "      <td>0.162519</td>\n",
       "      <td>0.507202</td>\n",
       "      <td>0.331705</td>\n",
       "      <td>0.306880</td>\n",
       "      <td>0.125531</td>\n",
       "      <td>5</td>\n",
       "    </tr>\n",
       "    <tr>\n",
       "      <th>13</th>\n",
       "      <td>0.004373</td>\n",
       "      <td>0.000471</td>\n",
       "      <td>0.004787</td>\n",
       "      <td>0.002034</td>\n",
       "      <td>1</td>\n",
       "      <td>3</td>\n",
       "      <td>mse</td>\n",
       "      <td>{'min_samples_leaf': 1, 'max_depth': 3, 'crite...</td>\n",
       "      <td>0.401605</td>\n",
       "      <td>0.344567</td>\n",
       "      <td>0.172655</td>\n",
       "      <td>0.660094</td>\n",
       "      <td>0.557267</td>\n",
       "      <td>0.427238</td>\n",
       "      <td>0.169371</td>\n",
       "      <td>1</td>\n",
       "    </tr>\n",
       "  </tbody>\n",
       "</table>\n",
       "</div>"
      ],
      "text/plain": [
       "    mean_fit_time  std_fit_time  mean_score_time  std_score_time  \\\n",
       "5        0.006209      0.001171         0.004598        0.002344   \n",
       "7        0.006296      0.002044         0.003405        0.001012   \n",
       "13       0.004373      0.000471         0.004787        0.002034   \n",
       "\n",
       "   param_min_samples_leaf param_max_depth param_criterion  \\\n",
       "5                       1               3             mae   \n",
       "7                       1               2             mae   \n",
       "13                      1               3             mse   \n",
       "\n",
       "                                               params  split0_test_score  \\\n",
       "5   {'min_samples_leaf': 1, 'max_depth': 3, 'crite...           0.279180   \n",
       "7   {'min_samples_leaf': 1, 'max_depth': 2, 'crite...           0.349978   \n",
       "13  {'min_samples_leaf': 1, 'max_depth': 3, 'crite...           0.401605   \n",
       "\n",
       "    split1_test_score  split2_test_score  split3_test_score  \\\n",
       "5            0.187959           0.276184           0.671596   \n",
       "7            0.182995           0.162519           0.507202   \n",
       "13           0.344567           0.172655           0.660094   \n",
       "\n",
       "    split4_test_score  mean_test_score  std_test_score  rank_test_score  \n",
       "5            0.508687         0.384721        0.178493                2  \n",
       "7            0.331705         0.306880        0.125531                5  \n",
       "13           0.557267         0.427238        0.169371                1  "
      ]
     },
     "metadata": {},
     "execution_count": 35
    }
   ],
   "metadata": {}
  }
 ],
 "metadata": {
  "orig_nbformat": 4,
  "language_info": {
   "name": "python",
   "version": "3.8.8",
   "mimetype": "text/x-python",
   "codemirror_mode": {
    "name": "ipython",
    "version": 3
   },
   "pygments_lexer": "ipython3",
   "nbconvert_exporter": "python",
   "file_extension": ".py"
  },
  "kernelspec": {
   "name": "python3",
   "display_name": "Python 3.8.8 64-bit ('base': conda)"
  },
  "interpreter": {
   "hash": "7535770d6d9671ed493a7afcc4979271e63db332b4e5f67d7f7911eb0b2237d5"
  }
 },
 "nbformat": 4,
 "nbformat_minor": 2
}