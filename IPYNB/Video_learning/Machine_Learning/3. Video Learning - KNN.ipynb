{
 "cells": [
  {
   "cell_type": "markdown",
   "source": [
    "# KNN"
   ],
   "metadata": {}
  },
  {
   "cell_type": "markdown",
   "source": [
    "### Analyze data white_wine.csv\r\n",
    "- Apply KNN Method (K = 3)\r\n",
    "    - Target    : Quality (quality > 6 -> y = 1 good, y = 0 bad)\r\n",
    "    - Features  : Density & Alcohol\r\n",
    "- Validate the model using accuracy in 20% testing data\r\n",
    "- Apply scalling and Validate the model using accuracy in 20% testing data\r\n",
    "- Apply scaling Choose Factor K based on accuracy\r\n",
    "    - K = (1, 3, 5,.....,29)"
   ],
   "metadata": {}
  },
  {
   "cell_type": "markdown",
   "source": [
    "# Data"
   ],
   "metadata": {}
  },
  {
   "cell_type": "code",
   "execution_count": null,
   "source": [
    "import pandas as pd\r\n",
    "import numpy as np"
   ],
   "outputs": [],
   "metadata": {}
  },
  {
   "cell_type": "code",
   "execution_count": null,
   "source": [
    "wine = pd.read_csv(r'C:\\Users\\dheof\\Desktop\\Help\\Purwadhika\\Csv_Files\\white_wine.csv')\r\n",
    "wine"
   ],
   "outputs": [],
   "metadata": {}
  },
  {
   "cell_type": "code",
   "execution_count": null,
   "source": [
    "wine['quality'].describe()"
   ],
   "outputs": [],
   "metadata": {}
  },
  {
   "cell_type": "code",
   "execution_count": null,
   "source": [
    "wine['label'] = np.where(wine['quality'] > 6, 1, 0)\r\n",
    "wine[['quality', 'label']]"
   ],
   "outputs": [],
   "metadata": {}
  },
  {
   "cell_type": "code",
   "execution_count": null,
   "source": [
    "wine[['quality', 'label']][wine['label'] == 1]"
   ],
   "outputs": [],
   "metadata": {}
  },
  {
   "cell_type": "markdown",
   "source": [
    "## EDA"
   ],
   "metadata": {}
  },
  {
   "cell_type": "code",
   "execution_count": null,
   "source": [
    "import seaborn as sns"
   ],
   "outputs": [],
   "metadata": {}
  },
  {
   "cell_type": "code",
   "execution_count": null,
   "source": [
    "sns.scatterplot(x = 'density', y = 'alcohol', hue = 'label', data = wine)"
   ],
   "outputs": [],
   "metadata": {}
  },
  {
   "cell_type": "code",
   "execution_count": null,
   "source": [
    "wine[['alcohol', 'density']].isnull().sum() ## MENGECEK APAKAH ADA MISSING VALUE (NA) ATAU TIDAK"
   ],
   "outputs": [],
   "metadata": {}
  },
  {
   "cell_type": "code",
   "execution_count": null,
   "source": [
    "    wine['alcohol'].fillna(wine['alcohol'].mean(), inplace = True) ## MENGISI NA DENGAN NILAI RATA2 ALCOHOL"
   ],
   "outputs": [],
   "metadata": {}
  },
  {
   "cell_type": "code",
   "execution_count": null,
   "source": [
    "wine[['alcohol', 'density']].isnull().sum() ## NA SUDAH TERISI DENGAN NILAI RATA2 ALCOHOL"
   ],
   "outputs": [],
   "metadata": {}
  },
  {
   "cell_type": "markdown",
   "source": [
    "## Data Splitting"
   ],
   "metadata": {}
  },
  {
   "cell_type": "code",
   "execution_count": null,
   "source": [
    "from sklearn.model_selection import train_test_split"
   ],
   "outputs": [],
   "metadata": {}
  },
  {
   "cell_type": "code",
   "execution_count": null,
   "source": [
    "x = wine[['alcohol', 'density']]\r\n",
    "y = wine['label']"
   ],
   "outputs": [],
   "metadata": {}
  },
  {
   "cell_type": "code",
   "execution_count": null,
   "source": [
    "x_train, x_test, y_train, y_test = train_test_split(\r\n",
    "    x,\r\n",
    "    y,\r\n",
    "    test_size = 0.2,\r\n",
    "    random_state = 2020\r\n",
    ")"
   ],
   "outputs": [],
   "metadata": {}
  },
  {
   "cell_type": "markdown",
   "source": [
    "## Scalling"
   ],
   "metadata": {}
  },
  {
   "cell_type": "markdown",
   "source": [
    "### Scaler.fit hanya pada train agar hasil pengukuran performa model valid"
   ],
   "metadata": {}
  },
  {
   "cell_type": "code",
   "execution_count": 1,
   "source": [
    "from sklearn.preprocessing import MinMaxScaler"
   ],
   "outputs": [],
   "metadata": {}
  },
  {
   "cell_type": "code",
   "execution_count": null,
   "source": [
    "scaler = MinMaxScaler()\r\n",
    "scaler.fit(x_train)\r\n",
    "x_train_scaled = scaler.transform(x_train)\r\n",
    "x_test_scaled = scaler.transform(x_test)"
   ],
   "outputs": [],
   "metadata": {}
  },
  {
   "cell_type": "code",
   "execution_count": null,
   "source": [
    "x_test"
   ],
   "outputs": [],
   "metadata": {}
  },
  {
   "cell_type": "code",
   "execution_count": null,
   "source": [
    "x_train"
   ],
   "outputs": [],
   "metadata": {}
  },
  {
   "cell_type": "markdown",
   "source": [
    "## KNN without scaling"
   ],
   "metadata": {}
  },
  {
   "cell_type": "code",
   "execution_count": null,
   "source": [
    "from sklearn.neighbors import KNeighborsClassifier\r\n",
    "from sklearn.metrics import accuracy_score"
   ],
   "outputs": [],
   "metadata": {}
  },
  {
   "cell_type": "code",
   "execution_count": null,
   "source": [
    "knn = KNeighborsClassifier(n_neighbors = 3)  ##DEFINISI MODEL\r\n",
    "knn.fit(x_train, y_train) ## TRAINING MODEL"
   ],
   "outputs": [],
   "metadata": {}
  },
  {
   "cell_type": "code",
   "execution_count": null,
   "source": [
    "y_pred_class = knn.predict(x_test)"
   ],
   "outputs": [],
   "metadata": {}
  },
  {
   "cell_type": "code",
   "execution_count": null,
   "source": [
    "print('Nilai akurasinya adalah', accuracy_score(y_test, y_pred_class) * 100, '%')"
   ],
   "outputs": [],
   "metadata": {}
  },
  {
   "cell_type": "markdown",
   "source": [
    "## KNN with Scaling"
   ],
   "metadata": {}
  },
  {
   "cell_type": "code",
   "execution_count": null,
   "source": [
    "knn_scaled = KNeighborsClassifier(n_neighbors = 3)  ##DEFINISI MODEL\r\n",
    "knn_scaled.fit(x_train_scaled, y_train)"
   ],
   "outputs": [],
   "metadata": {}
  },
  {
   "cell_type": "code",
   "execution_count": null,
   "source": [
    "y_pred_class_scaled = knn_scaled.predict(x_test_scaled)"
   ],
   "outputs": [],
   "metadata": {}
  },
  {
   "cell_type": "code",
   "execution_count": null,
   "source": [
    "print('Nilai akurasinya adalah', accuracy_score(y_test, y_pred_class_scaled) * 100, '%')"
   ],
   "outputs": [],
   "metadata": {}
  },
  {
   "cell_type": "markdown",
   "source": [
    "### Memilih faktor K terbaik\r\n",
    "### Faktor K: 1,3,5,7...29"
   ],
   "metadata": {}
  },
  {
   "cell_type": "code",
   "execution_count": null,
   "source": [
    "import matplotlib.pyplot as plt"
   ],
   "outputs": [],
   "metadata": {}
  },
  {
   "cell_type": "code",
   "execution_count": null,
   "source": [
    "k = range(1, 30, 2) ## 1 3 5 ... 29\r\n",
    "testing_accuracies = []\r\n",
    "training_accuracies = []\r\n",
    "score = 0\r\n",
    "\r\n",
    "for i in k:\r\n",
    "    knn = KNeighborsClassifier(n_neighbors = i)\r\n",
    "    knn.fit(x_train_scaled, y_train)\r\n",
    "\r\n",
    "    y_pred_train = knn.predict(x_train_scaled)\r\n",
    "    acc_train = accuracy_score(y_train, y_pred_train)\r\n",
    "    training_accuracies.append(acc_train)\r\n",
    "\r\n",
    "    y_pred_test = knn.predict(x_test_scaled)\r\n",
    "    acc_test = accuracy_score(y_test, y_pred_test)\r\n",
    "    testing_accuracies.append(acc_test)\r\n",
    "\r\n",
    "    if score < acc_test:\r\n",
    "        score = acc_test\r\n",
    "        best_k = i"
   ],
   "outputs": [],
   "metadata": {}
  },
  {
   "cell_type": "markdown",
   "source": [
    "- i = 1 --> score 0 --> acc_test = 80 --> score = 80 --> best = 1\r\n",
    "- i = 3 --> score 80 -- > acc test = 79 --> score = 80 --> best = 1\r\n",
    "- i = 5 --> score 80 --> acc_test = 82 --> score = 82 --> best = 5\r\n"
   ],
   "metadata": {}
  },
  {
   "cell_type": "code",
   "execution_count": null,
   "source": [
    "print('faktor k terbaik', best_k)\r\n",
    "print('Score', score)"
   ],
   "outputs": [],
   "metadata": {}
  },
  {
   "cell_type": "code",
   "execution_count": null,
   "source": [
    "sns.lineplot(k, testing_accuracies)\r\n",
    "sns.scatterplot(k, testing_accuracies)\r\n",
    "\r\n",
    "sns.lineplot(k, training_accuracies)\r\n",
    "sns.scatterplot(k, training_accuracies)"
   ],
   "outputs": [],
   "metadata": {}
  }
 ],
 "metadata": {
  "orig_nbformat": 4,
  "language_info": {
   "name": "python",
   "version": "3.8.8",
   "mimetype": "text/x-python",
   "codemirror_mode": {
    "name": "ipython",
    "version": 3
   },
   "pygments_lexer": "ipython3",
   "nbconvert_exporter": "python",
   "file_extension": ".py"
  },
  "kernelspec": {
   "name": "python3",
   "display_name": "Python 3.8.8 64-bit ('base': conda)"
  },
  "interpreter": {
   "hash": "7535770d6d9671ed493a7afcc4979271e63db332b4e5f67d7f7911eb0b2237d5"
  }
 },
 "nbformat": 4,
 "nbformat_minor": 2
}