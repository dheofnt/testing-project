{
 "cells": [
  {
   "cell_type": "markdown",
   "metadata": {},
   "source": [
    "# 1. Resampling and Penalized Model"
   ]
  },
  {
   "cell_type": "markdown",
   "metadata": {},
   "source": [
    "- Analyze data bankloan.csv\n",
    "    - Build a logistic regression model\n",
    "        - Target: default\n",
    "        - Features: Employ, debtinc, creddebt, othdebt\n",
    "    - Explore the class disribution\n",
    "    - Random State 2020, stratified training 60%, validation 20, testing 20\n",
    "    - Modeling evaluate by f1 score:\n",
    "        - Logistic regression without any treatment\n",
    "        - Logistic regression that optimized by the threshold\n",
    "        - Logistic regression with random undersampling\n",
    "        - Penalized logistic regression"
   ]
  },
  {
   "cell_type": "code",
   "execution_count": 1,
   "metadata": {},
   "outputs": [
    {
     "name": "stdout",
     "output_type": "stream",
     "text": [
      "Collecting imblearn\n",
      "  Downloading imblearn-0.0-py2.py3-none-any.whl (1.9 kB)\n",
      "Collecting imbalanced-learn\n",
      "  Downloading imbalanced_learn-0.8.1-py3-none-any.whl (189 kB)\n",
      "Requirement already satisfied: joblib>=0.11 in c:\\users\\dheof\\anaconda3\\lib\\site-packages (from imbalanced-learn->imblearn) (1.0.1)\n",
      "Requirement already satisfied: scipy>=0.19.1 in c:\\users\\dheof\\anaconda3\\lib\\site-packages (from imbalanced-learn->imblearn) (1.6.2)\n",
      "Requirement already satisfied: scikit-learn>=0.24 in c:\\users\\dheof\\anaconda3\\lib\\site-packages (from imbalanced-learn->imblearn) (0.24.1)\n",
      "Requirement already satisfied: numpy>=1.13.3 in c:\\users\\dheof\\anaconda3\\lib\\site-packages (from imbalanced-learn->imblearn) (1.20.1)\n",
      "Requirement already satisfied: threadpoolctl>=2.0.0 in c:\\users\\dheof\\anaconda3\\lib\\site-packages (from scikit-learn>=0.24->imbalanced-learn->imblearn) (2.1.0)\n",
      "Installing collected packages: imbalanced-learn, imblearn\n",
      "Successfully installed imbalanced-learn-0.8.1 imblearn-0.0\n"
     ]
    }
   ],
   "source": [
    "!pip install imblearn"
   ]
  },
  {
   "cell_type": "code",
   "execution_count": 2,
   "metadata": {},
   "outputs": [],
   "source": [
    "import pandas as pd\n",
    "import numpy as np\n",
    "\n",
    "import seaborn as sns\n",
    "import matplotlib.pyplot as plt\n",
    "\n",
    "from sklearn.model_selection import train_test_split\n",
    "from imblearn.over_sampling import RandomOverSampler, SMOTE\n",
    "from imblearn.under_sampling import RandomUnderSampler, NearMiss\n",
    "\n",
    "from sklearn.linear_model import LogisticRegression\n",
    "\n",
    "from sklearn.metrics import plot_roc_curve\n",
    "from sklearn.metrics import classification_report, f1_score\n",
    "\n",
    "import warnings\n",
    "warnings.filterwarnings('ignore')"
   ]
  },
  {
   "cell_type": "code",
   "execution_count": 3,
   "metadata": {},
   "outputs": [
    {
     "data": {
      "text/html": [
       "<div>\n",
       "<style scoped>\n",
       "    .dataframe tbody tr th:only-of-type {\n",
       "        vertical-align: middle;\n",
       "    }\n",
       "\n",
       "    .dataframe tbody tr th {\n",
       "        vertical-align: top;\n",
       "    }\n",
       "\n",
       "    .dataframe thead th {\n",
       "        text-align: right;\n",
       "    }\n",
       "</style>\n",
       "<table border=\"1\" class=\"dataframe\">\n",
       "  <thead>\n",
       "    <tr style=\"text-align: right;\">\n",
       "      <th></th>\n",
       "      <th>age</th>\n",
       "      <th>ed</th>\n",
       "      <th>employ</th>\n",
       "      <th>address</th>\n",
       "      <th>income</th>\n",
       "      <th>debtinc</th>\n",
       "      <th>creddebt</th>\n",
       "      <th>othdebt</th>\n",
       "      <th>default</th>\n",
       "    </tr>\n",
       "  </thead>\n",
       "  <tbody>\n",
       "    <tr>\n",
       "      <th>0</th>\n",
       "      <td>41</td>\n",
       "      <td>3</td>\n",
       "      <td>17</td>\n",
       "      <td>12</td>\n",
       "      <td>176</td>\n",
       "      <td>9.3</td>\n",
       "      <td>11.359392</td>\n",
       "      <td>5.008608</td>\n",
       "      <td>1</td>\n",
       "    </tr>\n",
       "    <tr>\n",
       "      <th>1</th>\n",
       "      <td>27</td>\n",
       "      <td>1</td>\n",
       "      <td>10</td>\n",
       "      <td>6</td>\n",
       "      <td>31</td>\n",
       "      <td>17.3</td>\n",
       "      <td>1.362202</td>\n",
       "      <td>4.000798</td>\n",
       "      <td>0</td>\n",
       "    </tr>\n",
       "    <tr>\n",
       "      <th>2</th>\n",
       "      <td>40</td>\n",
       "      <td>1</td>\n",
       "      <td>15</td>\n",
       "      <td>14</td>\n",
       "      <td>55</td>\n",
       "      <td>5.5</td>\n",
       "      <td>0.856075</td>\n",
       "      <td>2.168925</td>\n",
       "      <td>0</td>\n",
       "    </tr>\n",
       "    <tr>\n",
       "      <th>3</th>\n",
       "      <td>41</td>\n",
       "      <td>1</td>\n",
       "      <td>15</td>\n",
       "      <td>14</td>\n",
       "      <td>120</td>\n",
       "      <td>2.9</td>\n",
       "      <td>2.658720</td>\n",
       "      <td>0.821280</td>\n",
       "      <td>0</td>\n",
       "    </tr>\n",
       "    <tr>\n",
       "      <th>4</th>\n",
       "      <td>24</td>\n",
       "      <td>2</td>\n",
       "      <td>2</td>\n",
       "      <td>0</td>\n",
       "      <td>28</td>\n",
       "      <td>17.3</td>\n",
       "      <td>1.787436</td>\n",
       "      <td>3.056564</td>\n",
       "      <td>1</td>\n",
       "    </tr>\n",
       "    <tr>\n",
       "      <th>...</th>\n",
       "      <td>...</td>\n",
       "      <td>...</td>\n",
       "      <td>...</td>\n",
       "      <td>...</td>\n",
       "      <td>...</td>\n",
       "      <td>...</td>\n",
       "      <td>...</td>\n",
       "      <td>...</td>\n",
       "      <td>...</td>\n",
       "    </tr>\n",
       "    <tr>\n",
       "      <th>695</th>\n",
       "      <td>36</td>\n",
       "      <td>2</td>\n",
       "      <td>6</td>\n",
       "      <td>15</td>\n",
       "      <td>27</td>\n",
       "      <td>4.6</td>\n",
       "      <td>0.262062</td>\n",
       "      <td>0.979938</td>\n",
       "      <td>1</td>\n",
       "    </tr>\n",
       "    <tr>\n",
       "      <th>696</th>\n",
       "      <td>29</td>\n",
       "      <td>2</td>\n",
       "      <td>6</td>\n",
       "      <td>4</td>\n",
       "      <td>21</td>\n",
       "      <td>11.5</td>\n",
       "      <td>0.369495</td>\n",
       "      <td>2.045505</td>\n",
       "      <td>0</td>\n",
       "    </tr>\n",
       "    <tr>\n",
       "      <th>697</th>\n",
       "      <td>33</td>\n",
       "      <td>1</td>\n",
       "      <td>15</td>\n",
       "      <td>3</td>\n",
       "      <td>32</td>\n",
       "      <td>7.6</td>\n",
       "      <td>0.491264</td>\n",
       "      <td>1.940736</td>\n",
       "      <td>0</td>\n",
       "    </tr>\n",
       "    <tr>\n",
       "      <th>698</th>\n",
       "      <td>45</td>\n",
       "      <td>1</td>\n",
       "      <td>19</td>\n",
       "      <td>22</td>\n",
       "      <td>77</td>\n",
       "      <td>8.4</td>\n",
       "      <td>2.302608</td>\n",
       "      <td>4.165392</td>\n",
       "      <td>0</td>\n",
       "    </tr>\n",
       "    <tr>\n",
       "      <th>699</th>\n",
       "      <td>37</td>\n",
       "      <td>1</td>\n",
       "      <td>12</td>\n",
       "      <td>14</td>\n",
       "      <td>44</td>\n",
       "      <td>14.7</td>\n",
       "      <td>2.994684</td>\n",
       "      <td>3.473316</td>\n",
       "      <td>0</td>\n",
       "    </tr>\n",
       "  </tbody>\n",
       "</table>\n",
       "<p>700 rows × 9 columns</p>\n",
       "</div>"
      ],
      "text/plain": [
       "     age  ed  employ  address  income  debtinc   creddebt   othdebt  default\n",
       "0     41   3      17       12     176      9.3  11.359392  5.008608        1\n",
       "1     27   1      10        6      31     17.3   1.362202  4.000798        0\n",
       "2     40   1      15       14      55      5.5   0.856075  2.168925        0\n",
       "3     41   1      15       14     120      2.9   2.658720  0.821280        0\n",
       "4     24   2       2        0      28     17.3   1.787436  3.056564        1\n",
       "..   ...  ..     ...      ...     ...      ...        ...       ...      ...\n",
       "695   36   2       6       15      27      4.6   0.262062  0.979938        1\n",
       "696   29   2       6        4      21     11.5   0.369495  2.045505        0\n",
       "697   33   1      15        3      32      7.6   0.491264  1.940736        0\n",
       "698   45   1      19       22      77      8.4   2.302608  4.165392        0\n",
       "699   37   1      12       14      44     14.7   2.994684  3.473316        0\n",
       "\n",
       "[700 rows x 9 columns]"
      ]
     },
     "execution_count": 3,
     "metadata": {},
     "output_type": "execute_result"
    }
   ],
   "source": [
    "df = pd.read_csv(r'C:\\Users\\dheof\\Desktop\\Help\\Purwadhika\\Csv_Files\\bankloan.csv')\n",
    "df"
   ]
  },
  {
   "cell_type": "code",
   "execution_count": 4,
   "metadata": {},
   "outputs": [
    {
     "data": {
      "text/plain": [
       "0    517\n",
       "1    183\n",
       "Name: default, dtype: int64"
      ]
     },
     "execution_count": 4,
     "metadata": {},
     "output_type": "execute_result"
    }
   ],
   "source": [
    "df['default'].value_counts()"
   ]
  },
  {
   "cell_type": "code",
   "execution_count": 5,
   "metadata": {},
   "outputs": [
    {
     "data": {
      "text/plain": [
       "0    0.738571\n",
       "1    0.261429\n",
       "Name: default, dtype: float64"
      ]
     },
     "execution_count": 5,
     "metadata": {},
     "output_type": "execute_result"
    }
   ],
   "source": [
    "df['default'].value_counts()/df.shape[0]"
   ]
  },
  {
   "cell_type": "markdown",
   "metadata": {},
   "source": [
    "## 1.1 Data Splitting"
   ]
  },
  {
   "cell_type": "markdown",
   "metadata": {},
   "source": [
    "60 TRAIN, 20 VALIDATION, 20 TEST"
   ]
  },
  {
   "cell_type": "code",
   "execution_count": 8,
   "metadata": {},
   "outputs": [],
   "source": [
    "x = df[['employ', 'debtinc', 'creddebt', 'othdebt']]\n",
    "y = df['default']"
   ]
  },
  {
   "cell_type": "code",
   "execution_count": 9,
   "metadata": {},
   "outputs": [],
   "source": [
    "# UNTUK TEST SET\n",
    "x_trainval, x_test, y_trainval, y_test = train_test_split(\n",
    "    x,\n",
    "    y,\n",
    "    random_state = 2020,\n",
    "    stratify = y,\n",
    "    test_size = 0.2\n",
    ")"
   ]
  },
  {
   "cell_type": "code",
   "execution_count": 10,
   "metadata": {},
   "outputs": [],
   "source": [
    "# UNTUK VALIDATION SET\n",
    "x_train, x_val, y_train, y_val = train_test_split(\n",
    "    x_trainval,\n",
    "    y_trainval,\n",
    "    random_state = 2020,\n",
    "    stratify = y_trainval,\n",
    "    test_size = 0.2\n",
    ")"
   ]
  },
  {
   "cell_type": "markdown",
   "metadata": {},
   "source": [
    "KITA BANDINGKAN KE 4 DIBAWAH INI MANA YG TERBAIK\n",
    "\n",
    "- Logistic regression without any treatment\n",
    "- Logistic regression that optimized by the threshold\n",
    "- Logistic regression with random undersampling\n",
    "- Penalized logistic regression"
   ]
  },
  {
   "cell_type": "markdown",
   "metadata": {},
   "source": [
    "## 1.2 Logistic"
   ]
  },
  {
   "cell_type": "code",
   "execution_count": 11,
   "metadata": {},
   "outputs": [
    {
     "data": {
      "text/plain": [
       "LogisticRegression()"
      ]
     },
     "execution_count": 11,
     "metadata": {},
     "output_type": "execute_result"
    }
   ],
   "source": [
    "model = LogisticRegression()\n",
    "model.fit(x_train, y_train)"
   ]
  },
  {
   "cell_type": "code",
   "execution_count": 12,
   "metadata": {},
   "outputs": [
    {
     "name": "stdout",
     "output_type": "stream",
     "text": [
      "              precision    recall  f1-score   support\n",
      "\n",
      "           0       0.84      0.92      0.87        83\n",
      "           1       0.67      0.48      0.56        29\n",
      "\n",
      "    accuracy                           0.80       112\n",
      "   macro avg       0.75      0.70      0.72       112\n",
      "weighted avg       0.79      0.80      0.79       112\n",
      "\n"
     ]
    }
   ],
   "source": [
    "y_pred = model.predict(x_val)\n",
    "print(classification_report(y_val, y_pred)) # THRESHOLD 0.5"
   ]
  },
  {
   "cell_type": "code",
   "execution_count": 13,
   "metadata": {},
   "outputs": [
    {
     "data": {
      "text/plain": [
       "<sklearn.metrics._plot.roc_curve.RocCurveDisplay at 0x23fb69150a0>"
      ]
     },
     "execution_count": 13,
     "metadata": {},
     "output_type": "execute_result"
    },
    {
     "data": {
      "image/png": "[encoded data removed]",
      "text/plain": [
       "<Figure size 432x288 with 1 Axes>"
      ]
     },
     "metadata": {
      "needs_background": "light"
     },
     "output_type": "display_data"
    }
   ],
   "source": [
    "plot_roc_curve(model, x_val, y_val)"
   ]
  },
  {
   "cell_type": "markdown",
   "metadata": {},
   "source": [
    "## 1.3 Logistic Optimized threshold"
   ]
  },
  {
   "cell_type": "code",
   "execution_count": 18,
   "metadata": {},
   "outputs": [],
   "source": [
    "th_value = [i/100 for i in range(20, 61)]\n",
    "score = 0\n",
    "score_list = []\n",
    "\n",
    "for i in th_value:\n",
    "    #perhitungan score\n",
    "    y_prob = model.predict_proba(x_val)[:,1]\n",
    "    y_pred = np.where(y_prob > i, 1, 0)\n",
    "    score_temp = f1_score(y_val, y_pred)\n",
    "\n",
    "    #penyimpanan hasil score\n",
    "    score_list.append(score_temp)\n",
    "\n",
    "    #comparasi:penentuan score terbaik\n",
    "    if score_temp > score:\n",
    "        score = score_temp\n",
    "        best_th = i"
   ]
  },
  {
   "cell_type": "code",
   "execution_count": 21,
   "metadata": {},
   "outputs": [
    {
     "name": "stdout",
     "output_type": "stream",
     "text": [
      "Bet F1_Score 0.6451612903225807\n",
      "Best Threshold 0.37\n"
     ]
    }
   ],
   "source": [
    "print('Bet F1_Score', score)\n",
    "print('Best Threshold', best_th)"
   ]
  },
  {
   "cell_type": "code",
   "execution_count": 22,
   "metadata": {},
   "outputs": [
    {
     "data": {
      "text/plain": [
       "Text(0, 0.5, 'Score')"
      ]
     },
     "execution_count": 22,
     "metadata": {},
     "output_type": "execute_result"
    },
    {
     "data": {
      "image/png": "[encoded data removed]",
      "text/plain": [
       "<Figure size 432x288 with 1 Axes>"
      ]
     },
     "metadata": {
      "needs_background": "light"
     },
     "output_type": "display_data"
    }
   ],
   "source": [
    "sns.lineplot(th_value, score_list)\n",
    "plt.xlabel('Threshold')\n",
    "plt.ylabel('F1 Score')"
   ]
  },
  {
   "cell_type": "markdown",
   "metadata": {},
   "source": [
    "## 1.4 Logistic with Random Undersampling (RUS)"
   ]
  },
  {
   "cell_type": "code",
   "execution_count": 23,
   "metadata": {},
   "outputs": [],
   "source": [
    "rus = RandomUnderSampler()\n",
    "x_under, y_under = rus.fit_resample(x_train, y_train)"
   ]
  },
  {
   "cell_type": "code",
   "execution_count": 25,
   "metadata": {},
   "outputs": [
    {
     "data": {
      "text/plain": [
       "234"
      ]
     },
     "execution_count": 25,
     "metadata": {},
     "output_type": "execute_result"
    }
   ],
   "source": [
    "len(y_under)"
   ]
  },
  {
   "cell_type": "code",
   "execution_count": 26,
   "metadata": {},
   "outputs": [
    {
     "data": {
      "text/plain": [
       "448"
      ]
     },
     "execution_count": 26,
     "metadata": {},
     "output_type": "execute_result"
    }
   ],
   "source": [
    "len(y_train)"
   ]
  },
  {
   "cell_type": "code",
   "execution_count": 27,
   "metadata": {},
   "outputs": [
    {
     "data": {
      "text/plain": [
       "LogisticRegression()"
      ]
     },
     "execution_count": 27,
     "metadata": {},
     "output_type": "execute_result"
    }
   ],
   "source": [
    "model_rus = LogisticRegression()\n",
    "model_rus.fit(x_under, y_under)"
   ]
  },
  {
   "cell_type": "code",
   "execution_count": 28,
   "metadata": {},
   "outputs": [
    {
     "name": "stdout",
     "output_type": "stream",
     "text": [
      "              precision    recall  f1-score   support\n",
      "\n",
      "           0       0.90      0.73      0.81        83\n",
      "           1       0.50      0.76      0.60        29\n",
      "\n",
      "    accuracy                           0.74       112\n",
      "   macro avg       0.70      0.75      0.71       112\n",
      "weighted avg       0.79      0.74      0.75       112\n",
      "\n"
     ]
    }
   ],
   "source": [
    "y_pred = model_rus.predict(x_val)\n",
    "print(classification_report(y_val, y_pred))"
   ]
  },
  {
   "cell_type": "code",
   "execution_count": 29,
   "metadata": {},
   "outputs": [
    {
     "data": {
      "text/plain": [
       "<sklearn.metrics._plot.roc_curve.RocCurveDisplay at 0x23fb9bbfee0>"
      ]
     },
     "execution_count": 29,
     "metadata": {},
     "output_type": "execute_result"
    },
    {
     "data": {
      "image/png": "[encoded data removed]",
      "text/plain": [
       "<Figure size 432x288 with 1 Axes>"
      ]
     },
     "metadata": {
      "needs_background": "light"
     },
     "output_type": "display_data"
    }
   ],
   "source": [
    "plot_roc_curve(model_rus, x_val, y_val)"
   ]
  },
  {
   "cell_type": "markdown",
   "metadata": {},
   "source": [
    "## 1.5 Penalized Logistic Regression"
   ]
  },
  {
   "cell_type": "code",
   "execution_count": 30,
   "metadata": {},
   "outputs": [
    {
     "data": {
      "text/plain": [
       "LogisticRegression(class_weight='balanced')"
      ]
     },
     "execution_count": 30,
     "metadata": {},
     "output_type": "execute_result"
    }
   ],
   "source": [
    "model_blanced = LogisticRegression(class_weight = 'balanced')\n",
    "model_blanced.fit(x_train, y_train)"
   ]
  },
  {
   "cell_type": "code",
   "execution_count": 31,
   "metadata": {},
   "outputs": [
    {
     "name": "stdout",
     "output_type": "stream",
     "text": [
      "              precision    recall  f1-score   support\n",
      "\n",
      "           0       0.90      0.72      0.80        83\n",
      "           1       0.49      0.76      0.59        29\n",
      "\n",
      "    accuracy                           0.73       112\n",
      "   macro avg       0.69      0.74      0.70       112\n",
      "weighted avg       0.79      0.73      0.75       112\n",
      "\n"
     ]
    }
   ],
   "source": [
    "y_pred = model_blanced.predict(x_val)\n",
    "print(classification_report(y_val, y_pred))"
   ]
  },
  {
   "cell_type": "markdown",
   "metadata": {},
   "source": [
    "## 1.6 Performa Final Model: Logistic Optimized Threshold"
   ]
  },
  {
   "cell_type": "code",
   "execution_count": 32,
   "metadata": {},
   "outputs": [
    {
     "data": {
      "text/plain": [
       "LogisticRegression()"
      ]
     },
     "execution_count": 32,
     "metadata": {},
     "output_type": "execute_result"
    }
   ],
   "source": [
    "model = LogisticRegression()\n",
    "model.fit(x_trainval, y_trainval)"
   ]
  },
  {
   "cell_type": "code",
   "execution_count": 34,
   "metadata": {},
   "outputs": [
    {
     "name": "stdout",
     "output_type": "stream",
     "text": [
      "              precision    recall  f1-score   support\n",
      "\n",
      "           0       0.86      0.83      0.84       103\n",
      "           1       0.56      0.62      0.59        37\n",
      "\n",
      "    accuracy                           0.77       140\n",
      "   macro avg       0.71      0.72      0.72       140\n",
      "weighted avg       0.78      0.77      0.78       140\n",
      "\n"
     ]
    }
   ],
   "source": [
    "y_prob = model.predict_proba(x_test)[:,1]\n",
    "y_pred = np.where(y_prob > best_th, 1, 0)\n",
    "print(classification_report(y_test, y_pred))"
   ]
  },
  {
   "cell_type": "markdown",
   "metadata": {},
   "source": [
    "- Pada akhirnya model logistic optimized threshold memiliki f1 score lebih baik dari yang lainnya\n",
    "- sehingga dipiih untuk menjadi final model\n",
    "- akan tetapi f1 score berbeda pada uji coba dengan final model"
   ]
  },
  {
   "cell_type": "markdown",
   "metadata": {},
   "source": [
    "# 2. Evaluation Method"
   ]
  },
  {
   "cell_type": "markdown",
   "metadata": {},
   "source": [
    "Analyze data bankloan.csv\n",
    "- Built a logistic regrerssion model\n",
    "    - target: default\n",
    "    - features: employ , debtinc, creddebt, othdebt\n",
    "- Random state 2020, ratio 80 20\n",
    "- modeling evaluate by f1 score and using stratified 5 fold cv\n",
    "    - penalized logistic regression\n",
    "    - logistic regression with smote\n",
    "- which method is better\n"
   ]
  },
  {
   "cell_type": "code",
   "execution_count": 4,
   "metadata": {},
   "outputs": [],
   "source": [
    "import pandas as pd\n",
    "import numpy as np\n",
    "\n",
    "import seaborn as sns\n",
    "import matplotlib.pyplot as plt\n",
    "\n",
    "from sklearn.model_selection import train_test_split, cross_val_score, StratifiedKFold\n",
    "from imblearn.over_sampling import SMOTE\n",
    "from imblearn.pipeline import Pipeline\n",
    "\n",
    "from sklearn.linear_model import LogisticRegression\n",
    "\n",
    "from sklearn.metrics import plot_roc_curve\n",
    "from sklearn.metrics import classification_report, f1_score\n",
    "\n",
    "import warnings\n",
    "warnings.filterwarnings('ignore')"
   ]
  },
  {
   "cell_type": "code",
   "execution_count": 5,
   "metadata": {},
   "outputs": [
    {
     "data": {
      "text/html": [
       "<div>\n",
       "<style scoped>\n",
       "    .dataframe tbody tr th:only-of-type {\n",
       "        vertical-align: middle;\n",
       "    }\n",
       "\n",
       "    .dataframe tbody tr th {\n",
       "        vertical-align: top;\n",
       "    }\n",
       "\n",
       "    .dataframe thead th {\n",
       "        text-align: right;\n",
       "    }\n",
       "</style>\n",
       "<table border=\"1\" class=\"dataframe\">\n",
       "  <thead>\n",
       "    <tr style=\"text-align: right;\">\n",
       "      <th></th>\n",
       "      <th>age</th>\n",
       "      <th>ed</th>\n",
       "      <th>employ</th>\n",
       "      <th>address</th>\n",
       "      <th>income</th>\n",
       "      <th>debtinc</th>\n",
       "      <th>creddebt</th>\n",
       "      <th>othdebt</th>\n",
       "      <th>default</th>\n",
       "    </tr>\n",
       "  </thead>\n",
       "  <tbody>\n",
       "    <tr>\n",
       "      <th>0</th>\n",
       "      <td>41</td>\n",
       "      <td>3</td>\n",
       "      <td>17</td>\n",
       "      <td>12</td>\n",
       "      <td>176</td>\n",
       "      <td>9.3</td>\n",
       "      <td>11.359392</td>\n",
       "      <td>5.008608</td>\n",
       "      <td>1</td>\n",
       "    </tr>\n",
       "    <tr>\n",
       "      <th>1</th>\n",
       "      <td>27</td>\n",
       "      <td>1</td>\n",
       "      <td>10</td>\n",
       "      <td>6</td>\n",
       "      <td>31</td>\n",
       "      <td>17.3</td>\n",
       "      <td>1.362202</td>\n",
       "      <td>4.000798</td>\n",
       "      <td>0</td>\n",
       "    </tr>\n",
       "    <tr>\n",
       "      <th>2</th>\n",
       "      <td>40</td>\n",
       "      <td>1</td>\n",
       "      <td>15</td>\n",
       "      <td>14</td>\n",
       "      <td>55</td>\n",
       "      <td>5.5</td>\n",
       "      <td>0.856075</td>\n",
       "      <td>2.168925</td>\n",
       "      <td>0</td>\n",
       "    </tr>\n",
       "    <tr>\n",
       "      <th>3</th>\n",
       "      <td>41</td>\n",
       "      <td>1</td>\n",
       "      <td>15</td>\n",
       "      <td>14</td>\n",
       "      <td>120</td>\n",
       "      <td>2.9</td>\n",
       "      <td>2.658720</td>\n",
       "      <td>0.821280</td>\n",
       "      <td>0</td>\n",
       "    </tr>\n",
       "    <tr>\n",
       "      <th>4</th>\n",
       "      <td>24</td>\n",
       "      <td>2</td>\n",
       "      <td>2</td>\n",
       "      <td>0</td>\n",
       "      <td>28</td>\n",
       "      <td>17.3</td>\n",
       "      <td>1.787436</td>\n",
       "      <td>3.056564</td>\n",
       "      <td>1</td>\n",
       "    </tr>\n",
       "    <tr>\n",
       "      <th>...</th>\n",
       "      <td>...</td>\n",
       "      <td>...</td>\n",
       "      <td>...</td>\n",
       "      <td>...</td>\n",
       "      <td>...</td>\n",
       "      <td>...</td>\n",
       "      <td>...</td>\n",
       "      <td>...</td>\n",
       "      <td>...</td>\n",
       "    </tr>\n",
       "    <tr>\n",
       "      <th>695</th>\n",
       "      <td>36</td>\n",
       "      <td>2</td>\n",
       "      <td>6</td>\n",
       "      <td>15</td>\n",
       "      <td>27</td>\n",
       "      <td>4.6</td>\n",
       "      <td>0.262062</td>\n",
       "      <td>0.979938</td>\n",
       "      <td>1</td>\n",
       "    </tr>\n",
       "    <tr>\n",
       "      <th>696</th>\n",
       "      <td>29</td>\n",
       "      <td>2</td>\n",
       "      <td>6</td>\n",
       "      <td>4</td>\n",
       "      <td>21</td>\n",
       "      <td>11.5</td>\n",
       "      <td>0.369495</td>\n",
       "      <td>2.045505</td>\n",
       "      <td>0</td>\n",
       "    </tr>\n",
       "    <tr>\n",
       "      <th>697</th>\n",
       "      <td>33</td>\n",
       "      <td>1</td>\n",
       "      <td>15</td>\n",
       "      <td>3</td>\n",
       "      <td>32</td>\n",
       "      <td>7.6</td>\n",
       "      <td>0.491264</td>\n",
       "      <td>1.940736</td>\n",
       "      <td>0</td>\n",
       "    </tr>\n",
       "    <tr>\n",
       "      <th>698</th>\n",
       "      <td>45</td>\n",
       "      <td>1</td>\n",
       "      <td>19</td>\n",
       "      <td>22</td>\n",
       "      <td>77</td>\n",
       "      <td>8.4</td>\n",
       "      <td>2.302608</td>\n",
       "      <td>4.165392</td>\n",
       "      <td>0</td>\n",
       "    </tr>\n",
       "    <tr>\n",
       "      <th>699</th>\n",
       "      <td>37</td>\n",
       "      <td>1</td>\n",
       "      <td>12</td>\n",
       "      <td>14</td>\n",
       "      <td>44</td>\n",
       "      <td>14.7</td>\n",
       "      <td>2.994684</td>\n",
       "      <td>3.473316</td>\n",
       "      <td>0</td>\n",
       "    </tr>\n",
       "  </tbody>\n",
       "</table>\n",
       "<p>700 rows × 9 columns</p>\n",
       "</div>"
      ],
      "text/plain": [
       "     age  ed  employ  address  income  debtinc   creddebt   othdebt  default\n",
       "0     41   3      17       12     176      9.3  11.359392  5.008608        1\n",
       "1     27   1      10        6      31     17.3   1.362202  4.000798        0\n",
       "2     40   1      15       14      55      5.5   0.856075  2.168925        0\n",
       "3     41   1      15       14     120      2.9   2.658720  0.821280        0\n",
       "4     24   2       2        0      28     17.3   1.787436  3.056564        1\n",
       "..   ...  ..     ...      ...     ...      ...        ...       ...      ...\n",
       "695   36   2       6       15      27      4.6   0.262062  0.979938        1\n",
       "696   29   2       6        4      21     11.5   0.369495  2.045505        0\n",
       "697   33   1      15        3      32      7.6   0.491264  1.940736        0\n",
       "698   45   1      19       22      77      8.4   2.302608  4.165392        0\n",
       "699   37   1      12       14      44     14.7   2.994684  3.473316        0\n",
       "\n",
       "[700 rows x 9 columns]"
      ]
     },
     "execution_count": 5,
     "metadata": {},
     "output_type": "execute_result"
    }
   ],
   "source": [
    "df = pd.read_csv(r'C:\\Users\\dheof\\Desktop\\Help\\Purwadhika\\Csv_Files\\bankloan.csv')\n",
    "df"
   ]
  },
  {
   "cell_type": "code",
   "execution_count": 7,
   "metadata": {},
   "outputs": [],
   "source": [
    "x = df[['employ', 'debtinc', 'creddebt', 'othdebt']]\n",
    "y = df['default']"
   ]
  },
  {
   "cell_type": "markdown",
   "metadata": {},
   "source": [
    "## 2.1 Data Splitting"
   ]
  },
  {
   "cell_type": "code",
   "execution_count": 8,
   "metadata": {},
   "outputs": [],
   "source": [
    "x_train, x_test, y_train, y_test = train_test_split(\n",
    "    x,\n",
    "    y,\n",
    "    stratify = y,\n",
    "    test_size = 0.2,\n",
    "    random_state = 2020\n",
    ")"
   ]
  },
  {
   "cell_type": "markdown",
   "metadata": {},
   "source": [
    "## 2.2 Penalized Logistic Regression"
   ]
  },
  {
   "cell_type": "code",
   "execution_count": 9,
   "metadata": {},
   "outputs": [],
   "source": [
    "model = LogisticRegression(class_weight = 'balanced')\n",
    "skf = StratifiedKFold(n_splits = 5)\n",
    "model_cv = cross_val_score(model, x_train, y_train, cv = skf, scoring = 'f1')"
   ]
  },
  {
   "cell_type": "code",
   "execution_count": 16,
   "metadata": {},
   "outputs": [
    {
     "name": "stdout",
     "output_type": "stream",
     "text": [
      "[0.63888889 0.58823529 0.61728395 0.58064516 0.60526316]\n",
      "0.6060632905617759\n",
      "0.020822978090423456\n"
     ]
    }
   ],
   "source": [
    "print(model_cv)\n",
    "print(model_cv.mean())\n",
    "print(model_cv.std())"
   ]
  },
  {
   "cell_type": "markdown",
   "metadata": {},
   "source": [
    "## 2.3 Logistic Regression with SMOTE"
   ]
  },
  {
   "cell_type": "code",
   "execution_count": 13,
   "metadata": {},
   "outputs": [],
   "source": [
    "smote = SMOTE()\n",
    "model = LogisticRegression()\n",
    "\n",
    "pipe_model = Pipeline([\n",
    "    ('balance', smote),\n",
    "    ('clf', model),\n",
    "])\n",
    "\n",
    "skf = StratifiedKFold(n_splits = 5) "
   ]
  },
  {
   "cell_type": "code",
   "execution_count": 17,
   "metadata": {},
   "outputs": [],
   "source": [
    "model_smote_cv = cross_val_score(pipe_model, x_train, y_train, cv = skf, scoring = 'f1')"
   ]
  },
  {
   "cell_type": "code",
   "execution_count": 19,
   "metadata": {},
   "outputs": [
    {
     "name": "stdout",
     "output_type": "stream",
     "text": [
      "[0.64       0.55882353 0.6097561  0.59016393 0.60526316]\n",
      "0.6008013438587414\n",
      "0.0265025335650002\n"
     ]
    }
   ],
   "source": [
    "print(model_smote_cv)\n",
    "print(model_smote_cv.mean())\n",
    "print(model_smote_cv.std())\n"
   ]
  },
  {
   "cell_type": "markdown",
   "metadata": {},
   "source": [
    "## 2.4 Final Model Perfomance"
   ]
  },
  {
   "cell_type": "code",
   "execution_count": 20,
   "metadata": {},
   "outputs": [
    {
     "data": {
      "text/plain": [
       "LogisticRegression(class_weight='balanced')"
      ]
     },
     "execution_count": 20,
     "metadata": {},
     "output_type": "execute_result"
    }
   ],
   "source": [
    "model = LogisticRegression(class_weight = 'balanced')\n",
    "model.fit(x_train, y_train)"
   ]
  },
  {
   "cell_type": "code",
   "execution_count": 22,
   "metadata": {},
   "outputs": [
    {
     "name": "stdout",
     "output_type": "stream",
     "text": [
      "              precision    recall  f1-score   support\n",
      "\n",
      "           0       0.92      0.68      0.78       103\n",
      "           1       0.48      0.84      0.61        37\n",
      "\n",
      "    accuracy                           0.72       140\n",
      "   macro avg       0.70      0.76      0.70       140\n",
      "weighted avg       0.81      0.72      0.74       140\n",
      "\n"
     ]
    }
   ],
   "source": [
    "y_pred = model.predict(x_test)\n",
    "print(classification_report(y_test, y_pred))"
   ]
  },
  {
   "cell_type": "markdown",
   "metadata": {},
   "source": [
    "## 2.5 Hyperparameter Tuning"
   ]
  },
  {
   "cell_type": "markdown",
   "metadata": {},
   "source": [
    "Analyze data bankloan.csv\n",
    "- Built a logistic regrerssion model\n",
    "    - target: default\n",
    "    - features: employ , debtinc, creddebt, othdebt\n",
    "- Random state 2020, ratio 80 20\n",
    "- modeling evaluate by f1 score and using stratified 5 fold cv\n",
    "- Logistic regression with SMOTE optimize the k neigbor optimize c, solver\n",
    "- Compare the result (before and after)"
   ]
  },
  {
   "cell_type": "code",
   "execution_count": 27,
   "metadata": {},
   "outputs": [],
   "source": [
    "from sklearn.model_selection import GridSearchCV"
   ]
  },
  {
   "cell_type": "code",
   "execution_count": 34,
   "metadata": {},
   "outputs": [],
   "source": [
    "# model\n",
    "smote = SMOTE()\n",
    "model = LogisticRegression()\n",
    "\n",
    "pipe_model = Pipeline([\n",
    "    ('balance', smote),\n",
    "    ('clf', model),\n",
    "])\n",
    "\n",
    "# metode eval\n",
    "skf = StratifiedKFold(n_splits = 5)  \n",
    "\n",
    "# hyperparameter\n",
    "prams = {\n",
    "    'balance__k_neighbors' : [2,5,10,15,20],\n",
    "    'clf__C' : [100,10,1,0.1, 0.001],\n",
    "    'clf__solver' : ['lbfgs', 'libliear', 'newton-cg']\n",
    "}\n",
    "\n",
    "grid_search  = GridSearchCV(\n",
    "    pipe_model,\n",
    "    param_grid = prams,\n",
    "    cv = skf,\n",
    "    scoring = 'f1',\n",
    "    n_jobs = -1\n",
    ")"
   ]
  },
  {
   "cell_type": "code",
   "execution_count": 35,
   "metadata": {},
   "outputs": [
    {
     "data": {
      "text/plain": [
       "GridSearchCV(cv=StratifiedKFold(n_splits=5, random_state=None, shuffle=False),\n",
       "             estimator=Pipeline(steps=[('balance', SMOTE()),\n",
       "                                       ('clf', LogisticRegression())]),\n",
       "             n_jobs=-1,\n",
       "             param_grid={'balance__k_neighbors': [2, 5, 10, 15, 20],\n",
       "                         'clf__C': [100, 10, 1, 0.1, 0.001],\n",
       "                         'clf__solver': ['lbfgs', 'libliear', 'newton-cg']},\n",
       "             scoring='f1')"
      ]
     },
     "execution_count": 35,
     "metadata": {},
     "output_type": "execute_result"
    }
   ],
   "source": [
    "grid_search.fit(x_train, y_train)"
   ]
  },
  {
   "cell_type": "code",
   "execution_count": 36,
   "metadata": {},
   "outputs": [
    {
     "name": "stdout",
     "output_type": "stream",
     "text": [
      "0.6210104568990915\n",
      "{'balance__k_neighbors': 2, 'clf__C': 0.1, 'clf__solver': 'lbfgs'}\n"
     ]
    }
   ],
   "source": [
    "print(grid_search.best_score_)\n",
    "print(grid_search.best_params_)"
   ]
  },
  {
   "cell_type": "code",
   "execution_count": 37,
   "metadata": {},
   "outputs": [
    {
     "data": {
      "text/html": [
       "<div>\n",
       "<style scoped>\n",
       "    .dataframe tbody tr th:only-of-type {\n",
       "        vertical-align: middle;\n",
       "    }\n",
       "\n",
       "    .dataframe tbody tr th {\n",
       "        vertical-align: top;\n",
       "    }\n",
       "\n",
       "    .dataframe thead th {\n",
       "        text-align: right;\n",
       "    }\n",
       "</style>\n",
       "<table border=\"1\" class=\"dataframe\">\n",
       "  <thead>\n",
       "    <tr style=\"text-align: right;\">\n",
       "      <th></th>\n",
       "      <th>mean_fit_time</th>\n",
       "      <th>std_fit_time</th>\n",
       "      <th>mean_score_time</th>\n",
       "      <th>std_score_time</th>\n",
       "      <th>param_balance__k_neighbors</th>\n",
       "      <th>param_clf__C</th>\n",
       "      <th>param_clf__solver</th>\n",
       "      <th>params</th>\n",
       "      <th>split0_test_score</th>\n",
       "      <th>split1_test_score</th>\n",
       "      <th>split2_test_score</th>\n",
       "      <th>split3_test_score</th>\n",
       "      <th>split4_test_score</th>\n",
       "      <th>mean_test_score</th>\n",
       "      <th>std_test_score</th>\n",
       "      <th>rank_test_score</th>\n",
       "    </tr>\n",
       "  </thead>\n",
       "  <tbody>\n",
       "    <tr>\n",
       "      <th>0</th>\n",
       "      <td>0.028324</td>\n",
       "      <td>0.002570</td>\n",
       "      <td>0.006782</td>\n",
       "      <td>0.006096</td>\n",
       "      <td>2</td>\n",
       "      <td>100</td>\n",
       "      <td>lbfgs</td>\n",
       "      <td>{'balance__k_neighbors': 2, 'clf__C': 100, 'cl...</td>\n",
       "      <td>0.638889</td>\n",
       "      <td>0.567164</td>\n",
       "      <td>0.617284</td>\n",
       "      <td>0.612903</td>\n",
       "      <td>0.613333</td>\n",
       "      <td>0.609915</td>\n",
       "      <td>0.023418</td>\n",
       "      <td>15</td>\n",
       "    </tr>\n",
       "    <tr>\n",
       "      <th>1</th>\n",
       "      <td>0.011768</td>\n",
       "      <td>0.003591</td>\n",
       "      <td>0.000000</td>\n",
       "      <td>0.000000</td>\n",
       "      <td>2</td>\n",
       "      <td>100</td>\n",
       "      <td>libliear</td>\n",
       "      <td>{'balance__k_neighbors': 2, 'clf__C': 100, 'cl...</td>\n",
       "      <td>NaN</td>\n",
       "      <td>NaN</td>\n",
       "      <td>NaN</td>\n",
       "      <td>NaN</td>\n",
       "      <td>NaN</td>\n",
       "      <td>NaN</td>\n",
       "      <td>NaN</td>\n",
       "      <td>59</td>\n",
       "    </tr>\n",
       "    <tr>\n",
       "      <th>2</th>\n",
       "      <td>0.027526</td>\n",
       "      <td>0.004575</td>\n",
       "      <td>0.003991</td>\n",
       "      <td>0.000631</td>\n",
       "      <td>2</td>\n",
       "      <td>100</td>\n",
       "      <td>newton-cg</td>\n",
       "      <td>{'balance__k_neighbors': 2, 'clf__C': 100, 'cl...</td>\n",
       "      <td>0.638889</td>\n",
       "      <td>0.588235</td>\n",
       "      <td>0.617284</td>\n",
       "      <td>0.612903</td>\n",
       "      <td>0.597403</td>\n",
       "      <td>0.610943</td>\n",
       "      <td>0.017459</td>\n",
       "      <td>9</td>\n",
       "    </tr>\n",
       "    <tr>\n",
       "      <th>3</th>\n",
       "      <td>0.025129</td>\n",
       "      <td>0.004342</td>\n",
       "      <td>0.004189</td>\n",
       "      <td>0.000977</td>\n",
       "      <td>2</td>\n",
       "      <td>10</td>\n",
       "      <td>lbfgs</td>\n",
       "      <td>{'balance__k_neighbors': 2, 'clf__C': 10, 'clf...</td>\n",
       "      <td>0.638889</td>\n",
       "      <td>0.588235</td>\n",
       "      <td>0.625000</td>\n",
       "      <td>0.584615</td>\n",
       "      <td>0.605263</td>\n",
       "      <td>0.608401</td>\n",
       "      <td>0.020916</td>\n",
       "      <td>21</td>\n",
       "    </tr>\n",
       "    <tr>\n",
       "      <th>4</th>\n",
       "      <td>0.009774</td>\n",
       "      <td>0.002130</td>\n",
       "      <td>0.000000</td>\n",
       "      <td>0.000000</td>\n",
       "      <td>2</td>\n",
       "      <td>10</td>\n",
       "      <td>libliear</td>\n",
       "      <td>{'balance__k_neighbors': 2, 'clf__C': 10, 'clf...</td>\n",
       "      <td>NaN</td>\n",
       "      <td>NaN</td>\n",
       "      <td>NaN</td>\n",
       "      <td>NaN</td>\n",
       "      <td>NaN</td>\n",
       "      <td>NaN</td>\n",
       "      <td>NaN</td>\n",
       "      <td>58</td>\n",
       "    </tr>\n",
       "    <tr>\n",
       "      <th>...</th>\n",
       "      <td>...</td>\n",
       "      <td>...</td>\n",
       "      <td>...</td>\n",
       "      <td>...</td>\n",
       "      <td>...</td>\n",
       "      <td>...</td>\n",
       "      <td>...</td>\n",
       "      <td>...</td>\n",
       "      <td>...</td>\n",
       "      <td>...</td>\n",
       "      <td>...</td>\n",
       "      <td>...</td>\n",
       "      <td>...</td>\n",
       "      <td>...</td>\n",
       "      <td>...</td>\n",
       "      <td>...</td>\n",
       "    </tr>\n",
       "    <tr>\n",
       "      <th>70</th>\n",
       "      <td>0.010605</td>\n",
       "      <td>0.002856</td>\n",
       "      <td>0.000000</td>\n",
       "      <td>0.000000</td>\n",
       "      <td>20</td>\n",
       "      <td>0.1</td>\n",
       "      <td>libliear</td>\n",
       "      <td>{'balance__k_neighbors': 20, 'clf__C': 0.1, 'c...</td>\n",
       "      <td>NaN</td>\n",
       "      <td>NaN</td>\n",
       "      <td>NaN</td>\n",
       "      <td>NaN</td>\n",
       "      <td>NaN</td>\n",
       "      <td>NaN</td>\n",
       "      <td>NaN</td>\n",
       "      <td>57</td>\n",
       "    </tr>\n",
       "    <tr>\n",
       "      <th>71</th>\n",
       "      <td>0.022341</td>\n",
       "      <td>0.002646</td>\n",
       "      <td>0.004512</td>\n",
       "      <td>0.000713</td>\n",
       "      <td>20</td>\n",
       "      <td>0.1</td>\n",
       "      <td>newton-cg</td>\n",
       "      <td>{'balance__k_neighbors': 20, 'clf__C': 0.1, 'c...</td>\n",
       "      <td>0.638889</td>\n",
       "      <td>0.515152</td>\n",
       "      <td>0.617284</td>\n",
       "      <td>0.612903</td>\n",
       "      <td>0.605263</td>\n",
       "      <td>0.597898</td>\n",
       "      <td>0.042854</td>\n",
       "      <td>40</td>\n",
       "    </tr>\n",
       "    <tr>\n",
       "      <th>72</th>\n",
       "      <td>0.020205</td>\n",
       "      <td>0.004508</td>\n",
       "      <td>0.006745</td>\n",
       "      <td>0.003202</td>\n",
       "      <td>20</td>\n",
       "      <td>0.001</td>\n",
       "      <td>lbfgs</td>\n",
       "      <td>{'balance__k_neighbors': 20, 'clf__C': 0.001, ...</td>\n",
       "      <td>0.676056</td>\n",
       "      <td>0.540541</td>\n",
       "      <td>0.600000</td>\n",
       "      <td>0.557377</td>\n",
       "      <td>0.613333</td>\n",
       "      <td>0.597461</td>\n",
       "      <td>0.047502</td>\n",
       "      <td>41</td>\n",
       "    </tr>\n",
       "    <tr>\n",
       "      <th>73</th>\n",
       "      <td>0.009652</td>\n",
       "      <td>0.002874</td>\n",
       "      <td>0.000000</td>\n",
       "      <td>0.000000</td>\n",
       "      <td>20</td>\n",
       "      <td>0.001</td>\n",
       "      <td>libliear</td>\n",
       "      <td>{'balance__k_neighbors': 20, 'clf__C': 0.001, ...</td>\n",
       "      <td>NaN</td>\n",
       "      <td>NaN</td>\n",
       "      <td>NaN</td>\n",
       "      <td>NaN</td>\n",
       "      <td>NaN</td>\n",
       "      <td>NaN</td>\n",
       "      <td>NaN</td>\n",
       "      <td>71</td>\n",
       "    </tr>\n",
       "    <tr>\n",
       "      <th>74</th>\n",
       "      <td>0.020185</td>\n",
       "      <td>0.001718</td>\n",
       "      <td>0.003266</td>\n",
       "      <td>0.000391</td>\n",
       "      <td>20</td>\n",
       "      <td>0.001</td>\n",
       "      <td>newton-cg</td>\n",
       "      <td>{'balance__k_neighbors': 20, 'clf__C': 0.001, ...</td>\n",
       "      <td>0.666667</td>\n",
       "      <td>0.533333</td>\n",
       "      <td>0.600000</td>\n",
       "      <td>0.557377</td>\n",
       "      <td>0.613333</td>\n",
       "      <td>0.594142</td>\n",
       "      <td>0.046286</td>\n",
       "      <td>43</td>\n",
       "    </tr>\n",
       "  </tbody>\n",
       "</table>\n",
       "<p>75 rows × 16 columns</p>\n",
       "</div>"
      ],
      "text/plain": [
       "    mean_fit_time  std_fit_time  mean_score_time  std_score_time  \\\n",
       "0        0.028324      0.002570         0.006782        0.006096   \n",
       "1        0.011768      0.003591         0.000000        0.000000   \n",
       "2        0.027526      0.004575         0.003991        0.000631   \n",
       "3        0.025129      0.004342         0.004189        0.000977   \n",
       "4        0.009774      0.002130         0.000000        0.000000   \n",
       "..            ...           ...              ...             ...   \n",
       "70       0.010605      0.002856         0.000000        0.000000   \n",
       "71       0.022341      0.002646         0.004512        0.000713   \n",
       "72       0.020205      0.004508         0.006745        0.003202   \n",
       "73       0.009652      0.002874         0.000000        0.000000   \n",
       "74       0.020185      0.001718         0.003266        0.000391   \n",
       "\n",
       "   param_balance__k_neighbors param_clf__C param_clf__solver  \\\n",
       "0                           2          100             lbfgs   \n",
       "1                           2          100          libliear   \n",
       "2                           2          100         newton-cg   \n",
       "3                           2           10             lbfgs   \n",
       "4                           2           10          libliear   \n",
       "..                        ...          ...               ...   \n",
       "70                         20          0.1          libliear   \n",
       "71                         20          0.1         newton-cg   \n",
       "72                         20        0.001             lbfgs   \n",
       "73                         20        0.001          libliear   \n",
       "74                         20        0.001         newton-cg   \n",
       "\n",
       "                                               params  split0_test_score  \\\n",
       "0   {'balance__k_neighbors': 2, 'clf__C': 100, 'cl...           0.638889   \n",
       "1   {'balance__k_neighbors': 2, 'clf__C': 100, 'cl...                NaN   \n",
       "2   {'balance__k_neighbors': 2, 'clf__C': 100, 'cl...           0.638889   \n",
       "3   {'balance__k_neighbors': 2, 'clf__C': 10, 'clf...           0.638889   \n",
       "4   {'balance__k_neighbors': 2, 'clf__C': 10, 'clf...                NaN   \n",
       "..                                                ...                ...   \n",
       "70  {'balance__k_neighbors': 20, 'clf__C': 0.1, 'c...                NaN   \n",
       "71  {'balance__k_neighbors': 20, 'clf__C': 0.1, 'c...           0.638889   \n",
       "72  {'balance__k_neighbors': 20, 'clf__C': 0.001, ...           0.676056   \n",
       "73  {'balance__k_neighbors': 20, 'clf__C': 0.001, ...                NaN   \n",
       "74  {'balance__k_neighbors': 20, 'clf__C': 0.001, ...           0.666667   \n",
       "\n",
       "    split1_test_score  split2_test_score  split3_test_score  \\\n",
       "0            0.567164           0.617284           0.612903   \n",
       "1                 NaN                NaN                NaN   \n",
       "2            0.588235           0.617284           0.612903   \n",
       "3            0.588235           0.625000           0.584615   \n",
       "4                 NaN                NaN                NaN   \n",
       "..                ...                ...                ...   \n",
       "70                NaN                NaN                NaN   \n",
       "71           0.515152           0.617284           0.612903   \n",
       "72           0.540541           0.600000           0.557377   \n",
       "73                NaN                NaN                NaN   \n",
       "74           0.533333           0.600000           0.557377   \n",
       "\n",
       "    split4_test_score  mean_test_score  std_test_score  rank_test_score  \n",
       "0            0.613333         0.609915        0.023418               15  \n",
       "1                 NaN              NaN             NaN               59  \n",
       "2            0.597403         0.610943        0.017459                9  \n",
       "3            0.605263         0.608401        0.020916               21  \n",
       "4                 NaN              NaN             NaN               58  \n",
       "..                ...              ...             ...              ...  \n",
       "70                NaN              NaN             NaN               57  \n",
       "71           0.605263         0.597898        0.042854               40  \n",
       "72           0.613333         0.597461        0.047502               41  \n",
       "73                NaN              NaN             NaN               71  \n",
       "74           0.613333         0.594142        0.046286               43  \n",
       "\n",
       "[75 rows x 16 columns]"
      ]
     },
     "execution_count": 37,
     "metadata": {},
     "output_type": "execute_result"
    }
   ],
   "source": [
    "hasil_tuning = pd.DataFrame(grid_search.cv_results_)\n",
    "hasil_tuning"
   ]
  },
  {
   "cell_type": "code",
   "execution_count": 38,
   "metadata": {},
   "outputs": [
    {
     "data": {
      "text/html": [
       "<div>\n",
       "<style scoped>\n",
       "    .dataframe tbody tr th:only-of-type {\n",
       "        vertical-align: middle;\n",
       "    }\n",
       "\n",
       "    .dataframe tbody tr th {\n",
       "        vertical-align: top;\n",
       "    }\n",
       "\n",
       "    .dataframe thead th {\n",
       "        text-align: right;\n",
       "    }\n",
       "</style>\n",
       "<table border=\"1\" class=\"dataframe\">\n",
       "  <thead>\n",
       "    <tr style=\"text-align: right;\">\n",
       "      <th></th>\n",
       "      <th>mean_fit_time</th>\n",
       "      <th>std_fit_time</th>\n",
       "      <th>mean_score_time</th>\n",
       "      <th>std_score_time</th>\n",
       "      <th>param_balance__k_neighbors</th>\n",
       "      <th>param_clf__C</th>\n",
       "      <th>param_clf__solver</th>\n",
       "      <th>params</th>\n",
       "      <th>split0_test_score</th>\n",
       "      <th>split1_test_score</th>\n",
       "      <th>split2_test_score</th>\n",
       "      <th>split3_test_score</th>\n",
       "      <th>split4_test_score</th>\n",
       "      <th>mean_test_score</th>\n",
       "      <th>std_test_score</th>\n",
       "      <th>rank_test_score</th>\n",
       "    </tr>\n",
       "  </thead>\n",
       "  <tbody>\n",
       "    <tr>\n",
       "      <th>9</th>\n",
       "      <td>0.02254</td>\n",
       "      <td>0.006326</td>\n",
       "      <td>0.005186</td>\n",
       "      <td>0.002394</td>\n",
       "      <td>2</td>\n",
       "      <td>0.1</td>\n",
       "      <td>lbfgs</td>\n",
       "      <td>{'balance__k_neighbors': 2, 'clf__C': 0.1, 'cl...</td>\n",
       "      <td>0.638889</td>\n",
       "      <td>0.608696</td>\n",
       "      <td>0.617284</td>\n",
       "      <td>0.634921</td>\n",
       "      <td>0.605263</td>\n",
       "      <td>0.62101</td>\n",
       "      <td>0.013614</td>\n",
       "      <td>1</td>\n",
       "    </tr>\n",
       "  </tbody>\n",
       "</table>\n",
       "</div>"
      ],
      "text/plain": [
       "   mean_fit_time  std_fit_time  mean_score_time  std_score_time  \\\n",
       "9        0.02254      0.006326         0.005186        0.002394   \n",
       "\n",
       "  param_balance__k_neighbors param_clf__C param_clf__solver  \\\n",
       "9                          2          0.1             lbfgs   \n",
       "\n",
       "                                              params  split0_test_score  \\\n",
       "9  {'balance__k_neighbors': 2, 'clf__C': 0.1, 'cl...           0.638889   \n",
       "\n",
       "   split1_test_score  split2_test_score  split3_test_score  split4_test_score  \\\n",
       "9           0.608696           0.617284           0.634921           0.605263   \n",
       "\n",
       "   mean_test_score  std_test_score  rank_test_score  \n",
       "9          0.62101        0.013614                1  "
      ]
     },
     "execution_count": 38,
     "metadata": {},
     "output_type": "execute_result"
    }
   ],
   "source": [
    "hasil_tuning[hasil_tuning['rank_test_score'] == 1]"
   ]
  },
  {
   "cell_type": "code",
   "execution_count": 40,
   "metadata": {},
   "outputs": [
    {
     "data": {
      "text/html": [
       "<div>\n",
       "<style scoped>\n",
       "    .dataframe tbody tr th:only-of-type {\n",
       "        vertical-align: middle;\n",
       "    }\n",
       "\n",
       "    .dataframe tbody tr th {\n",
       "        vertical-align: top;\n",
       "    }\n",
       "\n",
       "    .dataframe thead th {\n",
       "        text-align: right;\n",
       "    }\n",
       "</style>\n",
       "<table border=\"1\" class=\"dataframe\">\n",
       "  <thead>\n",
       "    <tr style=\"text-align: right;\">\n",
       "      <th></th>\n",
       "      <th>mean_fit_time</th>\n",
       "      <th>std_fit_time</th>\n",
       "      <th>mean_score_time</th>\n",
       "      <th>std_score_time</th>\n",
       "      <th>param_balance__k_neighbors</th>\n",
       "      <th>param_clf__C</th>\n",
       "      <th>param_clf__solver</th>\n",
       "      <th>params</th>\n",
       "      <th>split0_test_score</th>\n",
       "      <th>split1_test_score</th>\n",
       "      <th>split2_test_score</th>\n",
       "      <th>split3_test_score</th>\n",
       "      <th>split4_test_score</th>\n",
       "      <th>mean_test_score</th>\n",
       "      <th>std_test_score</th>\n",
       "      <th>rank_test_score</th>\n",
       "    </tr>\n",
       "  </thead>\n",
       "  <tbody>\n",
       "    <tr>\n",
       "      <th>36</th>\n",
       "      <td>0.034908</td>\n",
       "      <td>0.013935</td>\n",
       "      <td>0.004587</td>\n",
       "      <td>0.001739</td>\n",
       "      <td>10</td>\n",
       "      <td>1</td>\n",
       "      <td>lbfgs</td>\n",
       "      <td>{'balance__k_neighbors': 10, 'clf__C': 1, 'clf...</td>\n",
       "      <td>0.64</td>\n",
       "      <td>0.567164</td>\n",
       "      <td>0.623377</td>\n",
       "      <td>0.612903</td>\n",
       "      <td>0.605263</td>\n",
       "      <td>0.609741</td>\n",
       "      <td>0.024267</td>\n",
       "      <td>16</td>\n",
       "    </tr>\n",
       "  </tbody>\n",
       "</table>\n",
       "</div>"
      ],
      "text/plain": [
       "    mean_fit_time  std_fit_time  mean_score_time  std_score_time  \\\n",
       "36       0.034908      0.013935         0.004587        0.001739   \n",
       "\n",
       "   param_balance__k_neighbors param_clf__C param_clf__solver  \\\n",
       "36                         10            1             lbfgs   \n",
       "\n",
       "                                               params  split0_test_score  \\\n",
       "36  {'balance__k_neighbors': 10, 'clf__C': 1, 'clf...               0.64   \n",
       "\n",
       "    split1_test_score  split2_test_score  split3_test_score  \\\n",
       "36           0.567164           0.623377           0.612903   \n",
       "\n",
       "    split4_test_score  mean_test_score  std_test_score  rank_test_score  \n",
       "36           0.605263         0.609741        0.024267               16  "
      ]
     },
     "execution_count": 40,
     "metadata": {},
     "output_type": "execute_result"
    }
   ],
   "source": [
    "hasil_tuning[(hasil_tuning['param_balance__k_neighbors'] == 10) & (hasil_tuning['param_clf__C'] == 1) & (hasil_tuning['param_clf__solver'] == 'lbfgs')]"
   ]
  },
  {
   "cell_type": "markdown",
   "metadata": {},
   "source": [
    "## 2.6 Comparison before and after"
   ]
  },
  {
   "cell_type": "markdown",
   "metadata": {},
   "source": [
    "### 2.6.1 Before"
   ]
  },
  {
   "cell_type": "code",
   "execution_count": 41,
   "metadata": {},
   "outputs": [],
   "source": [
    "smote = SMOTE()\n",
    "model = LogisticRegression()\n",
    "\n",
    "pipe_model = Pipeline([\n",
    "    ('balance', smote),\n",
    "    ('clf', model),\n",
    "])"
   ]
  },
  {
   "cell_type": "code",
   "execution_count": 43,
   "metadata": {},
   "outputs": [
    {
     "name": "stdout",
     "output_type": "stream",
     "text": [
      "              precision    recall  f1-score   support\n",
      "\n",
      "           0       0.93      0.72      0.81       103\n",
      "           1       0.52      0.84      0.64        37\n",
      "\n",
      "    accuracy                           0.75       140\n",
      "   macro avg       0.72      0.78      0.72       140\n",
      "weighted avg       0.82      0.75      0.76       140\n",
      "\n"
     ]
    }
   ],
   "source": [
    "pipe_model.fit(x_train, y_train)\n",
    "y_pred = pipe_model.predict(x_test)\n",
    "print(classification_report(y_test, y_pred))"
   ]
  },
  {
   "cell_type": "markdown",
   "metadata": {},
   "source": [
    "### 2.6.2 After"
   ]
  },
  {
   "cell_type": "code",
   "execution_count": 44,
   "metadata": {},
   "outputs": [],
   "source": [
    "pipe_model = grid_search.best_estimator_"
   ]
  },
  {
   "cell_type": "code",
   "execution_count": 45,
   "metadata": {},
   "outputs": [
    {
     "name": "stdout",
     "output_type": "stream",
     "text": [
      "              precision    recall  f1-score   support\n",
      "\n",
      "           0       0.89      0.71      0.79       103\n",
      "           1       0.48      0.76      0.59        37\n",
      "\n",
      "    accuracy                           0.72       140\n",
      "   macro avg       0.69      0.73      0.69       140\n",
      "weighted avg       0.78      0.72      0.74       140\n",
      "\n"
     ]
    }
   ],
   "source": [
    "pipe_model.fit(x_train, y_train)\n",
    "y_pred = pipe_model.predict(x_test)\n",
    "print(classification_report(y_test, y_pred))"
   ]
  }
 ],
 "metadata": {
  "interpreter": {
   "hash": "7535770d6d9671ed493a7afcc4979271e63db332b4e5f67d7f7911eb0b2237d5"
  },
  "kernelspec": {
   "display_name": "Python 3.8.8 64-bit ('base': conda)",
   "name": "python3"
  },
  "language_info": {
   "codemirror_mode": {
    "name": "ipython",
    "version": 3
   },
   "file_extension": ".py",
   "mimetype": "text/x-python",
   "name": "python",
   "nbconvert_exporter": "python",
   "pygments_lexer": "ipython3",
   "version": "3.8.8"
  },
  "orig_nbformat": 4
 },
 "nbformat": 4,
 "nbformat_minor": 2
}
