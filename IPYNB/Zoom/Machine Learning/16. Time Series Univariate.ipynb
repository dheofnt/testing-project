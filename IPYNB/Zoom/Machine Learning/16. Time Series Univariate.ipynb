{
 "cells": [
  {
   "cell_type": "markdown",
   "metadata": {},
   "source": [
    "# 14 October 2021"
   ]
  },
  {
   "cell_type": "markdown",
   "metadata": {},
   "source": [
    "## **Latihan Time Series (ARIMA)**"
   ]
  },
  {
   "cell_type": "markdown",
   "metadata": {},
   "source": [
    "**Gunakan dataset AirPassengers**\n",
    "\n",
    "1. Lakukan EDA.\n",
    "2. Cek apakah data sudah stasioner? Jika belum, lakukan differencing.\n",
    "3. Gunakan ADF test untuk mengecek stasioneritas data secara perhitungan statistik.\n",
    "4. Cari model ARIMA terbaik melalui grafik ACF & PACF.\n",
    "5. Buat modelnya dan lakukan forecasting untuk periode 1 tahun."
   ]
  },
  {
   "cell_type": "code",
   "execution_count": 1,
   "metadata": {},
   "outputs": [],
   "source": [
    "import numpy as np \n",
    "import pandas as pd \n",
    "import seaborn as sns \n",
    "import matplotlib.pyplot as plt \n",
    "\n",
    "from datetime import datetime\n",
    "\n",
    "import statsmodels.api as sm\n",
    "from statsmodels.api import OLS\n",
    "from statsmodels.graphics.tsaplots import plot_acf, plot_pacf\n",
    "from statsmodels.tsa.arima_model import ARIMA\n",
    "from statsmodels.tsa.stattools import adfuller\n",
    "\n",
    "import warnings\n",
    "warnings.filterwarnings('ignore')"
   ]
  },
  {
   "cell_type": "code",
   "execution_count": 2,
   "metadata": {},
   "outputs": [
    {
     "data": {
      "text/html": [
       "<div>\n",
       "<style scoped>\n",
       "    .dataframe tbody tr th:only-of-type {\n",
       "        vertical-align: middle;\n",
       "    }\n",
       "\n",
       "    .dataframe tbody tr th {\n",
       "        vertical-align: top;\n",
       "    }\n",
       "\n",
       "    .dataframe thead th {\n",
       "        text-align: right;\n",
       "    }\n",
       "</style>\n",
       "<table border=\"1\" class=\"dataframe\">\n",
       "  <thead>\n",
       "    <tr style=\"text-align: right;\">\n",
       "      <th></th>\n",
       "      <th>TravelDate</th>\n",
       "      <th>Passengers</th>\n",
       "    </tr>\n",
       "  </thead>\n",
       "  <tbody>\n",
       "    <tr>\n",
       "      <th>0</th>\n",
       "      <td>1/1/1949</td>\n",
       "      <td>112</td>\n",
       "    </tr>\n",
       "    <tr>\n",
       "      <th>1</th>\n",
       "      <td>2/1/1949</td>\n",
       "      <td>118</td>\n",
       "    </tr>\n",
       "    <tr>\n",
       "      <th>2</th>\n",
       "      <td>3/1/1949</td>\n",
       "      <td>132</td>\n",
       "    </tr>\n",
       "    <tr>\n",
       "      <th>3</th>\n",
       "      <td>4/1/1949</td>\n",
       "      <td>129</td>\n",
       "    </tr>\n",
       "    <tr>\n",
       "      <th>4</th>\n",
       "      <td>5/1/1949</td>\n",
       "      <td>121</td>\n",
       "    </tr>\n",
       "    <tr>\n",
       "      <th>...</th>\n",
       "      <td>...</td>\n",
       "      <td>...</td>\n",
       "    </tr>\n",
       "    <tr>\n",
       "      <th>139</th>\n",
       "      <td>8/1/1960</td>\n",
       "      <td>606</td>\n",
       "    </tr>\n",
       "    <tr>\n",
       "      <th>140</th>\n",
       "      <td>9/1/1960</td>\n",
       "      <td>508</td>\n",
       "    </tr>\n",
       "    <tr>\n",
       "      <th>141</th>\n",
       "      <td>10/1/1960</td>\n",
       "      <td>461</td>\n",
       "    </tr>\n",
       "    <tr>\n",
       "      <th>142</th>\n",
       "      <td>11/1/1960</td>\n",
       "      <td>390</td>\n",
       "    </tr>\n",
       "    <tr>\n",
       "      <th>143</th>\n",
       "      <td>12/1/1960</td>\n",
       "      <td>432</td>\n",
       "    </tr>\n",
       "  </tbody>\n",
       "</table>\n",
       "<p>144 rows × 2 columns</p>\n",
       "</div>"
      ],
      "text/plain": [
       "    TravelDate  Passengers\n",
       "0     1/1/1949         112\n",
       "1     2/1/1949         118\n",
       "2     3/1/1949         132\n",
       "3     4/1/1949         129\n",
       "4     5/1/1949         121\n",
       "..         ...         ...\n",
       "139   8/1/1960         606\n",
       "140   9/1/1960         508\n",
       "141  10/1/1960         461\n",
       "142  11/1/1960         390\n",
       "143  12/1/1960         432\n",
       "\n",
       "[144 rows x 2 columns]"
      ]
     },
     "execution_count": 2,
     "metadata": {},
     "output_type": "execute_result"
    }
   ],
   "source": [
    "df = pd.read_csv('AirPassengers.csv')\n",
    "df"
   ]
  },
  {
   "cell_type": "code",
   "execution_count": 3,
   "metadata": {},
   "outputs": [
    {
     "name": "stdout",
     "output_type": "stream",
     "text": [
      "<class 'pandas.core.frame.DataFrame'>\n",
      "RangeIndex: 144 entries, 0 to 143\n",
      "Data columns (total 2 columns):\n",
      " #   Column      Non-Null Count  Dtype \n",
      "---  ------      --------------  ----- \n",
      " 0   TravelDate  144 non-null    object\n",
      " 1   Passengers  144 non-null    int64 \n",
      "dtypes: int64(1), object(1)\n",
      "memory usage: 2.4+ KB\n"
     ]
    }
   ],
   "source": [
    "df.info()"
   ]
  },
  {
   "cell_type": "code",
   "execution_count": 4,
   "metadata": {},
   "outputs": [],
   "source": [
    "df = df.rename(columns={'TravelDate': 'Date'})"
   ]
  },
  {
   "cell_type": "code",
   "execution_count": 5,
   "metadata": {},
   "outputs": [],
   "source": [
    "df['Date'] = pd.to_datetime(df['Date'])"
   ]
  },
  {
   "cell_type": "code",
   "execution_count": 6,
   "metadata": {},
   "outputs": [],
   "source": [
    "df['Date'] = df['Date'].dt.date"
   ]
  },
  {
   "cell_type": "markdown",
   "metadata": {},
   "source": [
    "## **EDA**"
   ]
  },
  {
   "cell_type": "code",
   "execution_count": 8,
   "metadata": {},
   "outputs": [
    {
     "data": {
      "image/png": "[encoded data removed]",
      "text/plain": [
       "<Figure size 432x288 with 1 Axes>"
      ]
     },
     "metadata": {
      "needs_background": "light"
     },
     "output_type": "display_data"
    }
   ],
   "source": [
    "sns.distplot(df['Passengers']);"
   ]
  },
  {
   "cell_type": "code",
   "execution_count": 9,
   "metadata": {},
   "outputs": [
    {
     "data": {
      "text/plain": [
       "0.5831604861560892"
      ]
     },
     "execution_count": 9,
     "metadata": {},
     "output_type": "execute_result"
    }
   ],
   "source": [
    "df['Passengers'].skew()"
   ]
  },
  {
   "cell_type": "code",
   "execution_count": 10,
   "metadata": {},
   "outputs": [
    {
     "data": {
      "application/vnd.plotly.v1+json": {
       "config": {
        "plotlyServerURL": "https://plot.ly"
       },
       "data": [
        {
         "name": "true",
         "type": "scatter",
         "x": [
          "1949-01-01",
          "1949-02-01",
          "1949-03-01",
          "1949-04-01",
          "1949-05-01",
          "1949-06-01",
          "1949-07-01",
          "1949-08-01",
          "1949-09-01",
          "1949-10-01",
          "1949-11-01",
          "1949-12-01",
          "1950-01-01",
          "1950-02-01",
          "1950-03-01",
          "1950-04-01",
          "1950-05-01",
          "1950-06-01",
          "1950-07-01",
          "1950-08-01",
          "1950-09-01",
          "1950-10-01",
          "1950-11-01",
          "1950-12-01",
          "1951-01-01",
          "1951-02-01",
          "1951-03-01",
          "1951-04-01",
          "1951-05-01",
          "1951-06-01",
          "1951-07-01",
          "1951-08-01",
          "1951-09-01",
          "1951-10-01",
          "1951-11-01",
          "1951-12-01",
          "1952-01-01",
          "1952-02-01",
          "1952-03-01",
          "1952-04-01",
          "1952-05-01",
          "1952-06-01",
          "1952-07-01",
          "1952-08-01",
          "1952-09-01",
          "1952-10-01",
          "1952-11-01",
          "1952-12-01",
          "1953-01-01",
          "1953-02-01",
          "1953-03-01",
          "1953-04-01",
          "1953-05-01",
          "1953-06-01",
          "1953-07-01",
          "1953-08-01",
          "1953-09-01",
          "1953-10-01",
          "1953-11-01",
          "1953-12-01",
          "1954-01-01",
          "1954-02-01",
          "1954-03-01",
          "1954-04-01",
          "1954-05-01",
          "1954-06-01",
          "1954-07-01",
          "1954-08-01",
          "1954-09-01",
          "1954-10-01",
          "1954-11-01",
          "1954-12-01",
          "1955-01-01",
          "1955-02-01",
          "1955-03-01",
          "1955-04-01",
          "1955-05-01",
          "1955-06-01",
          "1955-07-01",
          "1955-08-01",
          "1955-09-01",
          "1955-10-01",
          "1955-11-01",
          "1955-12-01",
          "1956-01-01",
          "1956-02-01",
          "1956-03-01",
          "1956-04-01",
          "1956-05-01",
          "1956-06-01",
          "1956-07-01",
          "1956-08-01",
          "1956-09-01",
          "1956-10-01",
          "1956-11-01",
          "1956-12-01",
          "1957-01-01",
          "1957-02-01",
          "1957-03-01",
          "1957-04-01",
          "1957-05-01",
          "1957-06-01",
          "1957-07-01",
          "1957-08-01",
          "1957-09-01",
          "1957-10-01",
          "1957-11-01",
          "1957-12-01",
          "1958-01-01",
          "1958-02-01",
          "1958-03-01",
          "1958-04-01",
          "1958-05-01",
          "1958-06-01",
          "1958-07-01",
          "1958-08-01",
          "1958-09-01",
          "1958-10-01",
          "1958-11-01",
          "1958-12-01",
          "1959-01-01",
          "1959-02-01",
          "1959-03-01",
          "1959-04-01",
          "1959-05-01",
          "1959-06-01",
          "1959-07-01",
          "1959-08-01",
          "1959-09-01",
          "1959-10-01",
          "1959-11-01",
          "1959-12-01",
          "1960-01-01",
          "1960-02-01",
          "1960-03-01",
          "1960-04-01",
          "1960-05-01",
          "1960-06-01",
          "1960-07-01",
          "1960-08-01",
          "1960-09-01",
          "1960-10-01",
          "1960-11-01",
          "1960-12-01"
         ],
         "y": [
          112,
          118,
          132,
          129,
          121,
          135,
          148,
          148,
          136,
          119,
          104,
          118,
          115,
          126,
          141,
          135,
          125,
          149,
          170,
          170,
          158,
          133,
          114,
          140,
          145,
          150,
          178,
          163,
          172,
          178,
          199,
          199,
          184,
          162,
          146,
          166,
          171,
          180,
          193,
          181,
          183,
          218,
          230,
          242,
          209,
          191,
          172,
          194,
          196,
          196,
          236,
          235,
          229,
          243,
          264,
          272,
          237,
          211,
          180,
          201,
          204,
          188,
          235,
          227,
          234,
          264,
          302,
          293,
          259,
          229,
          203,
          229,
          242,
          233,
          267,
          269,
          270,
          315,
          364,
          347,
          312,
          274,
          237,
          278,
          284,
          277,
          317,
          313,
          318,
          374,
          413,
          405,
          355,
          306,
          271,
          306,
          315,
          301,
          356,
          348,
          355,
          422,
          465,
          467,
          404,
          347,
          305,
          336,
          340,
          318,
          362,
          348,
          363,
          435,
          491,
          505,
          404,
          359,
          310,
          337,
          360,
          342,
          406,
          396,
          420,
          472,
          548,
          559,
          463,
          407,
          362,
          405,
          417,
          391,
          419,
          461,
          472,
          535,
          622,
          606,
          508,
          461,
          390,
          432
         ]
        }
       ],
       "layout": {
        "template": {
         "data": {
          "bar": [
           {
            "error_x": {
             "color": "#2a3f5f"
            },
            "error_y": {
             "color": "#2a3f5f"
            },
            "marker": {
             "line": {
              "color": "#E5ECF6",
              "width": 0.5
             },
             "pattern": {
              "fillmode": "overlay",
              "size": 10,
              "solidity": 0.2
             }
            },
            "type": "bar"
           }
          ],
          "barpolar": [
           {
            "marker": {
             "line": {
              "color": "#E5ECF6",
              "width": 0.5
             },
             "pattern": {
              "fillmode": "overlay",
              "size": 10,
              "solidity": 0.2
             }
            },
            "type": "barpolar"
           }
          ],
          "carpet": [
           {
            "aaxis": {
             "endlinecolor": "#2a3f5f",
             "gridcolor": "white",
             "linecolor": "white",
             "minorgridcolor": "white",
             "startlinecolor": "#2a3f5f"
            },
            "baxis": {
             "endlinecolor": "#2a3f5f",
             "gridcolor": "white",
             "linecolor": "white",
             "minorgridcolor": "white",
             "startlinecolor": "#2a3f5f"
            },
            "type": "carpet"
           }
          ],
          "choropleth": [
           {
            "colorbar": {
             "outlinewidth": 0,
             "ticks": ""
            },
            "type": "choropleth"
           }
          ],
          "contour": [
           {
            "colorbar": {
             "outlinewidth": 0,
             "ticks": ""
            },
            "colorscale": [
             [
              0,
              "#0d0887"
             ],
             [
              0.1111111111111111,
              "#46039f"
             ],
             [
              0.2222222222222222,
              "#7201a8"
             ],
             [
              0.3333333333333333,
              "#9c179e"
             ],
             [
              0.4444444444444444,
              "#bd3786"
             ],
             [
              0.5555555555555556,
              "#d8576b"
             ],
             [
              0.6666666666666666,
              "#ed7953"
             ],
             [
              0.7777777777777778,
              "#fb9f3a"
             ],
             [
              0.8888888888888888,
              "#fdca26"
             ],
             [
              1,
              "#f0f921"
             ]
            ],
            "type": "contour"
           }
          ],
          "contourcarpet": [
           {
            "colorbar": {
             "outlinewidth": 0,
             "ticks": ""
            },
            "type": "contourcarpet"
           }
          ],
          "heatmap": [
           {
            "colorbar": {
             "outlinewidth": 0,
             "ticks": ""
            },
            "colorscale": [
             [
              0,
              "#0d0887"
             ],
             [
              0.1111111111111111,
              "#46039f"
             ],
             [
              0.2222222222222222,
              "#7201a8"
             ],
             [
              0.3333333333333333,
              "#9c179e"
             ],
             [
              0.4444444444444444,
              "#bd3786"
             ],
             [
              0.5555555555555556,
              "#d8576b"
             ],
             [
              0.6666666666666666,
              "#ed7953"
             ],
             [
              0.7777777777777778,
              "#fb9f3a"
             ],
             [
              0.8888888888888888,
              "#fdca26"
             ],
             [
              1,
              "#f0f921"
             ]
            ],
            "type": "heatmap"
           }
          ],
          "heatmapgl": [
           {
            "colorbar": {
             "outlinewidth": 0,
             "ticks": ""
            },
            "colorscale": [
             [
              0,
              "#0d0887"
             ],
             [
              0.1111111111111111,
              "#46039f"
             ],
             [
              0.2222222222222222,
              "#7201a8"
             ],
             [
              0.3333333333333333,
              "#9c179e"
             ],
             [
              0.4444444444444444,
              "#bd3786"
             ],
             [
              0.5555555555555556,
              "#d8576b"
             ],
             [
              0.6666666666666666,
              "#ed7953"
             ],
             [
              0.7777777777777778,
              "#fb9f3a"
             ],
             [
              0.8888888888888888,
              "#fdca26"
             ],
             [
              1,
              "#f0f921"
             ]
            ],
            "type": "heatmapgl"
           }
          ],
          "histogram": [
           {
            "marker": {
             "pattern": {
              "fillmode": "overlay",
              "size": 10,
              "solidity": 0.2
             }
            },
            "type": "histogram"
           }
          ],
          "histogram2d": [
           {
            "colorbar": {
             "outlinewidth": 0,
             "ticks": ""
            },
            "colorscale": [
             [
              0,
              "#0d0887"
             ],
             [
              0.1111111111111111,
              "#46039f"
             ],
             [
              0.2222222222222222,
              "#7201a8"
             ],
             [
              0.3333333333333333,
              "#9c179e"
             ],
             [
              0.4444444444444444,
              "#bd3786"
             ],
             [
              0.5555555555555556,
              "#d8576b"
             ],
             [
              0.6666666666666666,
              "#ed7953"
             ],
             [
              0.7777777777777778,
              "#fb9f3a"
             ],
             [
              0.8888888888888888,
              "#fdca26"
             ],
             [
              1,
              "#f0f921"
             ]
            ],
            "type": "histogram2d"
           }
          ],
          "histogram2dcontour": [
           {
            "colorbar": {
             "outlinewidth": 0,
             "ticks": ""
            },
            "colorscale": [
             [
              0,
              "#0d0887"
             ],
             [
              0.1111111111111111,
              "#46039f"
             ],
             [
              0.2222222222222222,
              "#7201a8"
             ],
             [
              0.3333333333333333,
              "#9c179e"
             ],
             [
              0.4444444444444444,
              "#bd3786"
             ],
             [
              0.5555555555555556,
              "#d8576b"
             ],
             [
              0.6666666666666666,
              "#ed7953"
             ],
             [
              0.7777777777777778,
              "#fb9f3a"
             ],
             [
              0.8888888888888888,
              "#fdca26"
             ],
             [
              1,
              "#f0f921"
             ]
            ],
            "type": "histogram2dcontour"
           }
          ],
          "mesh3d": [
           {
            "colorbar": {
             "outlinewidth": 0,
             "ticks": ""
            },
            "type": "mesh3d"
           }
          ],
          "parcoords": [
           {
            "line": {
             "colorbar": {
              "outlinewidth": 0,
              "ticks": ""
             }
            },
            "type": "parcoords"
           }
          ],
          "pie": [
           {
            "automargin": true,
            "type": "pie"
           }
          ],
          "scatter": [
           {
            "marker": {
             "colorbar": {
              "outlinewidth": 0,
              "ticks": ""
             }
            },
            "type": "scatter"
           }
          ],
          "scatter3d": [
           {
            "line": {
             "colorbar": {
              "outlinewidth": 0,
              "ticks": ""
             }
            },
            "marker": {
             "colorbar": {
              "outlinewidth": 0,
              "ticks": ""
             }
            },
            "type": "scatter3d"
           }
          ],
          "scattercarpet": [
           {
            "marker": {
             "colorbar": {
              "outlinewidth": 0,
              "ticks": ""
             }
            },
            "type": "scattercarpet"
           }
          ],
          "scattergeo": [
           {
            "marker": {
             "colorbar": {
              "outlinewidth": 0,
              "ticks": ""
             }
            },
            "type": "scattergeo"
           }
          ],
          "scattergl": [
           {
            "marker": {
             "colorbar": {
              "outlinewidth": 0,
              "ticks": ""
             }
            },
            "type": "scattergl"
           }
          ],
          "scattermapbox": [
           {
            "marker": {
             "colorbar": {
              "outlinewidth": 0,
              "ticks": ""
             }
            },
            "type": "scattermapbox"
           }
          ],
          "scatterpolar": [
           {
            "marker": {
             "colorbar": {
              "outlinewidth": 0,
              "ticks": ""
             }
            },
            "type": "scatterpolar"
           }
          ],
          "scatterpolargl": [
           {
            "marker": {
             "colorbar": {
              "outlinewidth": 0,
              "ticks": ""
             }
            },
            "type": "scatterpolargl"
           }
          ],
          "scatterternary": [
           {
            "marker": {
             "colorbar": {
              "outlinewidth": 0,
              "ticks": ""
             }
            },
            "type": "scatterternary"
           }
          ],
          "surface": [
           {
            "colorbar": {
             "outlinewidth": 0,
             "ticks": ""
            },
            "colorscale": [
             [
              0,
              "#0d0887"
             ],
             [
              0.1111111111111111,
              "#46039f"
             ],
             [
              0.2222222222222222,
              "#7201a8"
             ],
             [
              0.3333333333333333,
              "#9c179e"
             ],
             [
              0.4444444444444444,
              "#bd3786"
             ],
             [
              0.5555555555555556,
              "#d8576b"
             ],
             [
              0.6666666666666666,
              "#ed7953"
             ],
             [
              0.7777777777777778,
              "#fb9f3a"
             ],
             [
              0.8888888888888888,
              "#fdca26"
             ],
             [
              1,
              "#f0f921"
             ]
            ],
            "type": "surface"
           }
          ],
          "table": [
           {
            "cells": {
             "fill": {
              "color": "#EBF0F8"
             },
             "line": {
              "color": "white"
             }
            },
            "header": {
             "fill": {
              "color": "#C8D4E3"
             },
             "line": {
              "color": "white"
             }
            },
            "type": "table"
           }
          ]
         },
         "layout": {
          "annotationdefaults": {
           "arrowcolor": "#2a3f5f",
           "arrowhead": 0,
           "arrowwidth": 1
          },
          "autotypenumbers": "strict",
          "coloraxis": {
           "colorbar": {
            "outlinewidth": 0,
            "ticks": ""
           }
          },
          "colorscale": {
           "diverging": [
            [
             0,
             "#8e0152"
            ],
            [
             0.1,
             "#c51b7d"
            ],
            [
             0.2,
             "#de77ae"
            ],
            [
             0.3,
             "#f1b6da"
            ],
            [
             0.4,
             "#fde0ef"
            ],
            [
             0.5,
             "#f7f7f7"
            ],
            [
             0.6,
             "#e6f5d0"
            ],
            [
             0.7,
             "#b8e186"
            ],
            [
             0.8,
             "#7fbc41"
            ],
            [
             0.9,
             "#4d9221"
            ],
            [
             1,
             "#276419"
            ]
           ],
           "sequential": [
            [
             0,
             "#0d0887"
            ],
            [
             0.1111111111111111,
             "#46039f"
            ],
            [
             0.2222222222222222,
             "#7201a8"
            ],
            [
             0.3333333333333333,
             "#9c179e"
            ],
            [
             0.4444444444444444,
             "#bd3786"
            ],
            [
             0.5555555555555556,
             "#d8576b"
            ],
            [
             0.6666666666666666,
             "#ed7953"
            ],
            [
             0.7777777777777778,
             "#fb9f3a"
            ],
            [
             0.8888888888888888,
             "#fdca26"
            ],
            [
             1,
             "#f0f921"
            ]
           ],
           "sequentialminus": [
            [
             0,
             "#0d0887"
            ],
            [
             0.1111111111111111,
             "#46039f"
            ],
            [
             0.2222222222222222,
             "#7201a8"
            ],
            [
             0.3333333333333333,
             "#9c179e"
            ],
            [
             0.4444444444444444,
             "#bd3786"
            ],
            [
             0.5555555555555556,
             "#d8576b"
            ],
            [
             0.6666666666666666,
             "#ed7953"
            ],
            [
             0.7777777777777778,
             "#fb9f3a"
            ],
            [
             0.8888888888888888,
             "#fdca26"
            ],
            [
             1,
             "#f0f921"
            ]
           ]
          },
          "colorway": [
           "#636efa",
           "#EF553B",
           "#00cc96",
           "#ab63fa",
           "#FFA15A",
           "#19d3f3",
           "#FF6692",
           "#B6E880",
           "#FF97FF",
           "#FECB52"
          ],
          "font": {
           "color": "#2a3f5f"
          },
          "geo": {
           "bgcolor": "white",
           "lakecolor": "white",
           "landcolor": "#E5ECF6",
           "showlakes": true,
           "showland": true,
           "subunitcolor": "white"
          },
          "hoverlabel": {
           "align": "left"
          },
          "hovermode": "closest",
          "mapbox": {
           "style": "light"
          },
          "paper_bgcolor": "white",
          "plot_bgcolor": "#E5ECF6",
          "polar": {
           "angularaxis": {
            "gridcolor": "white",
            "linecolor": "white",
            "ticks": ""
           },
           "bgcolor": "#E5ECF6",
           "radialaxis": {
            "gridcolor": "white",
            "linecolor": "white",
            "ticks": ""
           }
          },
          "scene": {
           "xaxis": {
            "backgroundcolor": "#E5ECF6",
            "gridcolor": "white",
            "gridwidth": 2,
            "linecolor": "white",
            "showbackground": true,
            "ticks": "",
            "zerolinecolor": "white"
           },
           "yaxis": {
            "backgroundcolor": "#E5ECF6",
            "gridcolor": "white",
            "gridwidth": 2,
            "linecolor": "white",
            "showbackground": true,
            "ticks": "",
            "zerolinecolor": "white"
           },
           "zaxis": {
            "backgroundcolor": "#E5ECF6",
            "gridcolor": "white",
            "gridwidth": 2,
            "linecolor": "white",
            "showbackground": true,
            "ticks": "",
            "zerolinecolor": "white"
           }
          },
          "shapedefaults": {
           "line": {
            "color": "#2a3f5f"
           }
          },
          "ternary": {
           "aaxis": {
            "gridcolor": "white",
            "linecolor": "white",
            "ticks": ""
           },
           "baxis": {
            "gridcolor": "white",
            "linecolor": "white",
            "ticks": ""
           },
           "bgcolor": "#E5ECF6",
           "caxis": {
            "gridcolor": "white",
            "linecolor": "white",
            "ticks": ""
           }
          },
          "title": {
           "x": 0.05
          },
          "xaxis": {
           "automargin": true,
           "gridcolor": "white",
           "linecolor": "white",
           "ticks": "",
           "title": {
            "standoff": 15
           },
           "zerolinecolor": "white",
           "zerolinewidth": 2
          },
          "yaxis": {
           "automargin": true,
           "gridcolor": "white",
           "linecolor": "white",
           "ticks": "",
           "title": {
            "standoff": 15
           },
           "zerolinecolor": "white",
           "zerolinewidth": 2
          }
         }
        },
        "xaxis": {
         "rangeslider": {
          "visible": true
         }
        }
       }
      }
     },
     "metadata": {},
     "output_type": "display_data"
    }
   ],
   "source": [
    "import plotly.graph_objects as go\n",
    "\n",
    "fig = go.Figure([go.Scatter(name='true', x=df['Date'], y=df['Passengers'])])\n",
    "fig.update_xaxes(rangeslider_visible=True)\n",
    "fig.show()"
   ]
  },
  {
   "cell_type": "markdown",
   "metadata": {},
   "source": [
    "## **Stationarity**"
   ]
  },
  {
   "cell_type": "markdown",
   "metadata": {},
   "source": [
    "**Cek stationarity dengan menggunakan adfuller test**\n",
    "\n",
    "**Hypothesis untuk adfuller test:**\n",
    "\n",
    "$H_0$: Data tidak stasioner\n",
    "\n",
    "$H_1$: Data stasioner"
   ]
  },
  {
   "cell_type": "code",
   "execution_count": 13,
   "metadata": {},
   "outputs": [
    {
     "data": {
      "text/plain": [
       "(0.8153688792060569,\n",
       " 0.9918802434376411,\n",
       " 13,\n",
       " 130,\n",
       " {'1%': -3.4816817173418295,\n",
       "  '5%': -2.8840418343195267,\n",
       "  '10%': -2.578770059171598},\n",
       " 996.6929308390189)"
      ]
     },
     "execution_count": 13,
     "metadata": {},
     "output_type": "execute_result"
    }
   ],
   "source": [
    "adf = adfuller(df['Passengers'])\n",
    "adf"
   ]
  },
  {
   "cell_type": "code",
   "execution_count": 14,
   "metadata": {},
   "outputs": [
    {
     "name": "stdout",
     "output_type": "stream",
     "text": [
      "Failed to reject null hypothesis; The data is not stationary\n"
     ]
    }
   ],
   "source": [
    "adf = adfuller(df['Passengers'])\n",
    "alpha = 0.05\n",
    "if adf[1] <= alpha:\n",
    "    print('Reject null hypothesis; The data is stationary')\n",
    "else:\n",
    "    print('Failed to reject null hypothesis; The data is not stationary')"
   ]
  },
  {
   "cell_type": "code",
   "execution_count": 15,
   "metadata": {},
   "outputs": [],
   "source": [
    "df_stationary = df.copy()"
   ]
  },
  {
   "cell_type": "code",
   "execution_count": 16,
   "metadata": {},
   "outputs": [],
   "source": [
    "df_stationary['Passengers_Stationary'] = df_stationary['Passengers'].diff()\n",
    "df_stationary['Passengers_Stationary_2'] = df_stationary['Passengers'].diff().diff()"
   ]
  },
  {
   "cell_type": "code",
   "execution_count": 17,
   "metadata": {},
   "outputs": [
    {
     "data": {
      "text/html": [
       "<div>\n",
       "<style scoped>\n",
       "    .dataframe tbody tr th:only-of-type {\n",
       "        vertical-align: middle;\n",
       "    }\n",
       "\n",
       "    .dataframe tbody tr th {\n",
       "        vertical-align: top;\n",
       "    }\n",
       "\n",
       "    .dataframe thead th {\n",
       "        text-align: right;\n",
       "    }\n",
       "</style>\n",
       "<table border=\"1\" class=\"dataframe\">\n",
       "  <thead>\n",
       "    <tr style=\"text-align: right;\">\n",
       "      <th></th>\n",
       "      <th>Date</th>\n",
       "      <th>Passengers</th>\n",
       "      <th>Passengers_Stationary</th>\n",
       "      <th>Passengers_Stationary_2</th>\n",
       "    </tr>\n",
       "  </thead>\n",
       "  <tbody>\n",
       "    <tr>\n",
       "      <th>0</th>\n",
       "      <td>1949-01-01</td>\n",
       "      <td>112</td>\n",
       "      <td>NaN</td>\n",
       "      <td>NaN</td>\n",
       "    </tr>\n",
       "    <tr>\n",
       "      <th>1</th>\n",
       "      <td>1949-02-01</td>\n",
       "      <td>118</td>\n",
       "      <td>6.0</td>\n",
       "      <td>NaN</td>\n",
       "    </tr>\n",
       "    <tr>\n",
       "      <th>2</th>\n",
       "      <td>1949-03-01</td>\n",
       "      <td>132</td>\n",
       "      <td>14.0</td>\n",
       "      <td>8.0</td>\n",
       "    </tr>\n",
       "    <tr>\n",
       "      <th>3</th>\n",
       "      <td>1949-04-01</td>\n",
       "      <td>129</td>\n",
       "      <td>-3.0</td>\n",
       "      <td>-17.0</td>\n",
       "    </tr>\n",
       "    <tr>\n",
       "      <th>4</th>\n",
       "      <td>1949-05-01</td>\n",
       "      <td>121</td>\n",
       "      <td>-8.0</td>\n",
       "      <td>-5.0</td>\n",
       "    </tr>\n",
       "    <tr>\n",
       "      <th>...</th>\n",
       "      <td>...</td>\n",
       "      <td>...</td>\n",
       "      <td>...</td>\n",
       "      <td>...</td>\n",
       "    </tr>\n",
       "    <tr>\n",
       "      <th>139</th>\n",
       "      <td>1960-08-01</td>\n",
       "      <td>606</td>\n",
       "      <td>-16.0</td>\n",
       "      <td>-103.0</td>\n",
       "    </tr>\n",
       "    <tr>\n",
       "      <th>140</th>\n",
       "      <td>1960-09-01</td>\n",
       "      <td>508</td>\n",
       "      <td>-98.0</td>\n",
       "      <td>-82.0</td>\n",
       "    </tr>\n",
       "    <tr>\n",
       "      <th>141</th>\n",
       "      <td>1960-10-01</td>\n",
       "      <td>461</td>\n",
       "      <td>-47.0</td>\n",
       "      <td>51.0</td>\n",
       "    </tr>\n",
       "    <tr>\n",
       "      <th>142</th>\n",
       "      <td>1960-11-01</td>\n",
       "      <td>390</td>\n",
       "      <td>-71.0</td>\n",
       "      <td>-24.0</td>\n",
       "    </tr>\n",
       "    <tr>\n",
       "      <th>143</th>\n",
       "      <td>1960-12-01</td>\n",
       "      <td>432</td>\n",
       "      <td>42.0</td>\n",
       "      <td>113.0</td>\n",
       "    </tr>\n",
       "  </tbody>\n",
       "</table>\n",
       "<p>144 rows × 4 columns</p>\n",
       "</div>"
      ],
      "text/plain": [
       "           Date  Passengers  Passengers_Stationary  Passengers_Stationary_2\n",
       "0    1949-01-01         112                    NaN                      NaN\n",
       "1    1949-02-01         118                    6.0                      NaN\n",
       "2    1949-03-01         132                   14.0                      8.0\n",
       "3    1949-04-01         129                   -3.0                    -17.0\n",
       "4    1949-05-01         121                   -8.0                     -5.0\n",
       "..          ...         ...                    ...                      ...\n",
       "139  1960-08-01         606                  -16.0                   -103.0\n",
       "140  1960-09-01         508                  -98.0                    -82.0\n",
       "141  1960-10-01         461                  -47.0                     51.0\n",
       "142  1960-11-01         390                  -71.0                    -24.0\n",
       "143  1960-12-01         432                   42.0                    113.0\n",
       "\n",
       "[144 rows x 4 columns]"
      ]
     },
     "execution_count": 17,
     "metadata": {},
     "output_type": "execute_result"
    }
   ],
   "source": [
    "df_stationary"
   ]
  },
  {
   "cell_type": "code",
   "execution_count": 18,
   "metadata": {},
   "outputs": [],
   "source": [
    "df_stationary = df_stationary.dropna()"
   ]
  },
  {
   "cell_type": "code",
   "execution_count": 19,
   "metadata": {},
   "outputs": [
    {
     "data": {
      "text/html": [
       "<div>\n",
       "<style scoped>\n",
       "    .dataframe tbody tr th:only-of-type {\n",
       "        vertical-align: middle;\n",
       "    }\n",
       "\n",
       "    .dataframe tbody tr th {\n",
       "        vertical-align: top;\n",
       "    }\n",
       "\n",
       "    .dataframe thead th {\n",
       "        text-align: right;\n",
       "    }\n",
       "</style>\n",
       "<table border=\"1\" class=\"dataframe\">\n",
       "  <thead>\n",
       "    <tr style=\"text-align: right;\">\n",
       "      <th></th>\n",
       "      <th>Date</th>\n",
       "      <th>Passengers</th>\n",
       "      <th>Passengers_Stationary</th>\n",
       "      <th>Passengers_Stationary_2</th>\n",
       "    </tr>\n",
       "  </thead>\n",
       "  <tbody>\n",
       "    <tr>\n",
       "      <th>2</th>\n",
       "      <td>1949-03-01</td>\n",
       "      <td>132</td>\n",
       "      <td>14.0</td>\n",
       "      <td>8.0</td>\n",
       "    </tr>\n",
       "    <tr>\n",
       "      <th>3</th>\n",
       "      <td>1949-04-01</td>\n",
       "      <td>129</td>\n",
       "      <td>-3.0</td>\n",
       "      <td>-17.0</td>\n",
       "    </tr>\n",
       "    <tr>\n",
       "      <th>4</th>\n",
       "      <td>1949-05-01</td>\n",
       "      <td>121</td>\n",
       "      <td>-8.0</td>\n",
       "      <td>-5.0</td>\n",
       "    </tr>\n",
       "    <tr>\n",
       "      <th>5</th>\n",
       "      <td>1949-06-01</td>\n",
       "      <td>135</td>\n",
       "      <td>14.0</td>\n",
       "      <td>22.0</td>\n",
       "    </tr>\n",
       "    <tr>\n",
       "      <th>6</th>\n",
       "      <td>1949-07-01</td>\n",
       "      <td>148</td>\n",
       "      <td>13.0</td>\n",
       "      <td>-1.0</td>\n",
       "    </tr>\n",
       "    <tr>\n",
       "      <th>...</th>\n",
       "      <td>...</td>\n",
       "      <td>...</td>\n",
       "      <td>...</td>\n",
       "      <td>...</td>\n",
       "    </tr>\n",
       "    <tr>\n",
       "      <th>139</th>\n",
       "      <td>1960-08-01</td>\n",
       "      <td>606</td>\n",
       "      <td>-16.0</td>\n",
       "      <td>-103.0</td>\n",
       "    </tr>\n",
       "    <tr>\n",
       "      <th>140</th>\n",
       "      <td>1960-09-01</td>\n",
       "      <td>508</td>\n",
       "      <td>-98.0</td>\n",
       "      <td>-82.0</td>\n",
       "    </tr>\n",
       "    <tr>\n",
       "      <th>141</th>\n",
       "      <td>1960-10-01</td>\n",
       "      <td>461</td>\n",
       "      <td>-47.0</td>\n",
       "      <td>51.0</td>\n",
       "    </tr>\n",
       "    <tr>\n",
       "      <th>142</th>\n",
       "      <td>1960-11-01</td>\n",
       "      <td>390</td>\n",
       "      <td>-71.0</td>\n",
       "      <td>-24.0</td>\n",
       "    </tr>\n",
       "    <tr>\n",
       "      <th>143</th>\n",
       "      <td>1960-12-01</td>\n",
       "      <td>432</td>\n",
       "      <td>42.0</td>\n",
       "      <td>113.0</td>\n",
       "    </tr>\n",
       "  </tbody>\n",
       "</table>\n",
       "<p>142 rows × 4 columns</p>\n",
       "</div>"
      ],
      "text/plain": [
       "           Date  Passengers  Passengers_Stationary  Passengers_Stationary_2\n",
       "2    1949-03-01         132                   14.0                      8.0\n",
       "3    1949-04-01         129                   -3.0                    -17.0\n",
       "4    1949-05-01         121                   -8.0                     -5.0\n",
       "5    1949-06-01         135                   14.0                     22.0\n",
       "6    1949-07-01         148                   13.0                     -1.0\n",
       "..          ...         ...                    ...                      ...\n",
       "139  1960-08-01         606                  -16.0                   -103.0\n",
       "140  1960-09-01         508                  -98.0                    -82.0\n",
       "141  1960-10-01         461                  -47.0                     51.0\n",
       "142  1960-11-01         390                  -71.0                    -24.0\n",
       "143  1960-12-01         432                   42.0                    113.0\n",
       "\n",
       "[142 rows x 4 columns]"
      ]
     },
     "execution_count": 19,
     "metadata": {},
     "output_type": "execute_result"
    }
   ],
   "source": [
    "df_stationary"
   ]
  },
  {
   "cell_type": "code",
   "execution_count": 20,
   "metadata": {},
   "outputs": [
    {
     "name": "stdout",
     "output_type": "stream",
     "text": [
      "Failed to reject null hypothesis; The data is not stationary\n"
     ]
    }
   ],
   "source": [
    "adf_stat = adfuller(df_stationary['Passengers_Stationary'])\n",
    "alpha = 0.05\n",
    "if adf_stat[1] <= alpha:\n",
    "    print('Reject null hypothesis; The data is stationary')\n",
    "else:\n",
    "    print('Failed to reject null hypothesis; The data is not stationary')"
   ]
  },
  {
   "cell_type": "code",
   "execution_count": 21,
   "metadata": {},
   "outputs": [
    {
     "name": "stdout",
     "output_type": "stream",
     "text": [
      "Reject null hypothesis; The data is stationary\n"
     ]
    }
   ],
   "source": [
    "adf_stat = adfuller(df_stationary['Passengers_Stationary_2'])\n",
    "alpha = 0.05\n",
    "if adf_stat[1] <= alpha:\n",
    "    print('Reject null hypothesis; The data is stationary')\n",
    "else:\n",
    "    print('Failed to reject null hypothesis; The data is not stationary')"
   ]
  },
  {
   "cell_type": "code",
   "execution_count": 22,
   "metadata": {},
   "outputs": [
    {
     "data": {
      "image/png": "[encoded data removed]",
      "text/plain": [
       "<Figure size 1440x864 with 9 Axes>"
      ]
     },
     "metadata": {
      "needs_background": "light"
     },
     "output_type": "display_data"
    }
   ],
   "source": [
    "# Original Series\n",
    "fig, axes = plt.subplots(3, 3, figsize = (20,12))\n",
    "axes[0, 0].plot(df['Passengers']); axes[0, 0].set_title('Original Series')\n",
    "plot_acf(df['Passengers'], ax=axes[0, 1], zero = False)\n",
    "plot_pacf(df['Passengers'], ax=axes[0, 2], zero = False)\n",
    "\n",
    "# 1st Differencing\n",
    "axes[1, 0].plot(df_stationary['Passengers_Stationary']); axes[1, 0].set_title('1st Order Differencing')\n",
    "plot_acf(df_stationary['Passengers_Stationary'].dropna(), ax=axes[1, 1], zero = False)\n",
    "plot_pacf(df_stationary['Passengers_Stationary'].dropna(), ax=axes[1, 2], zero = False)\n",
    "\n",
    "# 2nd Differencing\n",
    "axes[2, 0].plot(df_stationary['Passengers_Stationary_2'].diff().diff()); axes[2, 0].set_title('2nd Order Differencing')\n",
    "plot_acf(df_stationary['Passengers_Stationary_2'].dropna(), ax=axes[2, 1], zero = False)\n",
    "plot_pacf(df_stationary['Passengers_Stationary_2'].dropna(), ax=axes[2, 2], zero = False)\n",
    "\n",
    "plt.tight_layout()\n",
    "plt.show()"
   ]
  },
  {
   "cell_type": "code",
   "execution_count": 38,
   "metadata": {},
   "outputs": [
    {
     "name": "stdout",
     "output_type": "stream",
     "text": [
      "Performing stepwise search to minimize aic\n",
      " ARIMA(1,0,1)(0,0,0)[0] intercept   : AIC=inf, Time=0.51 sec\n",
      " ARIMA(0,0,0)(0,0,0)[0] intercept   : AIC=1452.590, Time=0.02 sec\n",
      " ARIMA(1,0,0)(0,0,0)[0] intercept   : AIC=1449.026, Time=0.05 sec\n",
      " ARIMA(0,0,1)(0,0,0)[0] intercept   : AIC=inf, Time=0.13 sec\n",
      " ARIMA(0,0,0)(0,0,0)[0]             : AIC=1450.596, Time=0.01 sec\n",
      " ARIMA(2,0,0)(0,0,0)[0] intercept   : AIC=1442.078, Time=0.12 sec\n",
      " ARIMA(3,0,0)(0,0,0)[0] intercept   : AIC=1439.877, Time=0.12 sec\n",
      " ARIMA(4,0,0)(0,0,0)[0] intercept   : AIC=1421.694, Time=0.18 sec\n",
      " ARIMA(5,0,0)(0,0,0)[0] intercept   : AIC=1422.097, Time=0.36 sec\n",
      " ARIMA(4,0,1)(0,0,0)[0] intercept   : AIC=inf, Time=0.41 sec\n",
      " ARIMA(3,0,1)(0,0,0)[0] intercept   : AIC=inf, Time=0.25 sec\n",
      " ARIMA(5,0,1)(0,0,0)[0] intercept   : AIC=inf, Time=0.45 sec\n",
      " ARIMA(4,0,0)(0,0,0)[0]             : AIC=1419.708, Time=0.08 sec\n",
      " ARIMA(3,0,0)(0,0,0)[0]             : AIC=1437.879, Time=0.07 sec\n",
      " ARIMA(5,0,0)(0,0,0)[0]             : AIC=1420.111, Time=0.14 sec\n",
      " ARIMA(4,0,1)(0,0,0)[0]             : AIC=inf, Time=0.25 sec\n",
      " ARIMA(3,0,1)(0,0,0)[0]             : AIC=inf, Time=0.20 sec\n",
      " ARIMA(5,0,1)(0,0,0)[0]             : AIC=inf, Time=0.41 sec\n",
      "\n",
      "Best model:  ARIMA(4,0,0)(0,0,0)[0]          \n",
      "Total fit time: 3.910 seconds\n"
     ]
    }
   ],
   "source": [
    "import pmdarima as pmd\n",
    "\n",
    "arima_model = pmd.auto_arima(\n",
    "    df_stationary['Passengers_Stationary_2'],\n",
    "    start_p=1,\n",
    "    start_q=1, trace=True,\n",
    ")"
   ]
  },
  {
   "cell_type": "markdown",
   "metadata": {},
   "source": [
    "## **Modeling**"
   ]
  },
  {
   "cell_type": "markdown",
   "metadata": {},
   "source": [
    "**Contoh kandidat model:**\n",
    "1. ARIMA(2, 2, 2)\n",
    "2. ARIMA(4, 2, 2)"
   ]
  },
  {
   "cell_type": "code",
   "execution_count": 24,
   "metadata": {},
   "outputs": [],
   "source": [
    "from statsmodels.tsa.arima_model import ARIMA\n",
    "\n",
    "model = ARIMA(df['Passengers'], order = (2, 2, 2))\n",
    "model_fit = model.fit()"
   ]
  },
  {
   "cell_type": "code",
   "execution_count": 25,
   "metadata": {},
   "outputs": [
    {
     "name": "stdout",
     "output_type": "stream",
     "text": [
      "                             ARIMA Model Results                              \n",
      "==============================================================================\n",
      "Dep. Variable:          D2.Passengers   No. Observations:                  142\n",
      "Model:                 ARIMA(2, 2, 2)   Log Likelihood                -691.328\n",
      "Method:                       css-mle   S.D. of innovations             30.953\n",
      "Date:                Thu, 14 Oct 2021   AIC                           1394.656\n",
      "Time:                        20:40:56   BIC                           1412.391\n",
      "Sample:                             2   HQIC                          1401.863\n",
      "                                                                              \n",
      "=======================================================================================\n",
      "                          coef    std err          z      P>|z|      [0.025      0.975]\n",
      "---------------------------------------------------------------------------------------\n",
      "const                   0.0043      0.087      0.049      0.961      -0.166       0.175\n",
      "ar.L1.D2.Passengers    -0.4632      0.107     -4.349      0.000      -0.672      -0.254\n",
      "ar.L2.D2.Passengers     0.1066      0.096      1.115      0.265      -0.081       0.294\n",
      "ma.L1.D2.Passengers    -0.1057      0.066     -1.607      0.108      -0.235       0.023\n",
      "ma.L2.D2.Passengers    -0.8943      0.065    -13.700      0.000      -1.022      -0.766\n",
      "                                    Roots                                    \n",
      "=============================================================================\n",
      "                  Real          Imaginary           Modulus         Frequency\n",
      "-----------------------------------------------------------------------------\n",
      "AR.1           -1.5825           +0.0000j            1.5825            0.5000\n",
      "AR.2            5.9285           +0.0000j            5.9285            0.0000\n",
      "MA.1            1.0000           +0.0000j            1.0000            0.0000\n",
      "MA.2           -1.1182           +0.0000j            1.1182            0.5000\n",
      "-----------------------------------------------------------------------------\n"
     ]
    }
   ],
   "source": [
    "print(model_fit.summary())"
   ]
  },
  {
   "cell_type": "code",
   "execution_count": 26,
   "metadata": {},
   "outputs": [
    {
     "name": "stdout",
     "output_type": "stream",
     "text": [
      "                             ARIMA Model Results                              \n",
      "==============================================================================\n",
      "Dep. Variable:          D2.Passengers   No. Observations:                  142\n",
      "Model:                 ARIMA(4, 2, 2)   Log Likelihood                -683.629\n",
      "Method:                       css-mle   S.D. of innovations             29.196\n",
      "Date:                Thu, 14 Oct 2021   AIC                           1383.257\n",
      "Time:                        20:40:56   BIC                           1406.904\n",
      "Sample:                             2   HQIC                          1392.866\n",
      "                                                                              \n",
      "=======================================================================================\n",
      "                          coef    std err          z      P>|z|      [0.025      0.975]\n",
      "---------------------------------------------------------------------------------------\n",
      "const                   0.0104      0.057      0.182      0.855      -0.102       0.123\n",
      "ar.L1.D2.Passengers    -0.4079      0.109     -3.759      0.000      -0.621      -0.195\n",
      "ar.L2.D2.Passengers     0.0416      0.092      0.450      0.653      -0.139       0.223\n",
      "ar.L3.D2.Passengers    -0.2090      0.090     -2.326      0.020      -0.385      -0.033\n",
      "ar.L4.D2.Passengers    -0.3338      0.084     -3.965      0.000      -0.499      -0.169\n",
      "ma.L1.D2.Passengers    -0.1820      0.090     -2.016      0.044      -0.359      -0.005\n",
      "ma.L2.D2.Passengers    -0.8180      0.090     -9.120      0.000      -0.994      -0.642\n",
      "                                    Roots                                    \n",
      "=============================================================================\n",
      "                  Real          Imaginary           Modulus         Frequency\n",
      "-----------------------------------------------------------------------------\n",
      "AR.1            0.8033           -1.0592j            1.3293           -0.1467\n",
      "AR.2            0.8033           +1.0592j            1.3293            0.1467\n",
      "AR.3           -1.1163           -0.6701j            1.3020           -0.4140\n",
      "AR.4           -1.1163           +0.6701j            1.3020            0.4140\n",
      "MA.1            1.0000           +0.0000j            1.0000            0.0000\n",
      "MA.2           -1.2225           +0.0000j            1.2225            0.5000\n",
      "-----------------------------------------------------------------------------\n"
     ]
    }
   ],
   "source": [
    "model2 = ARIMA(df['Passengers'], order = (4, 2, 2))\n",
    "model2_fit = model2.fit()\n",
    "print(model2_fit.summary())"
   ]
  },
  {
   "cell_type": "markdown",
   "metadata": {},
   "source": [
    "## **Forecasting**"
   ]
  },
  {
   "cell_type": "code",
   "execution_count": 27,
   "metadata": {},
   "outputs": [],
   "source": [
    "forecast_length = 12\n",
    "forecast_result = model2_fit.forecast(forecast_length)"
   ]
  },
  {
   "cell_type": "code",
   "execution_count": 28,
   "metadata": {},
   "outputs": [
    {
     "name": "stdout",
     "output_type": "stream",
     "text": [
      "Forecasted Value [496.07703789 508.46768206 527.2703163  498.9925717  493.63941877\n",
      " 492.9124084  498.97169851 513.39969296 516.09629304 520.98302666\n",
      " 520.49405202 521.96729768] \n",
      "\n",
      "Forecasted SE [ 29.19616312  50.47165764  62.87753657  71.1939002   74.71468487\n",
      "  78.36534399  82.22025308  86.86633031  91.95739018  96.3750625\n",
      " 100.4733443  104.04541963] \n",
      "\n",
      "Forecasted confidence interval [[438.85360969 553.30046609]\n",
      " [409.54505084 607.39031328]\n",
      " [404.03260917 650.50802342]\n",
      " [359.45509138 638.53005201]\n",
      " [347.2013273  640.07751023]\n",
      " [339.31915655 646.50566025]\n",
      " [337.82296368 660.12043334]\n",
      " [343.14481407 683.65457184]\n",
      " [335.86312017 696.32946591]\n",
      " [332.09137516 709.87467816]\n",
      " [323.56991579 717.41818826]\n",
      " [318.04202245 725.89257291]]\n"
     ]
    }
   ],
   "source": [
    "print('Forecasted Value', forecast_result[0], '\\n')\n",
    "print('Forecasted SE', forecast_result[1], '\\n')\n",
    "print('Forecasted confidence interval', forecast_result[2])"
   ]
  },
  {
   "cell_type": "code",
   "execution_count": 29,
   "metadata": {},
   "outputs": [
    {
     "data": {
      "text/html": [
       "<div>\n",
       "<style scoped>\n",
       "    .dataframe tbody tr th:only-of-type {\n",
       "        vertical-align: middle;\n",
       "    }\n",
       "\n",
       "    .dataframe tbody tr th {\n",
       "        vertical-align: top;\n",
       "    }\n",
       "\n",
       "    .dataframe thead th {\n",
       "        text-align: right;\n",
       "    }\n",
       "</style>\n",
       "<table border=\"1\" class=\"dataframe\">\n",
       "  <thead>\n",
       "    <tr style=\"text-align: right;\">\n",
       "      <th></th>\n",
       "      <th>Date</th>\n",
       "      <th>Passengers</th>\n",
       "    </tr>\n",
       "  </thead>\n",
       "  <tbody>\n",
       "    <tr>\n",
       "      <th>131</th>\n",
       "      <td>1959-12-01</td>\n",
       "      <td>405</td>\n",
       "    </tr>\n",
       "    <tr>\n",
       "      <th>132</th>\n",
       "      <td>1960-01-01</td>\n",
       "      <td>417</td>\n",
       "    </tr>\n",
       "    <tr>\n",
       "      <th>133</th>\n",
       "      <td>1960-02-01</td>\n",
       "      <td>391</td>\n",
       "    </tr>\n",
       "    <tr>\n",
       "      <th>134</th>\n",
       "      <td>1960-03-01</td>\n",
       "      <td>419</td>\n",
       "    </tr>\n",
       "    <tr>\n",
       "      <th>135</th>\n",
       "      <td>1960-04-01</td>\n",
       "      <td>461</td>\n",
       "    </tr>\n",
       "    <tr>\n",
       "      <th>136</th>\n",
       "      <td>1960-05-01</td>\n",
       "      <td>472</td>\n",
       "    </tr>\n",
       "    <tr>\n",
       "      <th>137</th>\n",
       "      <td>1960-06-01</td>\n",
       "      <td>535</td>\n",
       "    </tr>\n",
       "    <tr>\n",
       "      <th>138</th>\n",
       "      <td>1960-07-01</td>\n",
       "      <td>622</td>\n",
       "    </tr>\n",
       "    <tr>\n",
       "      <th>139</th>\n",
       "      <td>1960-08-01</td>\n",
       "      <td>606</td>\n",
       "    </tr>\n",
       "    <tr>\n",
       "      <th>140</th>\n",
       "      <td>1960-09-01</td>\n",
       "      <td>508</td>\n",
       "    </tr>\n",
       "    <tr>\n",
       "      <th>141</th>\n",
       "      <td>1960-10-01</td>\n",
       "      <td>461</td>\n",
       "    </tr>\n",
       "    <tr>\n",
       "      <th>142</th>\n",
       "      <td>1960-11-01</td>\n",
       "      <td>390</td>\n",
       "    </tr>\n",
       "    <tr>\n",
       "      <th>143</th>\n",
       "      <td>1960-12-01</td>\n",
       "      <td>432</td>\n",
       "    </tr>\n",
       "  </tbody>\n",
       "</table>\n",
       "</div>"
      ],
      "text/plain": [
       "           Date  Passengers\n",
       "131  1959-12-01         405\n",
       "132  1960-01-01         417\n",
       "133  1960-02-01         391\n",
       "134  1960-03-01         419\n",
       "135  1960-04-01         461\n",
       "136  1960-05-01         472\n",
       "137  1960-06-01         535\n",
       "138  1960-07-01         622\n",
       "139  1960-08-01         606\n",
       "140  1960-09-01         508\n",
       "141  1960-10-01         461\n",
       "142  1960-11-01         390\n",
       "143  1960-12-01         432"
      ]
     },
     "execution_count": 29,
     "metadata": {},
     "output_type": "execute_result"
    }
   ],
   "source": [
    "df.tail(13)"
   ]
  },
  {
   "cell_type": "code",
   "execution_count": 30,
   "metadata": {},
   "outputs": [],
   "source": [
    "Month = []\n",
    "\n",
    "for i in range(1, forecast_length+1):\n",
    "  Month.append('1961-'+str(i)+'-01')"
   ]
  },
  {
   "cell_type": "code",
   "execution_count": 31,
   "metadata": {},
   "outputs": [],
   "source": [
    "df_forecast = pd.DataFrame({\n",
    "    'Date': Month,\n",
    "    'Passengers': forecast_result[0],\n",
    "})"
   ]
  },
  {
   "cell_type": "code",
   "execution_count": 32,
   "metadata": {},
   "outputs": [
    {
     "data": {
      "text/html": [
       "<div>\n",
       "<style scoped>\n",
       "    .dataframe tbody tr th:only-of-type {\n",
       "        vertical-align: middle;\n",
       "    }\n",
       "\n",
       "    .dataframe tbody tr th {\n",
       "        vertical-align: top;\n",
       "    }\n",
       "\n",
       "    .dataframe thead th {\n",
       "        text-align: right;\n",
       "    }\n",
       "</style>\n",
       "<table border=\"1\" class=\"dataframe\">\n",
       "  <thead>\n",
       "    <tr style=\"text-align: right;\">\n",
       "      <th></th>\n",
       "      <th>Date</th>\n",
       "      <th>Passengers</th>\n",
       "      <th>SE</th>\n",
       "      <th>Lower Bound</th>\n",
       "      <th>Upper Bound</th>\n",
       "    </tr>\n",
       "  </thead>\n",
       "  <tbody>\n",
       "    <tr>\n",
       "      <th>0</th>\n",
       "      <td>1961-1-01</td>\n",
       "      <td>496.077038</td>\n",
       "      <td>29.196163</td>\n",
       "      <td>438.853610</td>\n",
       "      <td>553.300466</td>\n",
       "    </tr>\n",
       "    <tr>\n",
       "      <th>1</th>\n",
       "      <td>1961-2-01</td>\n",
       "      <td>508.467682</td>\n",
       "      <td>50.471658</td>\n",
       "      <td>409.545051</td>\n",
       "      <td>607.390313</td>\n",
       "    </tr>\n",
       "    <tr>\n",
       "      <th>2</th>\n",
       "      <td>1961-3-01</td>\n",
       "      <td>527.270316</td>\n",
       "      <td>62.877537</td>\n",
       "      <td>404.032609</td>\n",
       "      <td>650.508023</td>\n",
       "    </tr>\n",
       "    <tr>\n",
       "      <th>3</th>\n",
       "      <td>1961-4-01</td>\n",
       "      <td>498.992572</td>\n",
       "      <td>71.193900</td>\n",
       "      <td>359.455091</td>\n",
       "      <td>638.530052</td>\n",
       "    </tr>\n",
       "    <tr>\n",
       "      <th>4</th>\n",
       "      <td>1961-5-01</td>\n",
       "      <td>493.639419</td>\n",
       "      <td>74.714685</td>\n",
       "      <td>347.201327</td>\n",
       "      <td>640.077510</td>\n",
       "    </tr>\n",
       "    <tr>\n",
       "      <th>5</th>\n",
       "      <td>1961-6-01</td>\n",
       "      <td>492.912408</td>\n",
       "      <td>78.365344</td>\n",
       "      <td>339.319157</td>\n",
       "      <td>646.505660</td>\n",
       "    </tr>\n",
       "    <tr>\n",
       "      <th>6</th>\n",
       "      <td>1961-7-01</td>\n",
       "      <td>498.971699</td>\n",
       "      <td>82.220253</td>\n",
       "      <td>337.822964</td>\n",
       "      <td>660.120433</td>\n",
       "    </tr>\n",
       "    <tr>\n",
       "      <th>7</th>\n",
       "      <td>1961-8-01</td>\n",
       "      <td>513.399693</td>\n",
       "      <td>86.866330</td>\n",
       "      <td>343.144814</td>\n",
       "      <td>683.654572</td>\n",
       "    </tr>\n",
       "    <tr>\n",
       "      <th>8</th>\n",
       "      <td>1961-9-01</td>\n",
       "      <td>516.096293</td>\n",
       "      <td>91.957390</td>\n",
       "      <td>335.863120</td>\n",
       "      <td>696.329466</td>\n",
       "    </tr>\n",
       "    <tr>\n",
       "      <th>9</th>\n",
       "      <td>1961-10-01</td>\n",
       "      <td>520.983027</td>\n",
       "      <td>96.375062</td>\n",
       "      <td>332.091375</td>\n",
       "      <td>709.874678</td>\n",
       "    </tr>\n",
       "    <tr>\n",
       "      <th>10</th>\n",
       "      <td>1961-11-01</td>\n",
       "      <td>520.494052</td>\n",
       "      <td>100.473344</td>\n",
       "      <td>323.569916</td>\n",
       "      <td>717.418188</td>\n",
       "    </tr>\n",
       "    <tr>\n",
       "      <th>11</th>\n",
       "      <td>1961-12-01</td>\n",
       "      <td>521.967298</td>\n",
       "      <td>104.045420</td>\n",
       "      <td>318.042022</td>\n",
       "      <td>725.892573</td>\n",
       "    </tr>\n",
       "  </tbody>\n",
       "</table>\n",
       "</div>"
      ],
      "text/plain": [
       "          Date  Passengers          SE  Lower Bound  Upper Bound\n",
       "0    1961-1-01  496.077038   29.196163   438.853610   553.300466\n",
       "1    1961-2-01  508.467682   50.471658   409.545051   607.390313\n",
       "2    1961-3-01  527.270316   62.877537   404.032609   650.508023\n",
       "3    1961-4-01  498.992572   71.193900   359.455091   638.530052\n",
       "4    1961-5-01  493.639419   74.714685   347.201327   640.077510\n",
       "5    1961-6-01  492.912408   78.365344   339.319157   646.505660\n",
       "6    1961-7-01  498.971699   82.220253   337.822964   660.120433\n",
       "7    1961-8-01  513.399693   86.866330   343.144814   683.654572\n",
       "8    1961-9-01  516.096293   91.957390   335.863120   696.329466\n",
       "9   1961-10-01  520.983027   96.375062   332.091375   709.874678\n",
       "10  1961-11-01  520.494052  100.473344   323.569916   717.418188\n",
       "11  1961-12-01  521.967298  104.045420   318.042022   725.892573"
      ]
     },
     "execution_count": 32,
     "metadata": {},
     "output_type": "execute_result"
    }
   ],
   "source": [
    "df_forecast['SE'] = forecast_result[1]\n",
    "df_forecast['Lower Bound'] = forecast_result[2][:,0]\n",
    "df_forecast['Upper Bound'] = forecast_result[2][:,1]\n",
    "df_forecast"
   ]
  },
  {
   "cell_type": "code",
   "execution_count": 33,
   "metadata": {},
   "outputs": [
    {
     "data": {
      "text/html": [
       "<div>\n",
       "<style scoped>\n",
       "    .dataframe tbody tr th:only-of-type {\n",
       "        vertical-align: middle;\n",
       "    }\n",
       "\n",
       "    .dataframe tbody tr th {\n",
       "        vertical-align: top;\n",
       "    }\n",
       "\n",
       "    .dataframe thead th {\n",
       "        text-align: right;\n",
       "    }\n",
       "</style>\n",
       "<table border=\"1\" class=\"dataframe\">\n",
       "  <thead>\n",
       "    <tr style=\"text-align: right;\">\n",
       "      <th></th>\n",
       "      <th>Date</th>\n",
       "      <th>Passengers</th>\n",
       "    </tr>\n",
       "  </thead>\n",
       "  <tbody>\n",
       "    <tr>\n",
       "      <th>0</th>\n",
       "      <td>1961-1-01</td>\n",
       "      <td>496.077038</td>\n",
       "    </tr>\n",
       "    <tr>\n",
       "      <th>1</th>\n",
       "      <td>1961-2-01</td>\n",
       "      <td>508.467682</td>\n",
       "    </tr>\n",
       "    <tr>\n",
       "      <th>2</th>\n",
       "      <td>1961-3-01</td>\n",
       "      <td>527.270316</td>\n",
       "    </tr>\n",
       "    <tr>\n",
       "      <th>3</th>\n",
       "      <td>1961-4-01</td>\n",
       "      <td>498.992572</td>\n",
       "    </tr>\n",
       "    <tr>\n",
       "      <th>4</th>\n",
       "      <td>1961-5-01</td>\n",
       "      <td>493.639419</td>\n",
       "    </tr>\n",
       "    <tr>\n",
       "      <th>5</th>\n",
       "      <td>1961-6-01</td>\n",
       "      <td>492.912408</td>\n",
       "    </tr>\n",
       "    <tr>\n",
       "      <th>6</th>\n",
       "      <td>1961-7-01</td>\n",
       "      <td>498.971699</td>\n",
       "    </tr>\n",
       "    <tr>\n",
       "      <th>7</th>\n",
       "      <td>1961-8-01</td>\n",
       "      <td>513.399693</td>\n",
       "    </tr>\n",
       "    <tr>\n",
       "      <th>8</th>\n",
       "      <td>1961-9-01</td>\n",
       "      <td>516.096293</td>\n",
       "    </tr>\n",
       "    <tr>\n",
       "      <th>9</th>\n",
       "      <td>1961-10-01</td>\n",
       "      <td>520.983027</td>\n",
       "    </tr>\n",
       "    <tr>\n",
       "      <th>10</th>\n",
       "      <td>1961-11-01</td>\n",
       "      <td>520.494052</td>\n",
       "    </tr>\n",
       "    <tr>\n",
       "      <th>11</th>\n",
       "      <td>1961-12-01</td>\n",
       "      <td>521.967298</td>\n",
       "    </tr>\n",
       "  </tbody>\n",
       "</table>\n",
       "</div>"
      ],
      "text/plain": [
       "          Date  Passengers\n",
       "0    1961-1-01  496.077038\n",
       "1    1961-2-01  508.467682\n",
       "2    1961-3-01  527.270316\n",
       "3    1961-4-01  498.992572\n",
       "4    1961-5-01  493.639419\n",
       "5    1961-6-01  492.912408\n",
       "6    1961-7-01  498.971699\n",
       "7    1961-8-01  513.399693\n",
       "8    1961-9-01  516.096293\n",
       "9   1961-10-01  520.983027\n",
       "10  1961-11-01  520.494052\n",
       "11  1961-12-01  521.967298"
      ]
     },
     "execution_count": 33,
     "metadata": {},
     "output_type": "execute_result"
    }
   ],
   "source": [
    "df_forecast.iloc[:12,:][['Date', 'Passengers']]"
   ]
  },
  {
   "cell_type": "code",
   "execution_count": 34,
   "metadata": {},
   "outputs": [
    {
     "data": {
      "text/html": [
       "<div>\n",
       "<style scoped>\n",
       "    .dataframe tbody tr th:only-of-type {\n",
       "        vertical-align: middle;\n",
       "    }\n",
       "\n",
       "    .dataframe tbody tr th {\n",
       "        vertical-align: top;\n",
       "    }\n",
       "\n",
       "    .dataframe thead th {\n",
       "        text-align: right;\n",
       "    }\n",
       "</style>\n",
       "<table border=\"1\" class=\"dataframe\">\n",
       "  <thead>\n",
       "    <tr style=\"text-align: right;\">\n",
       "      <th></th>\n",
       "      <th>Date</th>\n",
       "      <th>Passengers</th>\n",
       "    </tr>\n",
       "  </thead>\n",
       "  <tbody>\n",
       "    <tr>\n",
       "      <th>0</th>\n",
       "      <td>1961-1-01</td>\n",
       "      <td>496.077038</td>\n",
       "    </tr>\n",
       "  </tbody>\n",
       "</table>\n",
       "</div>"
      ],
      "text/plain": [
       "        Date  Passengers\n",
       "0  1961-1-01  496.077038"
      ]
     },
     "execution_count": 34,
     "metadata": {},
     "output_type": "execute_result"
    }
   ],
   "source": [
    "df_forecast.iloc[:1,:][['Date', 'Passengers']]"
   ]
  },
  {
   "cell_type": "code",
   "execution_count": 35,
   "metadata": {},
   "outputs": [],
   "source": [
    "df = df.append(df_forecast.iloc[:1,:][['Date', 'Passengers']])"
   ]
  },
  {
   "cell_type": "code",
   "execution_count": 36,
   "metadata": {},
   "outputs": [
    {
     "data": {
      "text/html": [
       "<div>\n",
       "<style scoped>\n",
       "    .dataframe tbody tr th:only-of-type {\n",
       "        vertical-align: middle;\n",
       "    }\n",
       "\n",
       "    .dataframe tbody tr th {\n",
       "        vertical-align: top;\n",
       "    }\n",
       "\n",
       "    .dataframe thead th {\n",
       "        text-align: right;\n",
       "    }\n",
       "</style>\n",
       "<table border=\"1\" class=\"dataframe\">\n",
       "  <thead>\n",
       "    <tr style=\"text-align: right;\">\n",
       "      <th></th>\n",
       "      <th>Date</th>\n",
       "      <th>Passengers</th>\n",
       "    </tr>\n",
       "  </thead>\n",
       "  <tbody>\n",
       "    <tr>\n",
       "      <th>133</th>\n",
       "      <td>1960-02-01</td>\n",
       "      <td>391.000000</td>\n",
       "    </tr>\n",
       "    <tr>\n",
       "      <th>134</th>\n",
       "      <td>1960-03-01</td>\n",
       "      <td>419.000000</td>\n",
       "    </tr>\n",
       "    <tr>\n",
       "      <th>135</th>\n",
       "      <td>1960-04-01</td>\n",
       "      <td>461.000000</td>\n",
       "    </tr>\n",
       "    <tr>\n",
       "      <th>136</th>\n",
       "      <td>1960-05-01</td>\n",
       "      <td>472.000000</td>\n",
       "    </tr>\n",
       "    <tr>\n",
       "      <th>137</th>\n",
       "      <td>1960-06-01</td>\n",
       "      <td>535.000000</td>\n",
       "    </tr>\n",
       "    <tr>\n",
       "      <th>138</th>\n",
       "      <td>1960-07-01</td>\n",
       "      <td>622.000000</td>\n",
       "    </tr>\n",
       "    <tr>\n",
       "      <th>139</th>\n",
       "      <td>1960-08-01</td>\n",
       "      <td>606.000000</td>\n",
       "    </tr>\n",
       "    <tr>\n",
       "      <th>140</th>\n",
       "      <td>1960-09-01</td>\n",
       "      <td>508.000000</td>\n",
       "    </tr>\n",
       "    <tr>\n",
       "      <th>141</th>\n",
       "      <td>1960-10-01</td>\n",
       "      <td>461.000000</td>\n",
       "    </tr>\n",
       "    <tr>\n",
       "      <th>142</th>\n",
       "      <td>1960-11-01</td>\n",
       "      <td>390.000000</td>\n",
       "    </tr>\n",
       "    <tr>\n",
       "      <th>143</th>\n",
       "      <td>1960-12-01</td>\n",
       "      <td>432.000000</td>\n",
       "    </tr>\n",
       "    <tr>\n",
       "      <th>144</th>\n",
       "      <td>1961-1-01</td>\n",
       "      <td>496.077038</td>\n",
       "    </tr>\n",
       "    <tr>\n",
       "      <th>145</th>\n",
       "      <td>1961-1-01</td>\n",
       "      <td>496.077038</td>\n",
       "    </tr>\n",
       "    <tr>\n",
       "      <th>146</th>\n",
       "      <td>1961-2-01</td>\n",
       "      <td>508.467682</td>\n",
       "    </tr>\n",
       "    <tr>\n",
       "      <th>147</th>\n",
       "      <td>1961-3-01</td>\n",
       "      <td>527.270316</td>\n",
       "    </tr>\n",
       "    <tr>\n",
       "      <th>148</th>\n",
       "      <td>1961-4-01</td>\n",
       "      <td>498.992572</td>\n",
       "    </tr>\n",
       "    <tr>\n",
       "      <th>149</th>\n",
       "      <td>1961-5-01</td>\n",
       "      <td>493.639419</td>\n",
       "    </tr>\n",
       "    <tr>\n",
       "      <th>150</th>\n",
       "      <td>1961-6-01</td>\n",
       "      <td>492.912408</td>\n",
       "    </tr>\n",
       "    <tr>\n",
       "      <th>151</th>\n",
       "      <td>1961-7-01</td>\n",
       "      <td>498.971699</td>\n",
       "    </tr>\n",
       "    <tr>\n",
       "      <th>152</th>\n",
       "      <td>1961-8-01</td>\n",
       "      <td>513.399693</td>\n",
       "    </tr>\n",
       "    <tr>\n",
       "      <th>153</th>\n",
       "      <td>1961-9-01</td>\n",
       "      <td>516.096293</td>\n",
       "    </tr>\n",
       "    <tr>\n",
       "      <th>154</th>\n",
       "      <td>1961-10-01</td>\n",
       "      <td>520.983027</td>\n",
       "    </tr>\n",
       "    <tr>\n",
       "      <th>155</th>\n",
       "      <td>1961-11-01</td>\n",
       "      <td>520.494052</td>\n",
       "    </tr>\n",
       "    <tr>\n",
       "      <th>156</th>\n",
       "      <td>1961-12-01</td>\n",
       "      <td>521.967298</td>\n",
       "    </tr>\n",
       "  </tbody>\n",
       "</table>\n",
       "</div>"
      ],
      "text/plain": [
       "           Date  Passengers\n",
       "133  1960-02-01  391.000000\n",
       "134  1960-03-01  419.000000\n",
       "135  1960-04-01  461.000000\n",
       "136  1960-05-01  472.000000\n",
       "137  1960-06-01  535.000000\n",
       "138  1960-07-01  622.000000\n",
       "139  1960-08-01  606.000000\n",
       "140  1960-09-01  508.000000\n",
       "141  1960-10-01  461.000000\n",
       "142  1960-11-01  390.000000\n",
       "143  1960-12-01  432.000000\n",
       "144   1961-1-01  496.077038\n",
       "145   1961-1-01  496.077038\n",
       "146   1961-2-01  508.467682\n",
       "147   1961-3-01  527.270316\n",
       "148   1961-4-01  498.992572\n",
       "149   1961-5-01  493.639419\n",
       "150   1961-6-01  492.912408\n",
       "151   1961-7-01  498.971699\n",
       "152   1961-8-01  513.399693\n",
       "153   1961-9-01  516.096293\n",
       "154  1961-10-01  520.983027\n",
       "155  1961-11-01  520.494052\n",
       "156  1961-12-01  521.967298"
      ]
     },
     "execution_count": 36,
     "metadata": {},
     "output_type": "execute_result"
    }
   ],
   "source": [
    "df_merged = df\n",
    "df_merged = df_merged.append(df_forecast.iloc[:12,:][['Date', 'Passengers']], ignore_index=True)\n",
    "df_merged.tail(24)"
   ]
  },
  {
   "cell_type": "code",
   "execution_count": 37,
   "metadata": {},
   "outputs": [
    {
     "data": {
      "application/vnd.plotly.v1+json": {
       "config": {
        "plotlyServerURL": "https://plot.ly"
       },
       "data": [
        {
         "name": "Actual",
         "type": "scatter",
         "x": [
          "1949-01-01",
          "1949-02-01",
          "1949-03-01",
          "1949-04-01",
          "1949-05-01",
          "1949-06-01",
          "1949-07-01",
          "1949-08-01",
          "1949-09-01",
          "1949-10-01",
          "1949-11-01",
          "1949-12-01",
          "1950-01-01",
          "1950-02-01",
          "1950-03-01",
          "1950-04-01",
          "1950-05-01",
          "1950-06-01",
          "1950-07-01",
          "1950-08-01",
          "1950-09-01",
          "1950-10-01",
          "1950-11-01",
          "1950-12-01",
          "1951-01-01",
          "1951-02-01",
          "1951-03-01",
          "1951-04-01",
          "1951-05-01",
          "1951-06-01",
          "1951-07-01",
          "1951-08-01",
          "1951-09-01",
          "1951-10-01",
          "1951-11-01",
          "1951-12-01",
          "1952-01-01",
          "1952-02-01",
          "1952-03-01",
          "1952-04-01",
          "1952-05-01",
          "1952-06-01",
          "1952-07-01",
          "1952-08-01",
          "1952-09-01",
          "1952-10-01",
          "1952-11-01",
          "1952-12-01",
          "1953-01-01",
          "1953-02-01",
          "1953-03-01",
          "1953-04-01",
          "1953-05-01",
          "1953-06-01",
          "1953-07-01",
          "1953-08-01",
          "1953-09-01",
          "1953-10-01",
          "1953-11-01",
          "1953-12-01",
          "1954-01-01",
          "1954-02-01",
          "1954-03-01",
          "1954-04-01",
          "1954-05-01",
          "1954-06-01",
          "1954-07-01",
          "1954-08-01",
          "1954-09-01",
          "1954-10-01",
          "1954-11-01",
          "1954-12-01",
          "1955-01-01",
          "1955-02-01",
          "1955-03-01",
          "1955-04-01",
          "1955-05-01",
          "1955-06-01",
          "1955-07-01",
          "1955-08-01",
          "1955-09-01",
          "1955-10-01",
          "1955-11-01",
          "1955-12-01",
          "1956-01-01",
          "1956-02-01",
          "1956-03-01",
          "1956-04-01",
          "1956-05-01",
          "1956-06-01",
          "1956-07-01",
          "1956-08-01",
          "1956-09-01",
          "1956-10-01",
          "1956-11-01",
          "1956-12-01",
          "1957-01-01",
          "1957-02-01",
          "1957-03-01",
          "1957-04-01",
          "1957-05-01",
          "1957-06-01",
          "1957-07-01",
          "1957-08-01",
          "1957-09-01",
          "1957-10-01",
          "1957-11-01",
          "1957-12-01",
          "1958-01-01",
          "1958-02-01",
          "1958-03-01",
          "1958-04-01",
          "1958-05-01",
          "1958-06-01",
          "1958-07-01",
          "1958-08-01",
          "1958-09-01",
          "1958-10-01",
          "1958-11-01",
          "1958-12-01",
          "1959-01-01",
          "1959-02-01",
          "1959-03-01",
          "1959-04-01",
          "1959-05-01",
          "1959-06-01",
          "1959-07-01",
          "1959-08-01",
          "1959-09-01",
          "1959-10-01",
          "1959-11-01",
          "1959-12-01",
          "1960-01-01",
          "1960-02-01",
          "1960-03-01",
          "1960-04-01",
          "1960-05-01",
          "1960-06-01",
          "1960-07-01",
          "1960-08-01",
          "1960-09-01",
          "1960-10-01",
          "1960-11-01",
          "1960-12-01",
          "1961-1-01"
         ],
         "y": [
          112,
          118,
          132,
          129,
          121,
          135,
          148,
          148,
          136,
          119,
          104,
          118,
          115,
          126,
          141,
          135,
          125,
          149,
          170,
          170,
          158,
          133,
          114,
          140,
          145,
          150,
          178,
          163,
          172,
          178,
          199,
          199,
          184,
          162,
          146,
          166,
          171,
          180,
          193,
          181,
          183,
          218,
          230,
          242,
          209,
          191,
          172,
          194,
          196,
          196,
          236,
          235,
          229,
          243,
          264,
          272,
          237,
          211,
          180,
          201,
          204,
          188,
          235,
          227,
          234,
          264,
          302,
          293,
          259,
          229,
          203,
          229,
          242,
          233,
          267,
          269,
          270,
          315,
          364,
          347,
          312,
          274,
          237,
          278,
          284,
          277,
          317,
          313,
          318,
          374,
          413,
          405,
          355,
          306,
          271,
          306,
          315,
          301,
          356,
          348,
          355,
          422,
          465,
          467,
          404,
          347,
          305,
          336,
          340,
          318,
          362,
          348,
          363,
          435,
          491,
          505,
          404,
          359,
          310,
          337,
          360,
          342,
          406,
          396,
          420,
          472,
          548,
          559,
          463,
          407,
          362,
          405,
          417,
          391,
          419,
          461,
          472,
          535,
          622,
          606,
          508,
          461,
          390,
          432,
          496.0770378902899
         ]
        },
        {
         "name": "Forecast",
         "type": "scatter",
         "x": [
          "1961-1-01",
          "1961-2-01",
          "1961-3-01",
          "1961-4-01",
          "1961-5-01",
          "1961-6-01",
          "1961-7-01",
          "1961-8-01",
          "1961-9-01",
          "1961-10-01",
          "1961-11-01",
          "1961-12-01"
         ],
         "y": [
          496.0770378902899,
          508.4676820571592,
          527.2703162957652,
          498.99257169539,
          493.6394187662642,
          492.91240839985636,
          498.971698510253,
          513.3996929560578,
          516.0962930402968,
          520.9830266592583,
          520.4940520215546,
          521.9672976792799
         ]
        },
        {
         "name": "Lower Bound",
         "type": "scatter",
         "x": [
          "1961-1-01",
          "1961-2-01",
          "1961-3-01",
          "1961-4-01",
          "1961-5-01",
          "1961-6-01",
          "1961-7-01",
          "1961-8-01",
          "1961-9-01",
          "1961-10-01",
          "1961-11-01",
          "1961-12-01"
         ],
         "y": [
          438.8536096914236,
          409.5450508371448,
          404.03260917328566,
          359.45509137739725,
          347.20132729781994,
          339.3191565455669,
          337.82296368194466,
          343.1448140716011,
          335.86312017394505,
          332.0913751561838,
          323.5699157869436,
          318.04202244629755
         ]
        },
        {
         "name": "Upper Bound",
         "type": "scatter",
         "x": [
          "1961-1-01",
          "1961-2-01",
          "1961-3-01",
          "1961-4-01",
          "1961-5-01",
          "1961-6-01",
          "1961-7-01",
          "1961-8-01",
          "1961-9-01",
          "1961-10-01",
          "1961-11-01",
          "1961-12-01"
         ],
         "y": [
          553.3004660891561,
          607.3903132771736,
          650.5080234182446,
          638.5300520133827,
          640.0775102347085,
          646.5056602541458,
          660.1204333385614,
          683.6545718405146,
          696.3294659066486,
          709.8746781623327,
          717.4181882561655,
          725.8925729122623
         ]
        }
       ],
       "layout": {
        "template": {
         "data": {
          "bar": [
           {
            "error_x": {
             "color": "#2a3f5f"
            },
            "error_y": {
             "color": "#2a3f5f"
            },
            "marker": {
             "line": {
              "color": "#E5ECF6",
              "width": 0.5
             },
             "pattern": {
              "fillmode": "overlay",
              "size": 10,
              "solidity": 0.2
             }
            },
            "type": "bar"
           }
          ],
          "barpolar": [
           {
            "marker": {
             "line": {
              "color": "#E5ECF6",
              "width": 0.5
             },
             "pattern": {
              "fillmode": "overlay",
              "size": 10,
              "solidity": 0.2
             }
            },
            "type": "barpolar"
           }
          ],
          "carpet": [
           {
            "aaxis": {
             "endlinecolor": "#2a3f5f",
             "gridcolor": "white",
             "linecolor": "white",
             "minorgridcolor": "white",
             "startlinecolor": "#2a3f5f"
            },
            "baxis": {
             "endlinecolor": "#2a3f5f",
             "gridcolor": "white",
             "linecolor": "white",
             "minorgridcolor": "white",
             "startlinecolor": "#2a3f5f"
            },
            "type": "carpet"
           }
          ],
          "choropleth": [
           {
            "colorbar": {
             "outlinewidth": 0,
             "ticks": ""
            },
            "type": "choropleth"
           }
          ],
          "contour": [
           {
            "colorbar": {
             "outlinewidth": 0,
             "ticks": ""
            },
            "colorscale": [
             [
              0,
              "#0d0887"
             ],
             [
              0.1111111111111111,
              "#46039f"
             ],
             [
              0.2222222222222222,
              "#7201a8"
             ],
             [
              0.3333333333333333,
              "#9c179e"
             ],
             [
              0.4444444444444444,
              "#bd3786"
             ],
             [
              0.5555555555555556,
              "#d8576b"
             ],
             [
              0.6666666666666666,
              "#ed7953"
             ],
             [
              0.7777777777777778,
              "#fb9f3a"
             ],
             [
              0.8888888888888888,
              "#fdca26"
             ],
             [
              1,
              "#f0f921"
             ]
            ],
            "type": "contour"
           }
          ],
          "contourcarpet": [
           {
            "colorbar": {
             "outlinewidth": 0,
             "ticks": ""
            },
            "type": "contourcarpet"
           }
          ],
          "heatmap": [
           {
            "colorbar": {
             "outlinewidth": 0,
             "ticks": ""
            },
            "colorscale": [
             [
              0,
              "#0d0887"
             ],
             [
              0.1111111111111111,
              "#46039f"
             ],
             [
              0.2222222222222222,
              "#7201a8"
             ],
             [
              0.3333333333333333,
              "#9c179e"
             ],
             [
              0.4444444444444444,
              "#bd3786"
             ],
             [
              0.5555555555555556,
              "#d8576b"
             ],
             [
              0.6666666666666666,
              "#ed7953"
             ],
             [
              0.7777777777777778,
              "#fb9f3a"
             ],
             [
              0.8888888888888888,
              "#fdca26"
             ],
             [
              1,
              "#f0f921"
             ]
            ],
            "type": "heatmap"
           }
          ],
          "heatmapgl": [
           {
            "colorbar": {
             "outlinewidth": 0,
             "ticks": ""
            },
            "colorscale": [
             [
              0,
              "#0d0887"
             ],
             [
              0.1111111111111111,
              "#46039f"
             ],
             [
              0.2222222222222222,
              "#7201a8"
             ],
             [
              0.3333333333333333,
              "#9c179e"
             ],
             [
              0.4444444444444444,
              "#bd3786"
             ],
             [
              0.5555555555555556,
              "#d8576b"
             ],
             [
              0.6666666666666666,
              "#ed7953"
             ],
             [
              0.7777777777777778,
              "#fb9f3a"
             ],
             [
              0.8888888888888888,
              "#fdca26"
             ],
             [
              1,
              "#f0f921"
             ]
            ],
            "type": "heatmapgl"
           }
          ],
          "histogram": [
           {
            "marker": {
             "pattern": {
              "fillmode": "overlay",
              "size": 10,
              "solidity": 0.2
             }
            },
            "type": "histogram"
           }
          ],
          "histogram2d": [
           {
            "colorbar": {
             "outlinewidth": 0,
             "ticks": ""
            },
            "colorscale": [
             [
              0,
              "#0d0887"
             ],
             [
              0.1111111111111111,
              "#46039f"
             ],
             [
              0.2222222222222222,
              "#7201a8"
             ],
             [
              0.3333333333333333,
              "#9c179e"
             ],
             [
              0.4444444444444444,
              "#bd3786"
             ],
             [
              0.5555555555555556,
              "#d8576b"
             ],
             [
              0.6666666666666666,
              "#ed7953"
             ],
             [
              0.7777777777777778,
              "#fb9f3a"
             ],
             [
              0.8888888888888888,
              "#fdca26"
             ],
             [
              1,
              "#f0f921"
             ]
            ],
            "type": "histogram2d"
           }
          ],
          "histogram2dcontour": [
           {
            "colorbar": {
             "outlinewidth": 0,
             "ticks": ""
            },
            "colorscale": [
             [
              0,
              "#0d0887"
             ],
             [
              0.1111111111111111,
              "#46039f"
             ],
             [
              0.2222222222222222,
              "#7201a8"
             ],
             [
              0.3333333333333333,
              "#9c179e"
             ],
             [
              0.4444444444444444,
              "#bd3786"
             ],
             [
              0.5555555555555556,
              "#d8576b"
             ],
             [
              0.6666666666666666,
              "#ed7953"
             ],
             [
              0.7777777777777778,
              "#fb9f3a"
             ],
             [
              0.8888888888888888,
              "#fdca26"
             ],
             [
              1,
              "#f0f921"
             ]
            ],
            "type": "histogram2dcontour"
           }
          ],
          "mesh3d": [
           {
            "colorbar": {
             "outlinewidth": 0,
             "ticks": ""
            },
            "type": "mesh3d"
           }
          ],
          "parcoords": [
           {
            "line": {
             "colorbar": {
              "outlinewidth": 0,
              "ticks": ""
             }
            },
            "type": "parcoords"
           }
          ],
          "pie": [
           {
            "automargin": true,
            "type": "pie"
           }
          ],
          "scatter": [
           {
            "marker": {
             "colorbar": {
              "outlinewidth": 0,
              "ticks": ""
             }
            },
            "type": "scatter"
           }
          ],
          "scatter3d": [
           {
            "line": {
             "colorbar": {
              "outlinewidth": 0,
              "ticks": ""
             }
            },
            "marker": {
             "colorbar": {
              "outlinewidth": 0,
              "ticks": ""
             }
            },
            "type": "scatter3d"
           }
          ],
          "scattercarpet": [
           {
            "marker": {
             "colorbar": {
              "outlinewidth": 0,
              "ticks": ""
             }
            },
            "type": "scattercarpet"
           }
          ],
          "scattergeo": [
           {
            "marker": {
             "colorbar": {
              "outlinewidth": 0,
              "ticks": ""
             }
            },
            "type": "scattergeo"
           }
          ],
          "scattergl": [
           {
            "marker": {
             "colorbar": {
              "outlinewidth": 0,
              "ticks": ""
             }
            },
            "type": "scattergl"
           }
          ],
          "scattermapbox": [
           {
            "marker": {
             "colorbar": {
              "outlinewidth": 0,
              "ticks": ""
             }
            },
            "type": "scattermapbox"
           }
          ],
          "scatterpolar": [
           {
            "marker": {
             "colorbar": {
              "outlinewidth": 0,
              "ticks": ""
             }
            },
            "type": "scatterpolar"
           }
          ],
          "scatterpolargl": [
           {
            "marker": {
             "colorbar": {
              "outlinewidth": 0,
              "ticks": ""
             }
            },
            "type": "scatterpolargl"
           }
          ],
          "scatterternary": [
           {
            "marker": {
             "colorbar": {
              "outlinewidth": 0,
              "ticks": ""
             }
            },
            "type": "scatterternary"
           }
          ],
          "surface": [
           {
            "colorbar": {
             "outlinewidth": 0,
             "ticks": ""
            },
            "colorscale": [
             [
              0,
              "#0d0887"
             ],
             [
              0.1111111111111111,
              "#46039f"
             ],
             [
              0.2222222222222222,
              "#7201a8"
             ],
             [
              0.3333333333333333,
              "#9c179e"
             ],
             [
              0.4444444444444444,
              "#bd3786"
             ],
             [
              0.5555555555555556,
              "#d8576b"
             ],
             [
              0.6666666666666666,
              "#ed7953"
             ],
             [
              0.7777777777777778,
              "#fb9f3a"
             ],
             [
              0.8888888888888888,
              "#fdca26"
             ],
             [
              1,
              "#f0f921"
             ]
            ],
            "type": "surface"
           }
          ],
          "table": [
           {
            "cells": {
             "fill": {
              "color": "#EBF0F8"
             },
             "line": {
              "color": "white"
             }
            },
            "header": {
             "fill": {
              "color": "#C8D4E3"
             },
             "line": {
              "color": "white"
             }
            },
            "type": "table"
           }
          ]
         },
         "layout": {
          "annotationdefaults": {
           "arrowcolor": "#2a3f5f",
           "arrowhead": 0,
           "arrowwidth": 1
          },
          "autotypenumbers": "strict",
          "coloraxis": {
           "colorbar": {
            "outlinewidth": 0,
            "ticks": ""
           }
          },
          "colorscale": {
           "diverging": [
            [
             0,
             "#8e0152"
            ],
            [
             0.1,
             "#c51b7d"
            ],
            [
             0.2,
             "#de77ae"
            ],
            [
             0.3,
             "#f1b6da"
            ],
            [
             0.4,
             "#fde0ef"
            ],
            [
             0.5,
             "#f7f7f7"
            ],
            [
             0.6,
             "#e6f5d0"
            ],
            [
             0.7,
             "#b8e186"
            ],
            [
             0.8,
             "#7fbc41"
            ],
            [
             0.9,
             "#4d9221"
            ],
            [
             1,
             "#276419"
            ]
           ],
           "sequential": [
            [
             0,
             "#0d0887"
            ],
            [
             0.1111111111111111,
             "#46039f"
            ],
            [
             0.2222222222222222,
             "#7201a8"
            ],
            [
             0.3333333333333333,
             "#9c179e"
            ],
            [
             0.4444444444444444,
             "#bd3786"
            ],
            [
             0.5555555555555556,
             "#d8576b"
            ],
            [
             0.6666666666666666,
             "#ed7953"
            ],
            [
             0.7777777777777778,
             "#fb9f3a"
            ],
            [
             0.8888888888888888,
             "#fdca26"
            ],
            [
             1,
             "#f0f921"
            ]
           ],
           "sequentialminus": [
            [
             0,
             "#0d0887"
            ],
            [
             0.1111111111111111,
             "#46039f"
            ],
            [
             0.2222222222222222,
             "#7201a8"
            ],
            [
             0.3333333333333333,
             "#9c179e"
            ],
            [
             0.4444444444444444,
             "#bd3786"
            ],
            [
             0.5555555555555556,
             "#d8576b"
            ],
            [
             0.6666666666666666,
             "#ed7953"
            ],
            [
             0.7777777777777778,
             "#fb9f3a"
            ],
            [
             0.8888888888888888,
             "#fdca26"
            ],
            [
             1,
             "#f0f921"
            ]
           ]
          },
          "colorway": [
           "#636efa",
           "#EF553B",
           "#00cc96",
           "#ab63fa",
           "#FFA15A",
           "#19d3f3",
           "#FF6692",
           "#B6E880",
           "#FF97FF",
           "#FECB52"
          ],
          "font": {
           "color": "#2a3f5f"
          },
          "geo": {
           "bgcolor": "white",
           "lakecolor": "white",
           "landcolor": "#E5ECF6",
           "showlakes": true,
           "showland": true,
           "subunitcolor": "white"
          },
          "hoverlabel": {
           "align": "left"
          },
          "hovermode": "closest",
          "mapbox": {
           "style": "light"
          },
          "paper_bgcolor": "white",
          "plot_bgcolor": "#E5ECF6",
          "polar": {
           "angularaxis": {
            "gridcolor": "white",
            "linecolor": "white",
            "ticks": ""
           },
           "bgcolor": "#E5ECF6",
           "radialaxis": {
            "gridcolor": "white",
            "linecolor": "white",
            "ticks": ""
           }
          },
          "scene": {
           "xaxis": {
            "backgroundcolor": "#E5ECF6",
            "gridcolor": "white",
            "gridwidth": 2,
            "linecolor": "white",
            "showbackground": true,
            "ticks": "",
            "zerolinecolor": "white"
           },
           "yaxis": {
            "backgroundcolor": "#E5ECF6",
            "gridcolor": "white",
            "gridwidth": 2,
            "linecolor": "white",
            "showbackground": true,
            "ticks": "",
            "zerolinecolor": "white"
           },
           "zaxis": {
            "backgroundcolor": "#E5ECF6",
            "gridcolor": "white",
            "gridwidth": 2,
            "linecolor": "white",
            "showbackground": true,
            "ticks": "",
            "zerolinecolor": "white"
           }
          },
          "shapedefaults": {
           "line": {
            "color": "#2a3f5f"
           }
          },
          "ternary": {
           "aaxis": {
            "gridcolor": "white",
            "linecolor": "white",
            "ticks": ""
           },
           "baxis": {
            "gridcolor": "white",
            "linecolor": "white",
            "ticks": ""
           },
           "bgcolor": "#E5ECF6",
           "caxis": {
            "gridcolor": "white",
            "linecolor": "white",
            "ticks": ""
           }
          },
          "title": {
           "x": 0.05
          },
          "xaxis": {
           "automargin": true,
           "gridcolor": "white",
           "linecolor": "white",
           "ticks": "",
           "title": {
            "standoff": 15
           },
           "zerolinecolor": "white",
           "zerolinewidth": 2
          },
          "yaxis": {
           "automargin": true,
           "gridcolor": "white",
           "linecolor": "white",
           "ticks": "",
           "title": {
            "standoff": 15
           },
           "zerolinecolor": "white",
           "zerolinewidth": 2
          }
         }
        },
        "xaxis": {
         "rangeslider": {
          "visible": true
         }
        }
       }
      }
     },
     "metadata": {},
     "output_type": "display_data"
    }
   ],
   "source": [
    "fig = go.Figure([go.Scatter(name='Actual', x=df['Date'], y=df['Passengers'])])\n",
    "fig.add_trace(go.Scatter(name='Forecast', x=df_forecast['Date'], y=df_forecast['Passengers']))\n",
    "fig.add_trace(go.Scatter(name='Lower Bound', x=df_forecast['Date'], y=df_forecast['Lower Bound']))\n",
    "fig.add_trace(go.Scatter(name='Upper Bound', x=df_forecast['Date'], y=df_forecast['Upper Bound']))\n",
    "\n",
    "fig.update_xaxes(rangeslider_visible = True)\n",
    "fig.show()"
   ]
  }
 ],
 "metadata": {
  "interpreter": {
   "hash": "95a19bb7a135a8107af75b765dc097fafc28c1115c0f9727f05dc637904e7be8"
  },
  "kernelspec": {
   "display_name": "Python 3.8.3 64-bit ('base': conda)",
   "name": "python3"
  },
  "language_info": {
   "codemirror_mode": {
    "name": "ipython",
    "version": 3
   },
   "file_extension": ".py",
   "mimetype": "text/x-python",
   "name": "python",
   "nbconvert_exporter": "python",
   "pygments_lexer": "ipython3",
   "version": "3.8.3"
  },
  "orig_nbformat": 4
 },
 "nbformat": 4,
 "nbformat_minor": 2
}
