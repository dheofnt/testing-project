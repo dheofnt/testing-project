{
 "cells": [
  {
   "cell_type": "markdown",
   "metadata": {},
   "source": [
    "# 25 October 2021"
   ]
  },
  {
   "cell_type": "markdown",
   "metadata": {},
   "source": [
    "## **Latihan Collaborative Filtering**"
   ]
  },
  {
   "cell_type": "markdown",
   "metadata": {},
   "source": [
    "**Dengan menggunakan dataset anime & rating, buatlah recommendation system dengan skema berikut:**\n",
    "\n",
    "* Gabungkan kedua data agar dapat memunculkan informasi-informasi yang ada pada dataset anime.\n",
    "* Bandingkan algoritma SVD dan ALS\n",
    "* Tuning algoritma yang menurut kalian lebih baik\n",
    "\n",
    "Setelah mendapatkan model terbaik, coba prediksi rating anime berikut:\n",
    "\n",
    "* Hunter x Hunter (2011), anime_id 11061\n",
    "* Detective Conan OVA 09, anime_id 2514\n",
    "* Ranma ½, anime_id 1010\n",
    "* Saint Seiya: Meiou Hades Juuni Kyuu-hen, anime_id 1257 \n",
    "\n",
    "Oleh user:\n",
    "\n",
    "* 50\n",
    "* 200\n",
    "* 400\n",
    "* 800\n",
    "\n",
    "Bagaimana urutan rekomendasi yang akan kalian berikan untuk masing-masing user?"
   ]
  },
  {
   "cell_type": "markdown",
   "metadata": {},
   "source": [
    "## **Import libraries**"
   ]
  },
  {
   "cell_type": "code",
   "execution_count": 1,
   "metadata": {},
   "outputs": [],
   "source": [
    "import pandas as pd\n",
    "import seaborn as sns\n",
    "\n",
    "from surprise import Reader\n",
    "from surprise import Dataset\n",
    "\n",
    "from surprise import SVD\n",
    "from surprise import BaselineOnly\n",
    "\n",
    "from surprise import accuracy\n",
    "from surprise.model_selection import cross_validate, train_test_split\n",
    "from surprise.model_selection import GridSearchCV"
   ]
  },
  {
   "cell_type": "markdown",
   "metadata": {},
   "source": [
    "## **Load dataset & preprocessing**"
   ]
  },
  {
   "cell_type": "code",
   "execution_count": 2,
   "metadata": {},
   "outputs": [
    {
     "data": {
      "text/html": [
       "<div>\n",
       "<style scoped>\n",
       "    .dataframe tbody tr th:only-of-type {\n",
       "        vertical-align: middle;\n",
       "    }\n",
       "\n",
       "    .dataframe tbody tr th {\n",
       "        vertical-align: top;\n",
       "    }\n",
       "\n",
       "    .dataframe thead th {\n",
       "        text-align: right;\n",
       "    }\n",
       "</style>\n",
       "<table border=\"1\" class=\"dataframe\">\n",
       "  <thead>\n",
       "    <tr style=\"text-align: right;\">\n",
       "      <th></th>\n",
       "      <th>Unnamed: 0</th>\n",
       "      <th>user_id</th>\n",
       "      <th>anime_id</th>\n",
       "      <th>rating</th>\n",
       "    </tr>\n",
       "  </thead>\n",
       "  <tbody>\n",
       "    <tr>\n",
       "      <th>0</th>\n",
       "      <td>47</td>\n",
       "      <td>1</td>\n",
       "      <td>8074</td>\n",
       "      <td>10.0</td>\n",
       "    </tr>\n",
       "    <tr>\n",
       "      <th>1</th>\n",
       "      <td>81</td>\n",
       "      <td>1</td>\n",
       "      <td>11617</td>\n",
       "      <td>10.0</td>\n",
       "    </tr>\n",
       "    <tr>\n",
       "      <th>2</th>\n",
       "      <td>83</td>\n",
       "      <td>1</td>\n",
       "      <td>11757</td>\n",
       "      <td>10.0</td>\n",
       "    </tr>\n",
       "    <tr>\n",
       "      <th>3</th>\n",
       "      <td>101</td>\n",
       "      <td>1</td>\n",
       "      <td>15451</td>\n",
       "      <td>10.0</td>\n",
       "    </tr>\n",
       "    <tr>\n",
       "      <th>4</th>\n",
       "      <td>153</td>\n",
       "      <td>2</td>\n",
       "      <td>11771</td>\n",
       "      <td>10.0</td>\n",
       "    </tr>\n",
       "    <tr>\n",
       "      <th>...</th>\n",
       "      <td>...</td>\n",
       "      <td>...</td>\n",
       "      <td>...</td>\n",
       "      <td>...</td>\n",
       "    </tr>\n",
       "    <tr>\n",
       "      <th>77863</th>\n",
       "      <td>96433</td>\n",
       "      <td>999</td>\n",
       "      <td>11757</td>\n",
       "      <td>6.0</td>\n",
       "    </tr>\n",
       "    <tr>\n",
       "      <th>77864</th>\n",
       "      <td>96434</td>\n",
       "      <td>999</td>\n",
       "      <td>16498</td>\n",
       "      <td>9.0</td>\n",
       "    </tr>\n",
       "    <tr>\n",
       "      <th>77865</th>\n",
       "      <td>96435</td>\n",
       "      <td>999</td>\n",
       "      <td>21881</td>\n",
       "      <td>5.0</td>\n",
       "    </tr>\n",
       "    <tr>\n",
       "      <th>77866</th>\n",
       "      <td>96436</td>\n",
       "      <td>999</td>\n",
       "      <td>22319</td>\n",
       "      <td>8.0</td>\n",
       "    </tr>\n",
       "    <tr>\n",
       "      <th>77867</th>\n",
       "      <td>96437</td>\n",
       "      <td>999</td>\n",
       "      <td>27899</td>\n",
       "      <td>7.0</td>\n",
       "    </tr>\n",
       "  </tbody>\n",
       "</table>\n",
       "<p>77868 rows × 4 columns</p>\n",
       "</div>"
      ],
      "text/plain": [
       "       Unnamed: 0  user_id  anime_id  rating\n",
       "0              47        1      8074    10.0\n",
       "1              81        1     11617    10.0\n",
       "2              83        1     11757    10.0\n",
       "3             101        1     15451    10.0\n",
       "4             153        2     11771    10.0\n",
       "...           ...      ...       ...     ...\n",
       "77863       96433      999     11757     6.0\n",
       "77864       96434      999     16498     9.0\n",
       "77865       96435      999     21881     5.0\n",
       "77866       96436      999     22319     8.0\n",
       "77867       96437      999     27899     7.0\n",
       "\n",
       "[77868 rows x 4 columns]"
      ]
     },
     "execution_count": 2,
     "metadata": {},
     "output_type": "execute_result"
    }
   ],
   "source": [
    "df = pd.read_csv('rating.csv')\n",
    "df"
   ]
  },
  {
   "cell_type": "code",
   "execution_count": 3,
   "metadata": {},
   "outputs": [
    {
     "data": {
      "text/html": [
       "<div>\n",
       "<style scoped>\n",
       "    .dataframe tbody tr th:only-of-type {\n",
       "        vertical-align: middle;\n",
       "    }\n",
       "\n",
       "    .dataframe tbody tr th {\n",
       "        vertical-align: top;\n",
       "    }\n",
       "\n",
       "    .dataframe thead th {\n",
       "        text-align: right;\n",
       "    }\n",
       "</style>\n",
       "<table border=\"1\" class=\"dataframe\">\n",
       "  <thead>\n",
       "    <tr style=\"text-align: right;\">\n",
       "      <th></th>\n",
       "      <th>user_id</th>\n",
       "      <th>anime_id</th>\n",
       "      <th>rating</th>\n",
       "    </tr>\n",
       "  </thead>\n",
       "  <tbody>\n",
       "    <tr>\n",
       "      <th>0</th>\n",
       "      <td>1</td>\n",
       "      <td>8074</td>\n",
       "      <td>10.0</td>\n",
       "    </tr>\n",
       "    <tr>\n",
       "      <th>1</th>\n",
       "      <td>1</td>\n",
       "      <td>11617</td>\n",
       "      <td>10.0</td>\n",
       "    </tr>\n",
       "    <tr>\n",
       "      <th>2</th>\n",
       "      <td>1</td>\n",
       "      <td>11757</td>\n",
       "      <td>10.0</td>\n",
       "    </tr>\n",
       "    <tr>\n",
       "      <th>3</th>\n",
       "      <td>1</td>\n",
       "      <td>15451</td>\n",
       "      <td>10.0</td>\n",
       "    </tr>\n",
       "    <tr>\n",
       "      <th>4</th>\n",
       "      <td>2</td>\n",
       "      <td>11771</td>\n",
       "      <td>10.0</td>\n",
       "    </tr>\n",
       "    <tr>\n",
       "      <th>5</th>\n",
       "      <td>3</td>\n",
       "      <td>20</td>\n",
       "      <td>8.0</td>\n",
       "    </tr>\n",
       "    <tr>\n",
       "      <th>6</th>\n",
       "      <td>3</td>\n",
       "      <td>154</td>\n",
       "      <td>6.0</td>\n",
       "    </tr>\n",
       "    <tr>\n",
       "      <th>7</th>\n",
       "      <td>3</td>\n",
       "      <td>170</td>\n",
       "      <td>9.0</td>\n",
       "    </tr>\n",
       "    <tr>\n",
       "      <th>8</th>\n",
       "      <td>3</td>\n",
       "      <td>199</td>\n",
       "      <td>10.0</td>\n",
       "    </tr>\n",
       "    <tr>\n",
       "      <th>9</th>\n",
       "      <td>3</td>\n",
       "      <td>225</td>\n",
       "      <td>9.0</td>\n",
       "    </tr>\n",
       "  </tbody>\n",
       "</table>\n",
       "</div>"
      ],
      "text/plain": [
       "   user_id  anime_id  rating\n",
       "0        1      8074    10.0\n",
       "1        1     11617    10.0\n",
       "2        1     11757    10.0\n",
       "3        1     15451    10.0\n",
       "4        2     11771    10.0\n",
       "5        3        20     8.0\n",
       "6        3       154     6.0\n",
       "7        3       170     9.0\n",
       "8        3       199    10.0\n",
       "9        3       225     9.0"
      ]
     },
     "execution_count": 3,
     "metadata": {},
     "output_type": "execute_result"
    }
   ],
   "source": [
    "# Drop unwanted column\n",
    "df = df.drop(columns='Unnamed: 0', axis=1)\n",
    "df.head(10)"
   ]
  },
  {
   "cell_type": "code",
   "execution_count": 4,
   "metadata": {},
   "outputs": [
    {
     "data": {
      "text/html": [
       "<div>\n",
       "<style scoped>\n",
       "    .dataframe tbody tr th:only-of-type {\n",
       "        vertical-align: middle;\n",
       "    }\n",
       "\n",
       "    .dataframe tbody tr th {\n",
       "        vertical-align: top;\n",
       "    }\n",
       "\n",
       "    .dataframe thead th {\n",
       "        text-align: right;\n",
       "    }\n",
       "</style>\n",
       "<table border=\"1\" class=\"dataframe\">\n",
       "  <thead>\n",
       "    <tr style=\"text-align: right;\">\n",
       "      <th></th>\n",
       "      <th>anime_id</th>\n",
       "      <th>name</th>\n",
       "      <th>genre</th>\n",
       "      <th>type</th>\n",
       "      <th>episodes</th>\n",
       "      <th>rating</th>\n",
       "      <th>members</th>\n",
       "    </tr>\n",
       "  </thead>\n",
       "  <tbody>\n",
       "    <tr>\n",
       "      <th>0</th>\n",
       "      <td>32281</td>\n",
       "      <td>Kimi no Na wa.</td>\n",
       "      <td>Drama, Romance, School, Supernatural</td>\n",
       "      <td>Movie</td>\n",
       "      <td>1</td>\n",
       "      <td>9.37</td>\n",
       "      <td>200630</td>\n",
       "    </tr>\n",
       "    <tr>\n",
       "      <th>1</th>\n",
       "      <td>5114</td>\n",
       "      <td>Fullmetal Alchemist: Brotherhood</td>\n",
       "      <td>Action, Adventure, Drama, Fantasy, Magic, Mili...</td>\n",
       "      <td>TV</td>\n",
       "      <td>64</td>\n",
       "      <td>9.26</td>\n",
       "      <td>793665</td>\n",
       "    </tr>\n",
       "    <tr>\n",
       "      <th>2</th>\n",
       "      <td>28977</td>\n",
       "      <td>Gintama°</td>\n",
       "      <td>Action, Comedy, Historical, Parody, Samurai, S...</td>\n",
       "      <td>TV</td>\n",
       "      <td>51</td>\n",
       "      <td>9.25</td>\n",
       "      <td>114262</td>\n",
       "    </tr>\n",
       "    <tr>\n",
       "      <th>3</th>\n",
       "      <td>9253</td>\n",
       "      <td>Steins;Gate</td>\n",
       "      <td>Sci-Fi, Thriller</td>\n",
       "      <td>TV</td>\n",
       "      <td>24</td>\n",
       "      <td>9.17</td>\n",
       "      <td>673572</td>\n",
       "    </tr>\n",
       "    <tr>\n",
       "      <th>4</th>\n",
       "      <td>9969</td>\n",
       "      <td>Gintama&amp;#039;</td>\n",
       "      <td>Action, Comedy, Historical, Parody, Samurai, S...</td>\n",
       "      <td>TV</td>\n",
       "      <td>51</td>\n",
       "      <td>9.16</td>\n",
       "      <td>151266</td>\n",
       "    </tr>\n",
       "  </tbody>\n",
       "</table>\n",
       "</div>"
      ],
      "text/plain": [
       "   anime_id                              name  \\\n",
       "0     32281                    Kimi no Na wa.   \n",
       "1      5114  Fullmetal Alchemist: Brotherhood   \n",
       "2     28977                          Gintama°   \n",
       "3      9253                       Steins;Gate   \n",
       "4      9969                     Gintama&#039;   \n",
       "\n",
       "                                               genre   type episodes  rating  \\\n",
       "0               Drama, Romance, School, Supernatural  Movie        1    9.37   \n",
       "1  Action, Adventure, Drama, Fantasy, Magic, Mili...     TV       64    9.26   \n",
       "2  Action, Comedy, Historical, Parody, Samurai, S...     TV       51    9.25   \n",
       "3                                   Sci-Fi, Thriller     TV       24    9.17   \n",
       "4  Action, Comedy, Historical, Parody, Samurai, S...     TV       51    9.16   \n",
       "\n",
       "   members  \n",
       "0   200630  \n",
       "1   793665  \n",
       "2   114262  \n",
       "3   673572  \n",
       "4   151266  "
      ]
     },
     "execution_count": 4,
     "metadata": {},
     "output_type": "execute_result"
    }
   ],
   "source": [
    "df_anime = pd.read_csv('anime.csv')\n",
    "df_anime.head()"
   ]
  },
  {
   "cell_type": "code",
   "execution_count": 5,
   "metadata": {},
   "outputs": [
    {
     "data": {
      "text/html": [
       "<div>\n",
       "<style scoped>\n",
       "    .dataframe tbody tr th:only-of-type {\n",
       "        vertical-align: middle;\n",
       "    }\n",
       "\n",
       "    .dataframe tbody tr th {\n",
       "        vertical-align: top;\n",
       "    }\n",
       "\n",
       "    .dataframe thead th {\n",
       "        text-align: right;\n",
       "    }\n",
       "</style>\n",
       "<table border=\"1\" class=\"dataframe\">\n",
       "  <thead>\n",
       "    <tr style=\"text-align: right;\">\n",
       "      <th></th>\n",
       "      <th>user_id</th>\n",
       "      <th>anime_id</th>\n",
       "      <th>rating_x</th>\n",
       "      <th>name</th>\n",
       "      <th>genre</th>\n",
       "      <th>type</th>\n",
       "      <th>episodes</th>\n",
       "      <th>rating_y</th>\n",
       "      <th>members</th>\n",
       "    </tr>\n",
       "  </thead>\n",
       "  <tbody>\n",
       "    <tr>\n",
       "      <th>0</th>\n",
       "      <td>1</td>\n",
       "      <td>8074</td>\n",
       "      <td>10.0</td>\n",
       "      <td>Highschool of the Dead</td>\n",
       "      <td>Action, Ecchi, Horror, Supernatural</td>\n",
       "      <td>TV</td>\n",
       "      <td>12</td>\n",
       "      <td>7.46</td>\n",
       "      <td>535892</td>\n",
       "    </tr>\n",
       "    <tr>\n",
       "      <th>1</th>\n",
       "      <td>1</td>\n",
       "      <td>11617</td>\n",
       "      <td>10.0</td>\n",
       "      <td>High School DxD</td>\n",
       "      <td>Comedy, Demons, Ecchi, Harem, Romance, School</td>\n",
       "      <td>TV</td>\n",
       "      <td>12</td>\n",
       "      <td>7.70</td>\n",
       "      <td>398660</td>\n",
       "    </tr>\n",
       "    <tr>\n",
       "      <th>2</th>\n",
       "      <td>1</td>\n",
       "      <td>11757</td>\n",
       "      <td>10.0</td>\n",
       "      <td>Sword Art Online</td>\n",
       "      <td>Action, Adventure, Fantasy, Game, Romance</td>\n",
       "      <td>TV</td>\n",
       "      <td>25</td>\n",
       "      <td>7.83</td>\n",
       "      <td>893100</td>\n",
       "    </tr>\n",
       "    <tr>\n",
       "      <th>3</th>\n",
       "      <td>1</td>\n",
       "      <td>15451</td>\n",
       "      <td>10.0</td>\n",
       "      <td>High School DxD New</td>\n",
       "      <td>Action, Comedy, Demons, Ecchi, Harem, Romance,...</td>\n",
       "      <td>TV</td>\n",
       "      <td>12</td>\n",
       "      <td>7.87</td>\n",
       "      <td>266657</td>\n",
       "    </tr>\n",
       "    <tr>\n",
       "      <th>4</th>\n",
       "      <td>2</td>\n",
       "      <td>11771</td>\n",
       "      <td>10.0</td>\n",
       "      <td>Kuroko no Basket</td>\n",
       "      <td>Comedy, School, Shounen, Sports</td>\n",
       "      <td>TV</td>\n",
       "      <td>25</td>\n",
       "      <td>8.46</td>\n",
       "      <td>338315</td>\n",
       "    </tr>\n",
       "    <tr>\n",
       "      <th>...</th>\n",
       "      <td>...</td>\n",
       "      <td>...</td>\n",
       "      <td>...</td>\n",
       "      <td>...</td>\n",
       "      <td>...</td>\n",
       "      <td>...</td>\n",
       "      <td>...</td>\n",
       "      <td>...</td>\n",
       "      <td>...</td>\n",
       "    </tr>\n",
       "    <tr>\n",
       "      <th>77863</th>\n",
       "      <td>999</td>\n",
       "      <td>11757</td>\n",
       "      <td>6.0</td>\n",
       "      <td>Sword Art Online</td>\n",
       "      <td>Action, Adventure, Fantasy, Game, Romance</td>\n",
       "      <td>TV</td>\n",
       "      <td>25</td>\n",
       "      <td>7.83</td>\n",
       "      <td>893100</td>\n",
       "    </tr>\n",
       "    <tr>\n",
       "      <th>77864</th>\n",
       "      <td>999</td>\n",
       "      <td>16498</td>\n",
       "      <td>9.0</td>\n",
       "      <td>Shingeki no Kyojin</td>\n",
       "      <td>Action, Drama, Fantasy, Shounen, Super Power</td>\n",
       "      <td>TV</td>\n",
       "      <td>25</td>\n",
       "      <td>8.54</td>\n",
       "      <td>896229</td>\n",
       "    </tr>\n",
       "    <tr>\n",
       "      <th>77865</th>\n",
       "      <td>999</td>\n",
       "      <td>21881</td>\n",
       "      <td>5.0</td>\n",
       "      <td>Sword Art Online II</td>\n",
       "      <td>Action, Adventure, Fantasy, Game, Romance</td>\n",
       "      <td>TV</td>\n",
       "      <td>24</td>\n",
       "      <td>7.35</td>\n",
       "      <td>537892</td>\n",
       "    </tr>\n",
       "    <tr>\n",
       "      <th>77866</th>\n",
       "      <td>999</td>\n",
       "      <td>22319</td>\n",
       "      <td>8.0</td>\n",
       "      <td>Tokyo Ghoul</td>\n",
       "      <td>Action, Drama, Horror, Mystery, Psychological,...</td>\n",
       "      <td>TV</td>\n",
       "      <td>12</td>\n",
       "      <td>8.07</td>\n",
       "      <td>618056</td>\n",
       "    </tr>\n",
       "    <tr>\n",
       "      <th>77867</th>\n",
       "      <td>999</td>\n",
       "      <td>27899</td>\n",
       "      <td>7.0</td>\n",
       "      <td>Tokyo Ghoul √A</td>\n",
       "      <td>Action, Drama, Horror, Mystery, Psychological,...</td>\n",
       "      <td>TV</td>\n",
       "      <td>12</td>\n",
       "      <td>7.52</td>\n",
       "      <td>408357</td>\n",
       "    </tr>\n",
       "  </tbody>\n",
       "</table>\n",
       "<p>77868 rows × 9 columns</p>\n",
       "</div>"
      ],
      "text/plain": [
       "       user_id  anime_id  rating_x                    name  \\\n",
       "0            1      8074      10.0  Highschool of the Dead   \n",
       "1            1     11617      10.0         High School DxD   \n",
       "2            1     11757      10.0        Sword Art Online   \n",
       "3            1     15451      10.0     High School DxD New   \n",
       "4            2     11771      10.0        Kuroko no Basket   \n",
       "...        ...       ...       ...                     ...   \n",
       "77863      999     11757       6.0        Sword Art Online   \n",
       "77864      999     16498       9.0      Shingeki no Kyojin   \n",
       "77865      999     21881       5.0     Sword Art Online II   \n",
       "77866      999     22319       8.0             Tokyo Ghoul   \n",
       "77867      999     27899       7.0          Tokyo Ghoul √A   \n",
       "\n",
       "                                                   genre type episodes  \\\n",
       "0                    Action, Ecchi, Horror, Supernatural   TV       12   \n",
       "1          Comedy, Demons, Ecchi, Harem, Romance, School   TV       12   \n",
       "2              Action, Adventure, Fantasy, Game, Romance   TV       25   \n",
       "3      Action, Comedy, Demons, Ecchi, Harem, Romance,...   TV       12   \n",
       "4                        Comedy, School, Shounen, Sports   TV       25   \n",
       "...                                                  ...  ...      ...   \n",
       "77863          Action, Adventure, Fantasy, Game, Romance   TV       25   \n",
       "77864       Action, Drama, Fantasy, Shounen, Super Power   TV       25   \n",
       "77865          Action, Adventure, Fantasy, Game, Romance   TV       24   \n",
       "77866  Action, Drama, Horror, Mystery, Psychological,...   TV       12   \n",
       "77867  Action, Drama, Horror, Mystery, Psychological,...   TV       12   \n",
       "\n",
       "       rating_y  members  \n",
       "0          7.46   535892  \n",
       "1          7.70   398660  \n",
       "2          7.83   893100  \n",
       "3          7.87   266657  \n",
       "4          8.46   338315  \n",
       "...         ...      ...  \n",
       "77863      7.83   893100  \n",
       "77864      8.54   896229  \n",
       "77865      7.35   537892  \n",
       "77866      8.07   618056  \n",
       "77867      7.52   408357  \n",
       "\n",
       "[77868 rows x 9 columns]"
      ]
     },
     "execution_count": 5,
     "metadata": {},
     "output_type": "execute_result"
    }
   ],
   "source": [
    "df_merged = pd.merge(df, df_anime, how='left', on=['anime_id'])\n",
    "df_merged"
   ]
  },
  {
   "cell_type": "code",
   "execution_count": 6,
   "metadata": {},
   "outputs": [
    {
     "data": {
      "text/html": [
       "<div>\n",
       "<style scoped>\n",
       "    .dataframe tbody tr th:only-of-type {\n",
       "        vertical-align: middle;\n",
       "    }\n",
       "\n",
       "    .dataframe tbody tr th {\n",
       "        vertical-align: top;\n",
       "    }\n",
       "\n",
       "    .dataframe thead th {\n",
       "        text-align: right;\n",
       "    }\n",
       "</style>\n",
       "<table border=\"1\" class=\"dataframe\">\n",
       "  <thead>\n",
       "    <tr style=\"text-align: right;\">\n",
       "      <th></th>\n",
       "      <th>user_id</th>\n",
       "      <th>anime_id</th>\n",
       "      <th>user_rating</th>\n",
       "      <th>name</th>\n",
       "      <th>genre</th>\n",
       "    </tr>\n",
       "  </thead>\n",
       "  <tbody>\n",
       "    <tr>\n",
       "      <th>0</th>\n",
       "      <td>1</td>\n",
       "      <td>8074</td>\n",
       "      <td>10.0</td>\n",
       "      <td>Highschool of the Dead</td>\n",
       "      <td>Action, Ecchi, Horror, Supernatural</td>\n",
       "    </tr>\n",
       "    <tr>\n",
       "      <th>1</th>\n",
       "      <td>1</td>\n",
       "      <td>11617</td>\n",
       "      <td>10.0</td>\n",
       "      <td>High School DxD</td>\n",
       "      <td>Comedy, Demons, Ecchi, Harem, Romance, School</td>\n",
       "    </tr>\n",
       "    <tr>\n",
       "      <th>2</th>\n",
       "      <td>1</td>\n",
       "      <td>11757</td>\n",
       "      <td>10.0</td>\n",
       "      <td>Sword Art Online</td>\n",
       "      <td>Action, Adventure, Fantasy, Game, Romance</td>\n",
       "    </tr>\n",
       "    <tr>\n",
       "      <th>3</th>\n",
       "      <td>1</td>\n",
       "      <td>15451</td>\n",
       "      <td>10.0</td>\n",
       "      <td>High School DxD New</td>\n",
       "      <td>Action, Comedy, Demons, Ecchi, Harem, Romance,...</td>\n",
       "    </tr>\n",
       "    <tr>\n",
       "      <th>4</th>\n",
       "      <td>2</td>\n",
       "      <td>11771</td>\n",
       "      <td>10.0</td>\n",
       "      <td>Kuroko no Basket</td>\n",
       "      <td>Comedy, School, Shounen, Sports</td>\n",
       "    </tr>\n",
       "    <tr>\n",
       "      <th>...</th>\n",
       "      <td>...</td>\n",
       "      <td>...</td>\n",
       "      <td>...</td>\n",
       "      <td>...</td>\n",
       "      <td>...</td>\n",
       "    </tr>\n",
       "    <tr>\n",
       "      <th>77863</th>\n",
       "      <td>999</td>\n",
       "      <td>11757</td>\n",
       "      <td>6.0</td>\n",
       "      <td>Sword Art Online</td>\n",
       "      <td>Action, Adventure, Fantasy, Game, Romance</td>\n",
       "    </tr>\n",
       "    <tr>\n",
       "      <th>77864</th>\n",
       "      <td>999</td>\n",
       "      <td>16498</td>\n",
       "      <td>9.0</td>\n",
       "      <td>Shingeki no Kyojin</td>\n",
       "      <td>Action, Drama, Fantasy, Shounen, Super Power</td>\n",
       "    </tr>\n",
       "    <tr>\n",
       "      <th>77865</th>\n",
       "      <td>999</td>\n",
       "      <td>21881</td>\n",
       "      <td>5.0</td>\n",
       "      <td>Sword Art Online II</td>\n",
       "      <td>Action, Adventure, Fantasy, Game, Romance</td>\n",
       "    </tr>\n",
       "    <tr>\n",
       "      <th>77866</th>\n",
       "      <td>999</td>\n",
       "      <td>22319</td>\n",
       "      <td>8.0</td>\n",
       "      <td>Tokyo Ghoul</td>\n",
       "      <td>Action, Drama, Horror, Mystery, Psychological,...</td>\n",
       "    </tr>\n",
       "    <tr>\n",
       "      <th>77867</th>\n",
       "      <td>999</td>\n",
       "      <td>27899</td>\n",
       "      <td>7.0</td>\n",
       "      <td>Tokyo Ghoul √A</td>\n",
       "      <td>Action, Drama, Horror, Mystery, Psychological,...</td>\n",
       "    </tr>\n",
       "  </tbody>\n",
       "</table>\n",
       "<p>77868 rows × 5 columns</p>\n",
       "</div>"
      ],
      "text/plain": [
       "       user_id  anime_id  user_rating                    name  \\\n",
       "0            1      8074         10.0  Highschool of the Dead   \n",
       "1            1     11617         10.0         High School DxD   \n",
       "2            1     11757         10.0        Sword Art Online   \n",
       "3            1     15451         10.0     High School DxD New   \n",
       "4            2     11771         10.0        Kuroko no Basket   \n",
       "...        ...       ...          ...                     ...   \n",
       "77863      999     11757          6.0        Sword Art Online   \n",
       "77864      999     16498          9.0      Shingeki no Kyojin   \n",
       "77865      999     21881          5.0     Sword Art Online II   \n",
       "77866      999     22319          8.0             Tokyo Ghoul   \n",
       "77867      999     27899          7.0          Tokyo Ghoul √A   \n",
       "\n",
       "                                                   genre  \n",
       "0                    Action, Ecchi, Horror, Supernatural  \n",
       "1          Comedy, Demons, Ecchi, Harem, Romance, School  \n",
       "2              Action, Adventure, Fantasy, Game, Romance  \n",
       "3      Action, Comedy, Demons, Ecchi, Harem, Romance,...  \n",
       "4                        Comedy, School, Shounen, Sports  \n",
       "...                                                  ...  \n",
       "77863          Action, Adventure, Fantasy, Game, Romance  \n",
       "77864       Action, Drama, Fantasy, Shounen, Super Power  \n",
       "77865          Action, Adventure, Fantasy, Game, Romance  \n",
       "77866  Action, Drama, Horror, Mystery, Psychological,...  \n",
       "77867  Action, Drama, Horror, Mystery, Psychological,...  \n",
       "\n",
       "[77868 rows x 5 columns]"
      ]
     },
     "execution_count": 6,
     "metadata": {},
     "output_type": "execute_result"
    }
   ],
   "source": [
    "df_merged = df_merged.drop(columns=['type', 'episodes', 'rating_y', 'members'], axis=1)\n",
    "df_merged = df_merged.rename(columns={'rating_x':'user_rating'})\n",
    "df_merged"
   ]
  },
  {
   "cell_type": "markdown",
   "metadata": {},
   "source": [
    "## **Modeling**"
   ]
  },
  {
   "cell_type": "code",
   "execution_count": 7,
   "metadata": {},
   "outputs": [],
   "source": [
    "user_item_rating_matrix = df_merged.pivot_table(values='user_rating', index ='user_id', columns ='anime_id')"
   ]
  },
  {
   "cell_type": "code",
   "execution_count": 8,
   "metadata": {},
   "outputs": [],
   "source": [
    "reader = Reader(rating_scale=(0, 10))\n",
    "data = Dataset.load_from_df(df_merged[['user_id', 'anime_id', 'user_rating']], reader)"
   ]
  },
  {
   "cell_type": "markdown",
   "metadata": {},
   "source": [
    "### **Validation**"
   ]
  },
  {
   "cell_type": "code",
   "execution_count": 9,
   "metadata": {},
   "outputs": [],
   "source": [
    "trainset, testset = train_test_split(data, test_size=0.2, random_state=1)"
   ]
  },
  {
   "cell_type": "markdown",
   "metadata": {},
   "source": [
    "### **SVD**"
   ]
  },
  {
   "cell_type": "code",
   "execution_count": 10,
   "metadata": {},
   "outputs": [],
   "source": [
    "algo_svd = SVD()\n",
    "\n",
    "algo_svd.fit(trainset)\n",
    "prediction_svd = algo_svd.test(testset)"
   ]
  },
  {
   "cell_type": "code",
   "execution_count": 11,
   "metadata": {},
   "outputs": [
    {
     "name": "stdout",
     "output_type": "stream",
     "text": [
      "RMSE: 1.2071\n"
     ]
    },
    {
     "data": {
      "text/plain": [
       "1.2071363733090659"
      ]
     },
     "execution_count": 11,
     "metadata": {},
     "output_type": "execute_result"
    }
   ],
   "source": [
    "accuracy.rmse(prediction_svd)"
   ]
  },
  {
   "cell_type": "markdown",
   "metadata": {},
   "source": [
    "### **ALS**"
   ]
  },
  {
   "cell_type": "code",
   "execution_count": 12,
   "metadata": {},
   "outputs": [
    {
     "name": "stdout",
     "output_type": "stream",
     "text": [
      "Estimating biases using als...\n"
     ]
    }
   ],
   "source": [
    "bsl_options = {'method': 'als',\n",
    "               'n_epochs': 10,\n",
    "               'reg_u': 15,\n",
    "               'reg_i': 10\n",
    "               }\n",
    "algo_als = BaselineOnly(bsl_options=bsl_options)\n",
    "\n",
    "algo_als.fit(trainset)\n",
    "prediction_als = algo_als.test(testset)"
   ]
  },
  {
   "cell_type": "code",
   "execution_count": 13,
   "metadata": {},
   "outputs": [
    {
     "name": "stdout",
     "output_type": "stream",
     "text": [
      "RMSE: 1.2128\n"
     ]
    },
    {
     "data": {
      "text/plain": [
       "1.2127696615627046"
      ]
     },
     "execution_count": 13,
     "metadata": {},
     "output_type": "execute_result"
    }
   ],
   "source": [
    "accuracy.rmse(prediction_als)"
   ]
  },
  {
   "cell_type": "markdown",
   "metadata": {},
   "source": [
    "## **Cross Validation**"
   ]
  },
  {
   "cell_type": "markdown",
   "metadata": {},
   "source": [
    "### **SVD**"
   ]
  },
  {
   "cell_type": "code",
   "execution_count": 14,
   "metadata": {},
   "outputs": [
    {
     "name": "stdout",
     "output_type": "stream",
     "text": [
      "Evaluating RMSE, MAE of algorithm SVD on 5 split(s).\n",
      "\n",
      "                  Fold 1  Fold 2  Fold 3  Fold 4  Fold 5  Mean    Std     \n",
      "RMSE (testset)    1.2012  1.1893  1.2106  1.2228  1.2047  1.2057  0.0110  \n",
      "MAE (testset)     0.9107  0.9034  0.9178  0.9252  0.9158  0.9146  0.0073  \n",
      "Fit time          3.57    3.50    3.65    3.96    4.09    3.76    0.23    \n",
      "Test time         0.18    0.10    0.13    0.19    0.12    0.14    0.03    \n"
     ]
    }
   ],
   "source": [
    "cv_svd = cross_validate(algo_svd, data, measures=['RMSE', 'MAE'], cv=5, verbose=True)"
   ]
  },
  {
   "cell_type": "code",
   "execution_count": 15,
   "metadata": {},
   "outputs": [
    {
     "name": "stdout",
     "output_type": "stream",
     "text": [
      "RMSE cv mean 1.2057367102537007\n"
     ]
    }
   ],
   "source": [
    "print('RMSE cv mean', cv_svd['test_rmse'].mean())"
   ]
  },
  {
   "cell_type": "markdown",
   "metadata": {},
   "source": [
    "### **ALS**"
   ]
  },
  {
   "cell_type": "code",
   "execution_count": 16,
   "metadata": {},
   "outputs": [
    {
     "name": "stdout",
     "output_type": "stream",
     "text": [
      "Estimating biases using als...\n",
      "Estimating biases using als...\n",
      "Estimating biases using als...\n",
      "Estimating biases using als...\n",
      "Estimating biases using als...\n"
     ]
    }
   ],
   "source": [
    "cv_als = cross_validate(algo_als, data, measures=['RMSE','MAE'], cv=5, verbose=False)"
   ]
  },
  {
   "cell_type": "code",
   "execution_count": 17,
   "metadata": {},
   "outputs": [
    {
     "name": "stdout",
     "output_type": "stream",
     "text": [
      "RMSE cv mean 1.2130867872330853\n"
     ]
    }
   ],
   "source": [
    "print('RMSE cv mean', cv_als['test_rmse'].mean())"
   ]
  },
  {
   "cell_type": "markdown",
   "metadata": {},
   "source": [
    "## **Hyperparameter tuning**"
   ]
  },
  {
   "cell_type": "code",
   "execution_count": 18,
   "metadata": {},
   "outputs": [],
   "source": [
    "hyperparam_space = {\n",
    "    'n_epochs':[5, 10, 20, 30], \n",
    "    'lr_all':[0.002, 0.005],\n",
    "    'reg_all':[0.02, 0.4, 0.6] \n",
    "}\n",
    "\n",
    "grid_search = GridSearchCV(SVD, hyperparam_space, measures=['rmse', 'mae'], cv=5)\n",
    "\n",
    "grid_search.fit(data)"
   ]
  },
  {
   "cell_type": "code",
   "execution_count": 19,
   "metadata": {},
   "outputs": [
    {
     "name": "stdout",
     "output_type": "stream",
     "text": [
      "RMSE\n",
      "1.2043158700397465\n",
      "{'n_epochs': 20, 'lr_all': 0.005, 'reg_all': 0.02}\n",
      "\n",
      "MAE\n",
      "0.9125449864650055\n",
      "{'n_epochs': 20, 'lr_all': 0.005, 'reg_all': 0.02}\n"
     ]
    }
   ],
   "source": [
    "print('RMSE')\n",
    "print(grid_search.best_score['rmse'])\n",
    "print(grid_search.best_params['rmse'])\n",
    "print('\\nMAE')\n",
    "print(grid_search.best_score['mae'])\n",
    "print(grid_search.best_params['mae'])"
   ]
  },
  {
   "cell_type": "code",
   "execution_count": 21,
   "metadata": {},
   "outputs": [
    {
     "name": "stdout",
     "output_type": "stream",
     "text": [
      "Evaluating RMSE, MAE of algorithm SVD on 5 split(s).\n",
      "\n",
      "                  Fold 1  Fold 2  Fold 3  Fold 4  Fold 5  Mean    Std     \n",
      "RMSE (testset)    1.2035  1.2010  1.2149  1.2057  1.2067  1.2064  0.0047  \n",
      "MAE (testset)     0.9107  0.9147  0.9163  0.9197  0.9148  0.9152  0.0029  \n",
      "Fit time          4.27    3.95    4.07    3.86    3.88    4.00    0.15    \n",
      "Test time         0.24    0.13    0.12    0.21    0.11    0.16    0.05    \n"
     ]
    }
   ],
   "source": [
    "svd_tuned = SVD(n_epochs = 20, lr_all = 0.005, reg_all = 0.02)\n",
    "cv_svd_tuned = cross_validate(svd_tuned, data, measures=['RMSE', 'MAE'], cv=5, verbose=True)"
   ]
  },
  {
   "cell_type": "code",
   "execution_count": 22,
   "metadata": {},
   "outputs": [
    {
     "name": "stdout",
     "output_type": "stream",
     "text": [
      "RMSE cv mean before tuning: 1.2057367102537007\n",
      "RMSE cv mean after tuning: 1.2063815679201373\n"
     ]
    }
   ],
   "source": [
    "print('RMSE cv mean before tuning:', cv_svd['test_rmse'].mean())\n",
    "print('RMSE cv mean after tuning:', cv_svd_tuned['test_rmse'].mean())"
   ]
  },
  {
   "cell_type": "markdown",
   "metadata": {},
   "source": [
    "## **Prediction results**"
   ]
  },
  {
   "cell_type": "markdown",
   "metadata": {},
   "source": [
    "* Hunter x Hunter (2011), anime_id 11061\n",
    "* Detective Conan OVA 09, anime_id 2514\n",
    "* Ranma ½, anime_id 1010\n",
    "* Saint Seiya: Meiou Hades Juuni Kyuu-hen, anime_id 1257 "
   ]
  },
  {
   "cell_type": "code",
   "execution_count": 23,
   "metadata": {},
   "outputs": [
    {
     "data": {
      "text/html": [
       "<div>\n",
       "<style scoped>\n",
       "    .dataframe tbody tr th:only-of-type {\n",
       "        vertical-align: middle;\n",
       "    }\n",
       "\n",
       "    .dataframe tbody tr th {\n",
       "        vertical-align: top;\n",
       "    }\n",
       "\n",
       "    .dataframe thead th {\n",
       "        text-align: right;\n",
       "    }\n",
       "</style>\n",
       "<table border=\"1\" class=\"dataframe\">\n",
       "  <thead>\n",
       "    <tr style=\"text-align: right;\">\n",
       "      <th></th>\n",
       "      <th>user_id</th>\n",
       "      <th>anime_id</th>\n",
       "      <th>title</th>\n",
       "    </tr>\n",
       "  </thead>\n",
       "  <tbody>\n",
       "    <tr>\n",
       "      <th>0</th>\n",
       "      <td>50</td>\n",
       "      <td>11061</td>\n",
       "      <td>Hunter x Hunter (2011)</td>\n",
       "    </tr>\n",
       "    <tr>\n",
       "      <th>1</th>\n",
       "      <td>50</td>\n",
       "      <td>2514</td>\n",
       "      <td>Detective Conan OVA 09</td>\n",
       "    </tr>\n",
       "    <tr>\n",
       "      <th>2</th>\n",
       "      <td>50</td>\n",
       "      <td>1010</td>\n",
       "      <td>Ranma ½</td>\n",
       "    </tr>\n",
       "    <tr>\n",
       "      <th>3</th>\n",
       "      <td>50</td>\n",
       "      <td>1257</td>\n",
       "      <td>Saint Seiya: Meiou Hades Juuni Kyuu-hen</td>\n",
       "    </tr>\n",
       "    <tr>\n",
       "      <th>4</th>\n",
       "      <td>200</td>\n",
       "      <td>11061</td>\n",
       "      <td>Hunter x Hunter (2011)</td>\n",
       "    </tr>\n",
       "    <tr>\n",
       "      <th>5</th>\n",
       "      <td>200</td>\n",
       "      <td>2514</td>\n",
       "      <td>Detective Conan OVA 09</td>\n",
       "    </tr>\n",
       "    <tr>\n",
       "      <th>6</th>\n",
       "      <td>200</td>\n",
       "      <td>1010</td>\n",
       "      <td>Ranma ½</td>\n",
       "    </tr>\n",
       "    <tr>\n",
       "      <th>7</th>\n",
       "      <td>200</td>\n",
       "      <td>1257</td>\n",
       "      <td>Saint Seiya: Meiou Hades Juuni Kyuu-hen</td>\n",
       "    </tr>\n",
       "    <tr>\n",
       "      <th>8</th>\n",
       "      <td>400</td>\n",
       "      <td>11061</td>\n",
       "      <td>Hunter x Hunter (2011)</td>\n",
       "    </tr>\n",
       "    <tr>\n",
       "      <th>9</th>\n",
       "      <td>400</td>\n",
       "      <td>2514</td>\n",
       "      <td>Detective Conan OVA 09</td>\n",
       "    </tr>\n",
       "    <tr>\n",
       "      <th>10</th>\n",
       "      <td>400</td>\n",
       "      <td>1010</td>\n",
       "      <td>Ranma ½</td>\n",
       "    </tr>\n",
       "    <tr>\n",
       "      <th>11</th>\n",
       "      <td>400</td>\n",
       "      <td>1257</td>\n",
       "      <td>Saint Seiya: Meiou Hades Juuni Kyuu-hen</td>\n",
       "    </tr>\n",
       "    <tr>\n",
       "      <th>12</th>\n",
       "      <td>800</td>\n",
       "      <td>11061</td>\n",
       "      <td>Hunter x Hunter (2011)</td>\n",
       "    </tr>\n",
       "    <tr>\n",
       "      <th>13</th>\n",
       "      <td>800</td>\n",
       "      <td>2514</td>\n",
       "      <td>Detective Conan OVA 09</td>\n",
       "    </tr>\n",
       "    <tr>\n",
       "      <th>14</th>\n",
       "      <td>800</td>\n",
       "      <td>1010</td>\n",
       "      <td>Ranma ½</td>\n",
       "    </tr>\n",
       "    <tr>\n",
       "      <th>15</th>\n",
       "      <td>800</td>\n",
       "      <td>1257</td>\n",
       "      <td>Saint Seiya: Meiou Hades Juuni Kyuu-hen</td>\n",
       "    </tr>\n",
       "  </tbody>\n",
       "</table>\n",
       "</div>"
      ],
      "text/plain": [
       "   user_id anime_id                                    title\n",
       "0       50    11061                   Hunter x Hunter (2011)\n",
       "1       50     2514                   Detective Conan OVA 09\n",
       "2       50     1010                                  Ranma ½\n",
       "3       50     1257  Saint Seiya: Meiou Hades Juuni Kyuu-hen\n",
       "4      200    11061                   Hunter x Hunter (2011)\n",
       "5      200     2514                   Detective Conan OVA 09\n",
       "6      200     1010                                  Ranma ½\n",
       "7      200     1257  Saint Seiya: Meiou Hades Juuni Kyuu-hen\n",
       "8      400    11061                   Hunter x Hunter (2011)\n",
       "9      400     2514                   Detective Conan OVA 09\n",
       "10     400     1010                                  Ranma ½\n",
       "11     400     1257  Saint Seiya: Meiou Hades Juuni Kyuu-hen\n",
       "12     800    11061                   Hunter x Hunter (2011)\n",
       "13     800     2514                   Detective Conan OVA 09\n",
       "14     800     1010                                  Ranma ½\n",
       "15     800     1257  Saint Seiya: Meiou Hades Juuni Kyuu-hen"
      ]
     },
     "execution_count": 23,
     "metadata": {},
     "output_type": "execute_result"
    }
   ],
   "source": [
    "users = [50, 200, 400, 800]\n",
    "anime_ids = [11061, 2514, 1010, 1257]\n",
    "titles = ['Hunter x Hunter (2011)', 'Detective Conan OVA 09', 'Ranma ½', 'Saint Seiya: Meiou Hades Juuni Kyuu-hen']\n",
    "\n",
    "df_test = pd.DataFrame(columns = ['user_id', 'anime_id', 'title'])\n",
    "\n",
    "for i in users:\n",
    "    for j, k in zip(anime_ids, titles):\n",
    "        df_test = df_test.append({'user_id':i, 'anime_id':j, 'title':k}, ignore_index=True)\n",
    "        \n",
    "df_test"
   ]
  },
  {
   "cell_type": "code",
   "execution_count": 24,
   "metadata": {},
   "outputs": [],
   "source": [
    "svd_predict = SVD(n_epochs=20, lr_all=0.005, reg_all=0.02)\n",
    "svd_predict.fit(trainset)\n",
    "\n",
    "y = []\n",
    "\n",
    "for index, row in df_test.iterrows():\n",
    "    est = svd_predict.predict(row.user_id, row.anime_id)\n",
    "    y.append(est[3])\n",
    "    \n",
    "df_test['predicted_rating'] = y\n",
    "\n",
    "df_test.sort_values(by=['user_id', 'predicted_rating'], ascending=[True, False], inplace=True)"
   ]
  },
  {
   "cell_type": "code",
   "execution_count": 26,
   "metadata": {},
   "outputs": [
    {
     "data": {
      "text/html": [
       "<div>\n",
       "<style scoped>\n",
       "    .dataframe tbody tr th:only-of-type {\n",
       "        vertical-align: middle;\n",
       "    }\n",
       "\n",
       "    .dataframe tbody tr th {\n",
       "        vertical-align: top;\n",
       "    }\n",
       "\n",
       "    .dataframe thead th {\n",
       "        text-align: right;\n",
       "    }\n",
       "</style>\n",
       "<table border=\"1\" class=\"dataframe\">\n",
       "  <thead>\n",
       "    <tr style=\"text-align: right;\">\n",
       "      <th></th>\n",
       "      <th>user_id</th>\n",
       "      <th>anime_id</th>\n",
       "      <th>title</th>\n",
       "      <th>predicted_rating</th>\n",
       "    </tr>\n",
       "  </thead>\n",
       "  <tbody>\n",
       "    <tr>\n",
       "      <th>0</th>\n",
       "      <td>50</td>\n",
       "      <td>11061</td>\n",
       "      <td>Hunter x Hunter (2011)</td>\n",
       "      <td>9.479294</td>\n",
       "    </tr>\n",
       "    <tr>\n",
       "      <th>3</th>\n",
       "      <td>50</td>\n",
       "      <td>1257</td>\n",
       "      <td>Saint Seiya: Meiou Hades Juuni Kyuu-hen</td>\n",
       "      <td>8.119296</td>\n",
       "    </tr>\n",
       "    <tr>\n",
       "      <th>2</th>\n",
       "      <td>50</td>\n",
       "      <td>1010</td>\n",
       "      <td>Ranma ½</td>\n",
       "      <td>7.811183</td>\n",
       "    </tr>\n",
       "    <tr>\n",
       "      <th>1</th>\n",
       "      <td>50</td>\n",
       "      <td>2514</td>\n",
       "      <td>Detective Conan OVA 09</td>\n",
       "      <td>7.629790</td>\n",
       "    </tr>\n",
       "  </tbody>\n",
       "</table>\n",
       "</div>"
      ],
      "text/plain": [
       "  user_id anime_id                                    title  predicted_rating\n",
       "0      50    11061                   Hunter x Hunter (2011)          9.479294\n",
       "3      50     1257  Saint Seiya: Meiou Hades Juuni Kyuu-hen          8.119296\n",
       "2      50     1010                                  Ranma ½          7.811183\n",
       "1      50     2514                   Detective Conan OVA 09          7.629790"
      ]
     },
     "execution_count": 26,
     "metadata": {},
     "output_type": "execute_result"
    }
   ],
   "source": [
    "df_test[df_test['user_id'] == 50]"
   ]
  },
  {
   "cell_type": "code",
   "execution_count": 27,
   "metadata": {},
   "outputs": [
    {
     "data": {
      "text/html": [
       "<div>\n",
       "<style scoped>\n",
       "    .dataframe tbody tr th:only-of-type {\n",
       "        vertical-align: middle;\n",
       "    }\n",
       "\n",
       "    .dataframe tbody tr th {\n",
       "        vertical-align: top;\n",
       "    }\n",
       "\n",
       "    .dataframe thead th {\n",
       "        text-align: right;\n",
       "    }\n",
       "</style>\n",
       "<table border=\"1\" class=\"dataframe\">\n",
       "  <thead>\n",
       "    <tr style=\"text-align: right;\">\n",
       "      <th></th>\n",
       "      <th>user_id</th>\n",
       "      <th>anime_id</th>\n",
       "      <th>title</th>\n",
       "      <th>predicted_rating</th>\n",
       "    </tr>\n",
       "  </thead>\n",
       "  <tbody>\n",
       "    <tr>\n",
       "      <th>4</th>\n",
       "      <td>200</td>\n",
       "      <td>11061</td>\n",
       "      <td>Hunter x Hunter (2011)</td>\n",
       "      <td>10.000000</td>\n",
       "    </tr>\n",
       "    <tr>\n",
       "      <th>7</th>\n",
       "      <td>200</td>\n",
       "      <td>1257</td>\n",
       "      <td>Saint Seiya: Meiou Hades Juuni Kyuu-hen</td>\n",
       "      <td>8.927797</td>\n",
       "    </tr>\n",
       "    <tr>\n",
       "      <th>5</th>\n",
       "      <td>200</td>\n",
       "      <td>2514</td>\n",
       "      <td>Detective Conan OVA 09</td>\n",
       "      <td>8.727203</td>\n",
       "    </tr>\n",
       "    <tr>\n",
       "      <th>6</th>\n",
       "      <td>200</td>\n",
       "      <td>1010</td>\n",
       "      <td>Ranma ½</td>\n",
       "      <td>8.696162</td>\n",
       "    </tr>\n",
       "  </tbody>\n",
       "</table>\n",
       "</div>"
      ],
      "text/plain": [
       "  user_id anime_id                                    title  predicted_rating\n",
       "4     200    11061                   Hunter x Hunter (2011)         10.000000\n",
       "7     200     1257  Saint Seiya: Meiou Hades Juuni Kyuu-hen          8.927797\n",
       "5     200     2514                   Detective Conan OVA 09          8.727203\n",
       "6     200     1010                                  Ranma ½          8.696162"
      ]
     },
     "execution_count": 27,
     "metadata": {},
     "output_type": "execute_result"
    }
   ],
   "source": [
    "df_test[df_test['user_id'] == 200]"
   ]
  },
  {
   "cell_type": "code",
   "execution_count": 28,
   "metadata": {},
   "outputs": [
    {
     "data": {
      "text/html": [
       "<div>\n",
       "<style scoped>\n",
       "    .dataframe tbody tr th:only-of-type {\n",
       "        vertical-align: middle;\n",
       "    }\n",
       "\n",
       "    .dataframe tbody tr th {\n",
       "        vertical-align: top;\n",
       "    }\n",
       "\n",
       "    .dataframe thead th {\n",
       "        text-align: right;\n",
       "    }\n",
       "</style>\n",
       "<table border=\"1\" class=\"dataframe\">\n",
       "  <thead>\n",
       "    <tr style=\"text-align: right;\">\n",
       "      <th></th>\n",
       "      <th>user_id</th>\n",
       "      <th>anime_id</th>\n",
       "      <th>title</th>\n",
       "      <th>predicted_rating</th>\n",
       "    </tr>\n",
       "  </thead>\n",
       "  <tbody>\n",
       "    <tr>\n",
       "      <th>8</th>\n",
       "      <td>400</td>\n",
       "      <td>11061</td>\n",
       "      <td>Hunter x Hunter (2011)</td>\n",
       "      <td>8.110673</td>\n",
       "    </tr>\n",
       "    <tr>\n",
       "      <th>11</th>\n",
       "      <td>400</td>\n",
       "      <td>1257</td>\n",
       "      <td>Saint Seiya: Meiou Hades Juuni Kyuu-hen</td>\n",
       "      <td>6.336291</td>\n",
       "    </tr>\n",
       "    <tr>\n",
       "      <th>9</th>\n",
       "      <td>400</td>\n",
       "      <td>2514</td>\n",
       "      <td>Detective Conan OVA 09</td>\n",
       "      <td>6.229624</td>\n",
       "    </tr>\n",
       "    <tr>\n",
       "      <th>10</th>\n",
       "      <td>400</td>\n",
       "      <td>1010</td>\n",
       "      <td>Ranma ½</td>\n",
       "      <td>6.165477</td>\n",
       "    </tr>\n",
       "  </tbody>\n",
       "</table>\n",
       "</div>"
      ],
      "text/plain": [
       "   user_id anime_id                                    title  predicted_rating\n",
       "8      400    11061                   Hunter x Hunter (2011)          8.110673\n",
       "11     400     1257  Saint Seiya: Meiou Hades Juuni Kyuu-hen          6.336291\n",
       "9      400     2514                   Detective Conan OVA 09          6.229624\n",
       "10     400     1010                                  Ranma ½          6.165477"
      ]
     },
     "execution_count": 28,
     "metadata": {},
     "output_type": "execute_result"
    }
   ],
   "source": [
    "df_test[df_test['user_id'] == 400]"
   ]
  },
  {
   "cell_type": "code",
   "execution_count": 29,
   "metadata": {},
   "outputs": [
    {
     "data": {
      "text/html": [
       "<div>\n",
       "<style scoped>\n",
       "    .dataframe tbody tr th:only-of-type {\n",
       "        vertical-align: middle;\n",
       "    }\n",
       "\n",
       "    .dataframe tbody tr th {\n",
       "        vertical-align: top;\n",
       "    }\n",
       "\n",
       "    .dataframe thead th {\n",
       "        text-align: right;\n",
       "    }\n",
       "</style>\n",
       "<table border=\"1\" class=\"dataframe\">\n",
       "  <thead>\n",
       "    <tr style=\"text-align: right;\">\n",
       "      <th></th>\n",
       "      <th>user_id</th>\n",
       "      <th>anime_id</th>\n",
       "      <th>title</th>\n",
       "      <th>predicted_rating</th>\n",
       "    </tr>\n",
       "  </thead>\n",
       "  <tbody>\n",
       "    <tr>\n",
       "      <th>12</th>\n",
       "      <td>800</td>\n",
       "      <td>11061</td>\n",
       "      <td>Hunter x Hunter (2011)</td>\n",
       "      <td>9.530207</td>\n",
       "    </tr>\n",
       "    <tr>\n",
       "      <th>15</th>\n",
       "      <td>800</td>\n",
       "      <td>1257</td>\n",
       "      <td>Saint Seiya: Meiou Hades Juuni Kyuu-hen</td>\n",
       "      <td>8.191965</td>\n",
       "    </tr>\n",
       "    <tr>\n",
       "      <th>13</th>\n",
       "      <td>800</td>\n",
       "      <td>2514</td>\n",
       "      <td>Detective Conan OVA 09</td>\n",
       "      <td>7.904181</td>\n",
       "    </tr>\n",
       "    <tr>\n",
       "      <th>14</th>\n",
       "      <td>800</td>\n",
       "      <td>1010</td>\n",
       "      <td>Ranma ½</td>\n",
       "      <td>7.845067</td>\n",
       "    </tr>\n",
       "  </tbody>\n",
       "</table>\n",
       "</div>"
      ],
      "text/plain": [
       "   user_id anime_id                                    title  predicted_rating\n",
       "12     800    11061                   Hunter x Hunter (2011)          9.530207\n",
       "15     800     1257  Saint Seiya: Meiou Hades Juuni Kyuu-hen          8.191965\n",
       "13     800     2514                   Detective Conan OVA 09          7.904181\n",
       "14     800     1010                                  Ranma ½          7.845067"
      ]
     },
     "execution_count": 29,
     "metadata": {},
     "output_type": "execute_result"
    }
   ],
   "source": [
    "df_test[df_test['user_id'] == 800]"
   ]
  }
 ],
 "metadata": {
  "interpreter": {
   "hash": "95a19bb7a135a8107af75b765dc097fafc28c1115c0f9727f05dc637904e7be8"
  },
  "kernelspec": {
   "display_name": "Python 3.8.3 64-bit ('base': conda)",
   "name": "python3"
  },
  "language_info": {
   "codemirror_mode": {
    "name": "ipython",
    "version": 3
   },
   "file_extension": ".py",
   "mimetype": "text/x-python",
   "name": "python",
   "nbconvert_exporter": "python",
   "pygments_lexer": "ipython3",
   "version": "3.8.3"
  },
  "orig_nbformat": 4
 },
 "nbformat": 4,
 "nbformat_minor": 2
}
