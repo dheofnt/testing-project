{
 "metadata": {
  "language_info": {
   "codemirror_mode": {
    "name": "ipython",
    "version": 3
   },
   "file_extension": ".py",
   "mimetype": "text/x-python",
   "name": "python",
   "nbconvert_exporter": "python",
   "pygments_lexer": "ipython3",
   "version": "3.8.3"
  },
  "orig_nbformat": 2,
  "kernelspec": {
   "name": "python3",
   "display_name": "Python 3.8.3 64-bit ('base': conda)"
  },
  "interpreter": {
   "hash": "95a19bb7a135a8107af75b765dc097fafc28c1115c0f9727f05dc637904e7be8"
  }
 },
 "nbformat": 4,
 "nbformat_minor": 2,
 "cells": [
  {
   "cell_type": "markdown",
   "source": [
    "# 6 October 2021"
   ],
   "metadata": {}
  },
  {
   "cell_type": "markdown",
   "source": [
    "## **Titanic dataset**\r\n",
    "\r\n",
    "* Explore: Bagaimana setiap feature berhubungan dengan apakah seseorang survive/alive? Lakukan EDA secara lebih detail dari biasanya dan jelaskan hasil yang didapat!\r\n",
    "* Splitting: 80-20, stratify: y, random_state = 0\r\n",
    "\r\n",
    "* Preprocessing:\r\n",
    "    * Drop deck\r\n",
    "    * Isi missing value menggunakan simple imputer\r\n",
    "    * One hot encoding: sex, alone\r\n",
    "    * Ordinal encoding: class \r\n",
    "    * Binary encoding: embark town\r\n",
    "\r\n",
    "* Model selection:\r\n",
    "    * Evaluation metrics yang dipakai: F1_score\r\n",
    "    * Logreg, KNN, DecisionTreeClassifier, RandomForestClassifier\r\n",
    "    * Hyperparameter tuning 2 model yang menurut kalian terbaik\r\n",
    "    * Buat summary untuk hasil evaluasi dan kesimpulan mana model yang terbaik untuk titanic dataset\r\n",
    "\r\n",
    "Kalau bisa, gunakan pipeline ketika diperlukan untuk menghindari data leakage."
   ],
   "metadata": {}
  },
  {
   "cell_type": "markdown",
   "source": [
    "## **Import libraries**"
   ],
   "metadata": {}
  },
  {
   "cell_type": "code",
   "execution_count": 1,
   "source": [
    "import numpy as np\r\n",
    "import pandas as pd\r\n",
    "import matplotlib.pyplot as plt\r\n",
    "import seaborn as sns\r\n",
    "\r\n",
    "from sklearn.model_selection import cross_val_score, GridSearchCV, train_test_split\r\n",
    "\r\n",
    "from sklearn.preprocessing import OneHotEncoder\r\n",
    "from sklearn.compose import ColumnTransformer\r\n",
    "from sklearn.impute import SimpleImputer\r\n",
    "import category_encoders as ce\r\n",
    "\r\n",
    "from sklearn.preprocessing import StandardScaler\r\n",
    "from sklearn.pipeline import Pipeline\r\n",
    "from sklearn.metrics import confusion_matrix, f1_score, recall_score, precision_score, classification_report, accuracy_score\r\n",
    "\r\n",
    "from sklearn.model_selection import cross_val_score, StratifiedKFold\r\n",
    "from sklearn.metrics import plot_roc_curve, plot_precision_recall_curve\r\n",
    "from sklearn.model_selection import GridSearchCV, RandomizedSearchCV\r\n",
    "import warnings\r\n",
    "\r\n",
    "from sklearn.linear_model import LogisticRegression\r\n",
    "from sklearn.ensemble import VotingClassifier, RandomForestClassifier\r\n",
    "from sklearn.tree import DecisionTreeRegressor, plot_tree, DecisionTreeClassifier\r\n",
    "from sklearn.neighbors import KNeighborsClassifier\r\n",
    "\r\n",
    "import warnings\r\n",
    "warnings.filterwarnings('ignore')\r\n"
   ],
   "outputs": [],
   "metadata": {}
  },
  {
   "cell_type": "markdown",
   "source": [
    "## **Load data**"
   ],
   "metadata": {}
  },
  {
   "cell_type": "code",
   "execution_count": 2,
   "source": [
    "titanic = pd.read_csv('titanic.csv')\r\n",
    "titanic"
   ],
   "outputs": [
    {
     "output_type": "execute_result",
     "data": {
      "text/html": [
       "<div>\n",
       "<style scoped>\n",
       "    .dataframe tbody tr th:only-of-type {\n",
       "        vertical-align: middle;\n",
       "    }\n",
       "\n",
       "    .dataframe tbody tr th {\n",
       "        vertical-align: top;\n",
       "    }\n",
       "\n",
       "    .dataframe thead th {\n",
       "        text-align: right;\n",
       "    }\n",
       "</style>\n",
       "<table border=\"1\" class=\"dataframe\">\n",
       "  <thead>\n",
       "    <tr style=\"text-align: right;\">\n",
       "      <th></th>\n",
       "      <th>sex</th>\n",
       "      <th>age</th>\n",
       "      <th>parch</th>\n",
       "      <th>fare</th>\n",
       "      <th>class</th>\n",
       "      <th>deck</th>\n",
       "      <th>embark_town</th>\n",
       "      <th>alive</th>\n",
       "      <th>alone</th>\n",
       "    </tr>\n",
       "  </thead>\n",
       "  <tbody>\n",
       "    <tr>\n",
       "      <th>0</th>\n",
       "      <td>male</td>\n",
       "      <td>22.0</td>\n",
       "      <td>0</td>\n",
       "      <td>7.2500</td>\n",
       "      <td>Third</td>\n",
       "      <td>NaN</td>\n",
       "      <td>Southampton</td>\n",
       "      <td>no</td>\n",
       "      <td>False</td>\n",
       "    </tr>\n",
       "    <tr>\n",
       "      <th>1</th>\n",
       "      <td>female</td>\n",
       "      <td>38.0</td>\n",
       "      <td>0</td>\n",
       "      <td>71.2833</td>\n",
       "      <td>First</td>\n",
       "      <td>C</td>\n",
       "      <td>Cherbourg</td>\n",
       "      <td>yes</td>\n",
       "      <td>False</td>\n",
       "    </tr>\n",
       "    <tr>\n",
       "      <th>2</th>\n",
       "      <td>female</td>\n",
       "      <td>26.0</td>\n",
       "      <td>0</td>\n",
       "      <td>7.9250</td>\n",
       "      <td>Third</td>\n",
       "      <td>NaN</td>\n",
       "      <td>Southampton</td>\n",
       "      <td>yes</td>\n",
       "      <td>True</td>\n",
       "    </tr>\n",
       "    <tr>\n",
       "      <th>3</th>\n",
       "      <td>female</td>\n",
       "      <td>35.0</td>\n",
       "      <td>0</td>\n",
       "      <td>53.1000</td>\n",
       "      <td>First</td>\n",
       "      <td>C</td>\n",
       "      <td>Southampton</td>\n",
       "      <td>yes</td>\n",
       "      <td>False</td>\n",
       "    </tr>\n",
       "    <tr>\n",
       "      <th>4</th>\n",
       "      <td>male</td>\n",
       "      <td>35.0</td>\n",
       "      <td>0</td>\n",
       "      <td>8.0500</td>\n",
       "      <td>Third</td>\n",
       "      <td>NaN</td>\n",
       "      <td>Southampton</td>\n",
       "      <td>no</td>\n",
       "      <td>True</td>\n",
       "    </tr>\n",
       "    <tr>\n",
       "      <th>...</th>\n",
       "      <td>...</td>\n",
       "      <td>...</td>\n",
       "      <td>...</td>\n",
       "      <td>...</td>\n",
       "      <td>...</td>\n",
       "      <td>...</td>\n",
       "      <td>...</td>\n",
       "      <td>...</td>\n",
       "      <td>...</td>\n",
       "    </tr>\n",
       "    <tr>\n",
       "      <th>886</th>\n",
       "      <td>male</td>\n",
       "      <td>27.0</td>\n",
       "      <td>0</td>\n",
       "      <td>13.0000</td>\n",
       "      <td>Second</td>\n",
       "      <td>NaN</td>\n",
       "      <td>Southampton</td>\n",
       "      <td>no</td>\n",
       "      <td>True</td>\n",
       "    </tr>\n",
       "    <tr>\n",
       "      <th>887</th>\n",
       "      <td>female</td>\n",
       "      <td>19.0</td>\n",
       "      <td>0</td>\n",
       "      <td>30.0000</td>\n",
       "      <td>First</td>\n",
       "      <td>B</td>\n",
       "      <td>Southampton</td>\n",
       "      <td>yes</td>\n",
       "      <td>True</td>\n",
       "    </tr>\n",
       "    <tr>\n",
       "      <th>888</th>\n",
       "      <td>female</td>\n",
       "      <td>NaN</td>\n",
       "      <td>2</td>\n",
       "      <td>23.4500</td>\n",
       "      <td>Third</td>\n",
       "      <td>NaN</td>\n",
       "      <td>Southampton</td>\n",
       "      <td>no</td>\n",
       "      <td>False</td>\n",
       "    </tr>\n",
       "    <tr>\n",
       "      <th>889</th>\n",
       "      <td>male</td>\n",
       "      <td>26.0</td>\n",
       "      <td>0</td>\n",
       "      <td>30.0000</td>\n",
       "      <td>First</td>\n",
       "      <td>C</td>\n",
       "      <td>Cherbourg</td>\n",
       "      <td>yes</td>\n",
       "      <td>True</td>\n",
       "    </tr>\n",
       "    <tr>\n",
       "      <th>890</th>\n",
       "      <td>male</td>\n",
       "      <td>32.0</td>\n",
       "      <td>0</td>\n",
       "      <td>7.7500</td>\n",
       "      <td>Third</td>\n",
       "      <td>NaN</td>\n",
       "      <td>Queenstown</td>\n",
       "      <td>no</td>\n",
       "      <td>True</td>\n",
       "    </tr>\n",
       "  </tbody>\n",
       "</table>\n",
       "<p>891 rows × 9 columns</p>\n",
       "</div>"
      ],
      "text/plain": [
       "        sex   age  parch     fare   class deck  embark_town alive  alone\n",
       "0      male  22.0      0   7.2500   Third  NaN  Southampton    no  False\n",
       "1    female  38.0      0  71.2833   First    C    Cherbourg   yes  False\n",
       "2    female  26.0      0   7.9250   Third  NaN  Southampton   yes   True\n",
       "3    female  35.0      0  53.1000   First    C  Southampton   yes  False\n",
       "4      male  35.0      0   8.0500   Third  NaN  Southampton    no   True\n",
       "..      ...   ...    ...      ...     ...  ...          ...   ...    ...\n",
       "886    male  27.0      0  13.0000  Second  NaN  Southampton    no   True\n",
       "887  female  19.0      0  30.0000   First    B  Southampton   yes   True\n",
       "888  female   NaN      2  23.4500   Third  NaN  Southampton    no  False\n",
       "889    male  26.0      0  30.0000   First    C    Cherbourg   yes   True\n",
       "890    male  32.0      0   7.7500   Third  NaN   Queenstown    no   True\n",
       "\n",
       "[891 rows x 9 columns]"
      ]
     },
     "metadata": {},
     "execution_count": 2
    }
   ],
   "metadata": {}
  },
  {
   "cell_type": "code",
   "execution_count": 3,
   "source": [
    "titanic['alive'].value_counts()"
   ],
   "outputs": [
    {
     "output_type": "execute_result",
     "data": {
      "text/plain": [
       "no     549\n",
       "yes    342\n",
       "Name: alive, dtype: int64"
      ]
     },
     "metadata": {},
     "execution_count": 3
    }
   ],
   "metadata": {}
  },
  {
   "cell_type": "code",
   "execution_count": 4,
   "source": [
    "titanic.shape"
   ],
   "outputs": [
    {
     "output_type": "execute_result",
     "data": {
      "text/plain": [
       "(891, 9)"
      ]
     },
     "metadata": {},
     "execution_count": 4
    }
   ],
   "metadata": {}
  },
  {
   "cell_type": "code",
   "execution_count": 5,
   "source": [
    "# Identify a single value in columns\r\n",
    "titanic.nunique()"
   ],
   "outputs": [
    {
     "output_type": "execute_result",
     "data": {
      "text/plain": [
       "sex              2\n",
       "age             88\n",
       "parch            7\n",
       "fare           248\n",
       "class            3\n",
       "deck             7\n",
       "embark_town      3\n",
       "alive            2\n",
       "alone            2\n",
       "dtype: int64"
      ]
     },
     "metadata": {},
     "execution_count": 5
    }
   ],
   "metadata": {}
  },
  {
   "cell_type": "code",
   "execution_count": 6,
   "source": [
    "titanic.describe(include=object)"
   ],
   "outputs": [
    {
     "output_type": "execute_result",
     "data": {
      "text/html": [
       "<div>\n",
       "<style scoped>\n",
       "    .dataframe tbody tr th:only-of-type {\n",
       "        vertical-align: middle;\n",
       "    }\n",
       "\n",
       "    .dataframe tbody tr th {\n",
       "        vertical-align: top;\n",
       "    }\n",
       "\n",
       "    .dataframe thead th {\n",
       "        text-align: right;\n",
       "    }\n",
       "</style>\n",
       "<table border=\"1\" class=\"dataframe\">\n",
       "  <thead>\n",
       "    <tr style=\"text-align: right;\">\n",
       "      <th></th>\n",
       "      <th>sex</th>\n",
       "      <th>class</th>\n",
       "      <th>deck</th>\n",
       "      <th>embark_town</th>\n",
       "      <th>alive</th>\n",
       "    </tr>\n",
       "  </thead>\n",
       "  <tbody>\n",
       "    <tr>\n",
       "      <th>count</th>\n",
       "      <td>891</td>\n",
       "      <td>891</td>\n",
       "      <td>203</td>\n",
       "      <td>889</td>\n",
       "      <td>891</td>\n",
       "    </tr>\n",
       "    <tr>\n",
       "      <th>unique</th>\n",
       "      <td>2</td>\n",
       "      <td>3</td>\n",
       "      <td>7</td>\n",
       "      <td>3</td>\n",
       "      <td>2</td>\n",
       "    </tr>\n",
       "    <tr>\n",
       "      <th>top</th>\n",
       "      <td>male</td>\n",
       "      <td>Third</td>\n",
       "      <td>C</td>\n",
       "      <td>Southampton</td>\n",
       "      <td>no</td>\n",
       "    </tr>\n",
       "    <tr>\n",
       "      <th>freq</th>\n",
       "      <td>577</td>\n",
       "      <td>491</td>\n",
       "      <td>59</td>\n",
       "      <td>644</td>\n",
       "      <td>549</td>\n",
       "    </tr>\n",
       "  </tbody>\n",
       "</table>\n",
       "</div>"
      ],
      "text/plain": [
       "         sex  class deck  embark_town alive\n",
       "count    891    891  203          889   891\n",
       "unique     2      3    7            3     2\n",
       "top     male  Third    C  Southampton    no\n",
       "freq     577    491   59          644   549"
      ]
     },
     "metadata": {},
     "execution_count": 6
    }
   ],
   "metadata": {}
  },
  {
   "cell_type": "code",
   "execution_count": 7,
   "source": [
    "titanic['alive'].value_counts()"
   ],
   "outputs": [
    {
     "output_type": "execute_result",
     "data": {
      "text/plain": [
       "no     549\n",
       "yes    342\n",
       "Name: alive, dtype: int64"
      ]
     },
     "metadata": {},
     "execution_count": 7
    }
   ],
   "metadata": {}
  },
  {
   "cell_type": "code",
   "execution_count": 8,
   "source": [
    "# if there is any missing values\r\n",
    "titanic.isnull().sum()"
   ],
   "outputs": [
    {
     "output_type": "execute_result",
     "data": {
      "text/plain": [
       "sex              0\n",
       "age            177\n",
       "parch            0\n",
       "fare             0\n",
       "class            0\n",
       "deck           688\n",
       "embark_town      2\n",
       "alive            0\n",
       "alone            0\n",
       "dtype: int64"
      ]
     },
     "metadata": {},
     "execution_count": 8
    }
   ],
   "metadata": {}
  },
  {
   "cell_type": "markdown",
   "source": [
    "Age, deck, dan embark_town memiliki missing values. Untuk age dan embark_town, missing valuesnya akan diisi dengan menggunakan simple imputer, sedangkan feature deck nantinya akan didrop."
   ],
   "metadata": {}
  },
  {
   "cell_type": "markdown",
   "source": [
    "## **EDA**"
   ],
   "metadata": {}
  },
  {
   "cell_type": "markdown",
   "source": [
    "### **Sex**"
   ],
   "metadata": {}
  },
  {
   "cell_type": "code",
   "execution_count": 9,
   "source": [
    "sex_alive = sns.FacetGrid(titanic, col='sex', row='alive', margin_titles=True)\r\n",
    "sex_alive.map(plt.hist, 'age', color= 'green')\r\n",
    "plt.show()"
   ],
   "outputs": [
    {
     "output_type": "display_data",
     "data": {
      "image/png": "[encoded data removed]",
      "text/plain": [
       "<Figure size 432x432 with 4 Axes>"
      ]
     },
     "metadata": {
      "needs_background": "light"
     }
    }
   ],
   "metadata": {}
  },
  {
   "cell_type": "markdown",
   "source": [
    "Berdasarkan gender, jumlah alive pada female secara signifikan jauh lebih banyak daripada male, dengan sebaran umur terbanyak berkisar dari 18 hingga 38."
   ],
   "metadata": {}
  },
  {
   "cell_type": "markdown",
   "source": [
    "### **Age**"
   ],
   "metadata": {}
  },
  {
   "cell_type": "code",
   "execution_count": 10,
   "source": [
    "age_alive = sns.FacetGrid(titanic, col='alive')\r\n",
    "age_alive.map(plt.hist, 'age', bins=20)\r\n",
    "plt.show()"
   ],
   "outputs": [
    {
     "output_type": "display_data",
     "data": {
      "image/png": "[encoded data removed]",
      "text/plain": [
       "<Figure size 432x216 with 2 Axes>"
      ]
     },
     "metadata": {
      "needs_background": "light"
     }
    }
   ],
   "metadata": {}
  },
  {
   "cell_type": "markdown",
   "source": [
    "### **Class and Fare**"
   ],
   "metadata": {}
  },
  {
   "cell_type": "code",
   "execution_count": 11,
   "source": [
    "class_fare = sns.FacetGrid(titanic, hue='alive', col='class', margin_titles=True, palette={'yes':'green', 'no':'red'})\r\n",
    "class_fare.map(plt.scatter, 'fare', 'age', edgecolor='w').add_legend()\r\n",
    "plt.show()"
   ],
   "outputs": [
    {
     "output_type": "display_data",
     "data": {
      "image/png": "[encoded data removed]",
      "text/plain": [
       "<Figure size 701.25x216 with 3 Axes>"
      ]
     },
     "metadata": {
      "needs_background": "light"
     }
    }
   ],
   "metadata": {}
  },
  {
   "cell_type": "code",
   "execution_count": 12,
   "source": [
    "titanic.groupby('class')['alive'].value_counts()"
   ],
   "outputs": [
    {
     "output_type": "execute_result",
     "data": {
      "text/plain": [
       "class   alive\n",
       "First   yes      136\n",
       "        no        80\n",
       "Second  no        97\n",
       "        yes       87\n",
       "Third   no       372\n",
       "        yes      119\n",
       "Name: alive, dtype: int64"
      ]
     },
     "metadata": {},
     "execution_count": 12
    }
   ],
   "metadata": {}
  },
  {
   "cell_type": "code",
   "execution_count": 13,
   "source": [
    "titanic.groupby('class')['alive'].value_counts()/titanic.shape[0]*100"
   ],
   "outputs": [
    {
     "output_type": "execute_result",
     "data": {
      "text/plain": [
       "class   alive\n",
       "First   yes      15.263749\n",
       "        no        8.978676\n",
       "Second  no       10.886644\n",
       "        yes       9.764310\n",
       "Third   no       41.750842\n",
       "        yes      13.355780\n",
       "Name: alive, dtype: float64"
      ]
     },
     "metadata": {},
     "execution_count": 13
    }
   ],
   "metadata": {}
  },
  {
   "cell_type": "markdown",
   "source": [
    "- Jumlah penumpang terbanyak berasal dari kelas Third.\n",
    "- Jumlah penumpang yang selamat paling banyak berasal dari kelas First (15%), diikuti oleh kelas Third (13%)."
   ],
   "metadata": {}
  },
  {
   "cell_type": "markdown",
   "source": [
    "### **Age, Gender, Fare**"
   ],
   "metadata": {}
  },
  {
   "cell_type": "code",
   "execution_count": 14,
   "source": [
    "age_gender_fare = sns.FacetGrid(titanic, hue='alive', col='sex', margin_titles=True, palette='Set1', hue_kws=dict(marker=['^', 'v']))\r\n",
    "age_gender_fare.map(plt.scatter, 'fare', 'age',edgecolor='w').add_legend()\r\n",
    "plt.subplots_adjust(top=0.8)\r\n",
    "age_gender_fare.fig.suptitle('Survival by Age, Gender and Fare')\r\n",
    "plt.show()"
   ],
   "outputs": [
    {
     "output_type": "display_data",
     "data": {
      "image/png": "[encoded data removed]",
      "text/plain": [
       "<Figure size 485.25x216 with 2 Axes>"
      ]
     },
     "metadata": {
      "needs_background": "light"
     }
    }
   ],
   "metadata": {}
  },
  {
   "cell_type": "code",
   "execution_count": 15,
   "source": [
    "titanic.groupby('sex')['alive'].value_counts()"
   ],
   "outputs": [
    {
     "output_type": "execute_result",
     "data": {
      "text/plain": [
       "sex     alive\n",
       "female  yes      233\n",
       "        no        81\n",
       "male    no       468\n",
       "        yes      109\n",
       "Name: alive, dtype: int64"
      ]
     },
     "metadata": {},
     "execution_count": 15
    }
   ],
   "metadata": {}
  },
  {
   "cell_type": "code",
   "execution_count": 16,
   "source": [
    "titanic.groupby('sex')['alive'].value_counts()/titanic.shape[0]*100"
   ],
   "outputs": [
    {
     "output_type": "execute_result",
     "data": {
      "text/plain": [
       "sex     alive\n",
       "female  yes      26.150393\n",
       "        no        9.090909\n",
       "male    no       52.525253\n",
       "        yes      12.233446\n",
       "Name: alive, dtype: float64"
      ]
     },
     "metadata": {},
     "execution_count": 16
    }
   ],
   "metadata": {}
  },
  {
   "cell_type": "markdown",
   "source": [
    "- Jumlah penumpang female yang selamat melebihi 2 kali lipat dari jumlah penumpang male yang selamat.\n",
    "- Lebih dari 50% dari total penumpang yang tidak selamat adalah gender male."
   ],
   "metadata": {}
  },
  {
   "cell_type": "markdown",
   "source": [
    "### **Embark Town**"
   ],
   "metadata": {}
  },
  {
   "cell_type": "code",
   "execution_count": 17,
   "source": [
    "titanic.embark_town.value_counts().plot(kind='bar')\r\n",
    "plt.title('Passengers per boarding location')\r\n",
    "plt.show()"
   ],
   "outputs": [
    {
     "output_type": "display_data",
     "data": {
      "image/png": "[encoded data removed]",
      "text/plain": [
       "<Figure size 432x288 with 1 Axes>"
      ]
     },
     "metadata": {
      "needs_background": "light"
     }
    }
   ],
   "metadata": {}
  },
  {
   "cell_type": "code",
   "execution_count": 18,
   "source": [
    "embark_alive = sns.FacetGrid(titanic, col='embark_town')\r\n",
    "embark_alive.map(plt.hist, 'alive')\r\n",
    "plt.show()"
   ],
   "outputs": [
    {
     "output_type": "display_data",
     "data": {
      "image/png": "[encoded data removed]",
      "text/plain": [
       "<Figure size 648x216 with 3 Axes>"
      ]
     },
     "metadata": {
      "needs_background": "light"
     }
    }
   ],
   "metadata": {}
  },
  {
   "cell_type": "code",
   "execution_count": 19,
   "source": [
    "titanic.groupby('embark_town')['alive'].value_counts()"
   ],
   "outputs": [
    {
     "output_type": "execute_result",
     "data": {
      "text/plain": [
       "embark_town  alive\n",
       "Cherbourg    yes       93\n",
       "             no        75\n",
       "Queenstown   no        47\n",
       "             yes       30\n",
       "Southampton  no       427\n",
       "             yes      217\n",
       "Name: alive, dtype: int64"
      ]
     },
     "metadata": {},
     "execution_count": 19
    }
   ],
   "metadata": {}
  },
  {
   "cell_type": "code",
   "execution_count": 20,
   "source": [
    "titanic.groupby('embark_town')['alive'].value_counts()/titanic.shape[0]*100"
   ],
   "outputs": [
    {
     "output_type": "execute_result",
     "data": {
      "text/plain": [
       "embark_town  alive\n",
       "Cherbourg    yes      10.437710\n",
       "             no        8.417508\n",
       "Queenstown   no        5.274972\n",
       "             yes       3.367003\n",
       "Southampton  no       47.923681\n",
       "             yes      24.354658\n",
       "Name: alive, dtype: float64"
      ]
     },
     "metadata": {},
     "execution_count": 20
    }
   ],
   "metadata": {}
  },
  {
   "cell_type": "markdown",
   "source": [
    "### **Embark Town and Class**"
   ],
   "metadata": {}
  },
  {
   "cell_type": "code",
   "execution_count": 21,
   "source": [
    "titanic.groupby('embark_town')['class'].value_counts()"
   ],
   "outputs": [
    {
     "output_type": "execute_result",
     "data": {
      "text/plain": [
       "embark_town  class \n",
       "Cherbourg    First      85\n",
       "             Third      66\n",
       "             Second     17\n",
       "Queenstown   Third      72\n",
       "             Second      3\n",
       "             First       2\n",
       "Southampton  Third     353\n",
       "             Second    164\n",
       "             First     127\n",
       "Name: class, dtype: int64"
      ]
     },
     "metadata": {},
     "execution_count": 21
    }
   ],
   "metadata": {}
  },
  {
   "cell_type": "code",
   "execution_count": 22,
   "source": [
    "titanic.groupby('embark_town')['class'].value_counts().plot(kind='barh');"
   ],
   "outputs": [
    {
     "output_type": "display_data",
     "data": {
      "image/png": "[encoded data removed]",
      "text/plain": [
       "<Figure size 432x288 with 1 Axes>"
      ]
     },
     "metadata": {
      "needs_background": "light"
     }
    }
   ],
   "metadata": {}
  },
  {
   "cell_type": "markdown",
   "source": [
    "- Berdasarkan asal keberangkatannya, penumpang yang berangkat dari Southampton adalah yang terbanyak. \n",
    "- Namun, jika ditinjau dari titik keberangkatan, hanya Cherbourg yang memiliki rasio jumlah penumpang selamat yang lebih besar. Hal ini mungkin disebabkan karena penumpang dari Cherbourg adalah penumpang kelas First, yang kemungkinan didahulukan ketika bencana terjadi."
   ],
   "metadata": {}
  },
  {
   "cell_type": "markdown",
   "source": [
    "### **Alone**"
   ],
   "metadata": {}
  },
  {
   "cell_type": "code",
   "execution_count": 23,
   "source": [
    "titanic.alone.value_counts().plot(kind='barh')\r\n",
    "plt.title('Passengers embarkation status')\r\n",
    "plt.show()"
   ],
   "outputs": [
    {
     "output_type": "display_data",
     "data": {
      "image/png": "[encoded data removed]",
      "text/plain": [
       "<Figure size 432x288 with 1 Axes>"
      ]
     },
     "metadata": {
      "needs_background": "light"
     }
    }
   ],
   "metadata": {}
  },
  {
   "cell_type": "code",
   "execution_count": 24,
   "source": [
    "titanic.groupby('alone')['alive'].value_counts()"
   ],
   "outputs": [
    {
     "output_type": "execute_result",
     "data": {
      "text/plain": [
       "alone  alive\n",
       "False  yes      179\n",
       "       no       175\n",
       "True   no       374\n",
       "       yes      163\n",
       "Name: alive, dtype: int64"
      ]
     },
     "metadata": {},
     "execution_count": 24
    }
   ],
   "metadata": {}
  },
  {
   "cell_type": "code",
   "execution_count": 25,
   "source": [
    "titanic.groupby('alone')['class'].value_counts()"
   ],
   "outputs": [
    {
     "output_type": "execute_result",
     "data": {
      "text/plain": [
       "alone  class \n",
       "False  Third     167\n",
       "       First     107\n",
       "       Second     80\n",
       "True   Third     324\n",
       "       First     109\n",
       "       Second    104\n",
       "Name: class, dtype: int64"
      ]
     },
     "metadata": {},
     "execution_count": 25
    }
   ],
   "metadata": {}
  },
  {
   "cell_type": "markdown",
   "source": [
    "Penumpang yang berangkat sendirian lebih banyak yang tidak selamat. Kebanyakan penumpang yang berangkat sendirian adalah penumpang kelas Third."
   ],
   "metadata": {}
  },
  {
   "cell_type": "markdown",
   "source": [
    "## **Preprocessing scheme**"
   ],
   "metadata": {}
  },
  {
   "cell_type": "code",
   "execution_count": 26,
   "source": [
    "ordinal_mapping= [\r\n",
    "    {'col':'class',\r\n",
    "    'mapping': {None:0, 'First':1, 'Second':2, 'Third':3}}]\r\n",
    "ordinal_encoder = ce.OrdinalEncoder(cols = 'class', mapping=ordinal_mapping)"
   ],
   "outputs": [],
   "metadata": {}
  },
  {
   "cell_type": "code",
   "execution_count": 27,
   "source": [
    "binary_encoder_pipeline = Pipeline([\r\n",
    "    ('imputer', SimpleImputer(strategy='most_frequent')),\r\n",
    "    ('binary encoder', ce.BinaryEncoder())\r\n",
    "])\r\n",
    "\r\n",
    "transformer = ColumnTransformer([\r\n",
    "    ('one hot encoder', OneHotEncoder(drop='first'), ['sex', 'alone']),\r\n",
    "    ('ordinal encoding', ordinal_encoder, ['class']),\r\n",
    "    ('simple imputer', SimpleImputer(strategy='median'), ['age']),\r\n",
    "    ('binary encoder', binary_encoder_pipeline, ['embark_town'])\r\n",
    "], remainder='passthrough')"
   ],
   "outputs": [],
   "metadata": {}
  },
  {
   "cell_type": "markdown",
   "source": [
    "## **Data Splitting**"
   ],
   "metadata": {}
  },
  {
   "cell_type": "code",
   "execution_count": 28,
   "source": [
    "X = titanic.drop(columns = ['alive', 'deck'])\r\n",
    "y = np.where(titanic['alive'] == 'yes', 1, 0)"
   ],
   "outputs": [],
   "metadata": {}
  },
  {
   "cell_type": "code",
   "execution_count": 29,
   "source": [
    "X_train, X_test, y_train, y_test = train_test_split(\r\n",
    "    X, \r\n",
    "    y, \r\n",
    "    test_size = 0.2,\r\n",
    "    stratify = y,\r\n",
    "    random_state = 0)"
   ],
   "outputs": [],
   "metadata": {}
  },
  {
   "cell_type": "markdown",
   "source": [
    "## **Data Transformation**"
   ],
   "metadata": {}
  },
  {
   "cell_type": "code",
   "execution_count": 30,
   "source": [
    "X_train_prep = transformer.fit_transform(X_train)\r\n",
    "X_test_prep = transformer.transform(X_test)"
   ],
   "outputs": [],
   "metadata": {}
  },
  {
   "cell_type": "code",
   "execution_count": 31,
   "source": [
    "X_train_prep = pd.DataFrame(X_train_prep)\r\n",
    "X_test_prep = pd.DataFrame(X_test_prep)"
   ],
   "outputs": [],
   "metadata": {}
  },
  {
   "cell_type": "code",
   "execution_count": 32,
   "source": [
    "transformer.transformers_"
   ],
   "outputs": [
    {
     "output_type": "execute_result",
     "data": {
      "text/plain": [
       "[('one hot encoder', OneHotEncoder(drop='first'), ['sex', 'alone']),\n",
       " ('ordinal encoding',\n",
       "  OrdinalEncoder(cols=['class'],\n",
       "                 mapping=[{'col': 'class',\n",
       "                           'mapping': {None: 0, 'First': 1, 'Second': 2,\n",
       "                                       'Third': 3}}]),\n",
       "  ['class']),\n",
       " ('simple imputer', SimpleImputer(strategy='median'), ['age']),\n",
       " ('binary encoder',\n",
       "  Pipeline(steps=[('imputer', SimpleImputer(strategy='most_frequent')),\n",
       "                  ('binary encoder', BinaryEncoder())]),\n",
       "  ['embark_town']),\n",
       " ('remainder', 'passthrough', [2, 3])]"
      ]
     },
     "metadata": {},
     "execution_count": 32
    }
   ],
   "metadata": {}
  },
  {
   "cell_type": "code",
   "execution_count": 33,
   "source": [
    "transformer.transformers_[0][1].get_feature_names()"
   ],
   "outputs": [
    {
     "output_type": "execute_result",
     "data": {
      "text/plain": [
       "array(['x0_male', 'x1_True'], dtype=object)"
      ]
     },
     "metadata": {},
     "execution_count": 33
    }
   ],
   "metadata": {}
  },
  {
   "cell_type": "code",
   "execution_count": 34,
   "source": [
    "transformer.transformers_[1][1].get_feature_names()"
   ],
   "outputs": [
    {
     "output_type": "execute_result",
     "data": {
      "text/plain": [
       "['class']"
      ]
     },
     "metadata": {},
     "execution_count": 34
    }
   ],
   "metadata": {}
  },
  {
   "cell_type": "code",
   "execution_count": 35,
   "source": [
    "transformer.transformers_[3][1][1].get_feature_names()"
   ],
   "outputs": [
    {
     "output_type": "execute_result",
     "data": {
      "text/plain": [
       "['0_0', '0_1', '0_2']"
      ]
     },
     "metadata": {},
     "execution_count": 35
    }
   ],
   "metadata": {}
  },
  {
   "cell_type": "code",
   "execution_count": 36,
   "source": [
    "features = list(transformer. transformers_[0][1].get_feature_names()) + transformer.transformers_[1][1].get_feature_names() + ['age'] + transformer.transformers_[3][1][1].get_feature_names() + ['parch', 'fare']\r\n",
    "X_train_prep.columns = features\r\n",
    "X_test_prep.columns = features\r\n",
    "X_train_prep"
   ],
   "outputs": [
    {
     "output_type": "execute_result",
     "data": {
      "text/html": [
       "<div>\n",
       "<style scoped>\n",
       "    .dataframe tbody tr th:only-of-type {\n",
       "        vertical-align: middle;\n",
       "    }\n",
       "\n",
       "    .dataframe tbody tr th {\n",
       "        vertical-align: top;\n",
       "    }\n",
       "\n",
       "    .dataframe thead th {\n",
       "        text-align: right;\n",
       "    }\n",
       "</style>\n",
       "<table border=\"1\" class=\"dataframe\">\n",
       "  <thead>\n",
       "    <tr style=\"text-align: right;\">\n",
       "      <th></th>\n",
       "      <th>x0_male</th>\n",
       "      <th>x1_True</th>\n",
       "      <th>class</th>\n",
       "      <th>age</th>\n",
       "      <th>0_0</th>\n",
       "      <th>0_1</th>\n",
       "      <th>0_2</th>\n",
       "      <th>parch</th>\n",
       "      <th>fare</th>\n",
       "    </tr>\n",
       "  </thead>\n",
       "  <tbody>\n",
       "    <tr>\n",
       "      <th>0</th>\n",
       "      <td>0.0</td>\n",
       "      <td>1.0</td>\n",
       "      <td>3.0</td>\n",
       "      <td>28.0</td>\n",
       "      <td>0.0</td>\n",
       "      <td>0.0</td>\n",
       "      <td>1.0</td>\n",
       "      <td>0.0</td>\n",
       "      <td>7.6292</td>\n",
       "    </tr>\n",
       "    <tr>\n",
       "      <th>1</th>\n",
       "      <td>1.0</td>\n",
       "      <td>1.0</td>\n",
       "      <td>3.0</td>\n",
       "      <td>28.0</td>\n",
       "      <td>0.0</td>\n",
       "      <td>1.0</td>\n",
       "      <td>0.0</td>\n",
       "      <td>0.0</td>\n",
       "      <td>8.0500</td>\n",
       "    </tr>\n",
       "    <tr>\n",
       "      <th>2</th>\n",
       "      <td>0.0</td>\n",
       "      <td>1.0</td>\n",
       "      <td>3.0</td>\n",
       "      <td>28.0</td>\n",
       "      <td>0.0</td>\n",
       "      <td>0.0</td>\n",
       "      <td>1.0</td>\n",
       "      <td>0.0</td>\n",
       "      <td>7.7500</td>\n",
       "    </tr>\n",
       "    <tr>\n",
       "      <th>3</th>\n",
       "      <td>0.0</td>\n",
       "      <td>0.0</td>\n",
       "      <td>1.0</td>\n",
       "      <td>51.0</td>\n",
       "      <td>0.0</td>\n",
       "      <td>1.0</td>\n",
       "      <td>0.0</td>\n",
       "      <td>0.0</td>\n",
       "      <td>77.9583</td>\n",
       "    </tr>\n",
       "    <tr>\n",
       "      <th>4</th>\n",
       "      <td>1.0</td>\n",
       "      <td>1.0</td>\n",
       "      <td>3.0</td>\n",
       "      <td>21.0</td>\n",
       "      <td>0.0</td>\n",
       "      <td>0.0</td>\n",
       "      <td>1.0</td>\n",
       "      <td>0.0</td>\n",
       "      <td>7.7333</td>\n",
       "    </tr>\n",
       "    <tr>\n",
       "      <th>...</th>\n",
       "      <td>...</td>\n",
       "      <td>...</td>\n",
       "      <td>...</td>\n",
       "      <td>...</td>\n",
       "      <td>...</td>\n",
       "      <td>...</td>\n",
       "      <td>...</td>\n",
       "      <td>...</td>\n",
       "      <td>...</td>\n",
       "    </tr>\n",
       "    <tr>\n",
       "      <th>707</th>\n",
       "      <td>1.0</td>\n",
       "      <td>1.0</td>\n",
       "      <td>3.0</td>\n",
       "      <td>20.0</td>\n",
       "      <td>0.0</td>\n",
       "      <td>1.0</td>\n",
       "      <td>0.0</td>\n",
       "      <td>0.0</td>\n",
       "      <td>7.0500</td>\n",
       "    </tr>\n",
       "    <tr>\n",
       "      <th>708</th>\n",
       "      <td>1.0</td>\n",
       "      <td>0.0</td>\n",
       "      <td>3.0</td>\n",
       "      <td>28.0</td>\n",
       "      <td>0.0</td>\n",
       "      <td>1.0</td>\n",
       "      <td>0.0</td>\n",
       "      <td>0.0</td>\n",
       "      <td>19.9667</td>\n",
       "    </tr>\n",
       "    <tr>\n",
       "      <th>709</th>\n",
       "      <td>1.0</td>\n",
       "      <td>1.0</td>\n",
       "      <td>3.0</td>\n",
       "      <td>39.0</td>\n",
       "      <td>0.0</td>\n",
       "      <td>1.0</td>\n",
       "      <td>0.0</td>\n",
       "      <td>0.0</td>\n",
       "      <td>7.9250</td>\n",
       "    </tr>\n",
       "    <tr>\n",
       "      <th>710</th>\n",
       "      <td>1.0</td>\n",
       "      <td>0.0</td>\n",
       "      <td>3.0</td>\n",
       "      <td>28.0</td>\n",
       "      <td>0.0</td>\n",
       "      <td>1.0</td>\n",
       "      <td>1.0</td>\n",
       "      <td>0.0</td>\n",
       "      <td>21.6792</td>\n",
       "    </tr>\n",
       "    <tr>\n",
       "      <th>711</th>\n",
       "      <td>1.0</td>\n",
       "      <td>1.0</td>\n",
       "      <td>3.0</td>\n",
       "      <td>22.0</td>\n",
       "      <td>0.0</td>\n",
       "      <td>1.0</td>\n",
       "      <td>0.0</td>\n",
       "      <td>0.0</td>\n",
       "      <td>9.0000</td>\n",
       "    </tr>\n",
       "  </tbody>\n",
       "</table>\n",
       "<p>712 rows × 9 columns</p>\n",
       "</div>"
      ],
      "text/plain": [
       "     x0_male  x1_True  class   age  0_0  0_1  0_2  parch     fare\n",
       "0        0.0      1.0    3.0  28.0  0.0  0.0  1.0    0.0   7.6292\n",
       "1        1.0      1.0    3.0  28.0  0.0  1.0  0.0    0.0   8.0500\n",
       "2        0.0      1.0    3.0  28.0  0.0  0.0  1.0    0.0   7.7500\n",
       "3        0.0      0.0    1.0  51.0  0.0  1.0  0.0    0.0  77.9583\n",
       "4        1.0      1.0    3.0  21.0  0.0  0.0  1.0    0.0   7.7333\n",
       "..       ...      ...    ...   ...  ...  ...  ...    ...      ...\n",
       "707      1.0      1.0    3.0  20.0  0.0  1.0  0.0    0.0   7.0500\n",
       "708      1.0      0.0    3.0  28.0  0.0  1.0  0.0    0.0  19.9667\n",
       "709      1.0      1.0    3.0  39.0  0.0  1.0  0.0    0.0   7.9250\n",
       "710      1.0      0.0    3.0  28.0  0.0  1.0  1.0    0.0  21.6792\n",
       "711      1.0      1.0    3.0  22.0  0.0  1.0  0.0    0.0   9.0000\n",
       "\n",
       "[712 rows x 9 columns]"
      ]
     },
     "metadata": {},
     "execution_count": 36
    }
   ],
   "metadata": {}
  },
  {
   "cell_type": "code",
   "execution_count": 37,
   "source": [
    "X_test_prep"
   ],
   "outputs": [
    {
     "output_type": "execute_result",
     "data": {
      "text/html": [
       "<div>\n",
       "<style scoped>\n",
       "    .dataframe tbody tr th:only-of-type {\n",
       "        vertical-align: middle;\n",
       "    }\n",
       "\n",
       "    .dataframe tbody tr th {\n",
       "        vertical-align: top;\n",
       "    }\n",
       "\n",
       "    .dataframe thead th {\n",
       "        text-align: right;\n",
       "    }\n",
       "</style>\n",
       "<table border=\"1\" class=\"dataframe\">\n",
       "  <thead>\n",
       "    <tr style=\"text-align: right;\">\n",
       "      <th></th>\n",
       "      <th>x0_male</th>\n",
       "      <th>x1_True</th>\n",
       "      <th>class</th>\n",
       "      <th>age</th>\n",
       "      <th>0_0</th>\n",
       "      <th>0_1</th>\n",
       "      <th>0_2</th>\n",
       "      <th>parch</th>\n",
       "      <th>fare</th>\n",
       "    </tr>\n",
       "  </thead>\n",
       "  <tbody>\n",
       "    <tr>\n",
       "      <th>0</th>\n",
       "      <td>1.0</td>\n",
       "      <td>0.0</td>\n",
       "      <td>3.0</td>\n",
       "      <td>40.5</td>\n",
       "      <td>0.0</td>\n",
       "      <td>1.0</td>\n",
       "      <td>0.0</td>\n",
       "      <td>2.0</td>\n",
       "      <td>14.5000</td>\n",
       "    </tr>\n",
       "    <tr>\n",
       "      <th>1</th>\n",
       "      <td>1.0</td>\n",
       "      <td>1.0</td>\n",
       "      <td>3.0</td>\n",
       "      <td>33.0</td>\n",
       "      <td>0.0</td>\n",
       "      <td>1.0</td>\n",
       "      <td>0.0</td>\n",
       "      <td>0.0</td>\n",
       "      <td>9.5000</td>\n",
       "    </tr>\n",
       "    <tr>\n",
       "      <th>2</th>\n",
       "      <td>0.0</td>\n",
       "      <td>0.0</td>\n",
       "      <td>3.0</td>\n",
       "      <td>39.0</td>\n",
       "      <td>0.0</td>\n",
       "      <td>1.0</td>\n",
       "      <td>0.0</td>\n",
       "      <td>5.0</td>\n",
       "      <td>31.2750</td>\n",
       "    </tr>\n",
       "    <tr>\n",
       "      <th>3</th>\n",
       "      <td>1.0</td>\n",
       "      <td>1.0</td>\n",
       "      <td>3.0</td>\n",
       "      <td>28.0</td>\n",
       "      <td>0.0</td>\n",
       "      <td>1.0</td>\n",
       "      <td>0.0</td>\n",
       "      <td>0.0</td>\n",
       "      <td>9.5000</td>\n",
       "    </tr>\n",
       "    <tr>\n",
       "      <th>4</th>\n",
       "      <td>0.0</td>\n",
       "      <td>1.0</td>\n",
       "      <td>1.0</td>\n",
       "      <td>24.0</td>\n",
       "      <td>0.0</td>\n",
       "      <td>1.0</td>\n",
       "      <td>1.0</td>\n",
       "      <td>0.0</td>\n",
       "      <td>83.1583</td>\n",
       "    </tr>\n",
       "    <tr>\n",
       "      <th>...</th>\n",
       "      <td>...</td>\n",
       "      <td>...</td>\n",
       "      <td>...</td>\n",
       "      <td>...</td>\n",
       "      <td>...</td>\n",
       "      <td>...</td>\n",
       "      <td>...</td>\n",
       "      <td>...</td>\n",
       "      <td>...</td>\n",
       "    </tr>\n",
       "    <tr>\n",
       "      <th>174</th>\n",
       "      <td>1.0</td>\n",
       "      <td>1.0</td>\n",
       "      <td>1.0</td>\n",
       "      <td>71.0</td>\n",
       "      <td>0.0</td>\n",
       "      <td>1.0</td>\n",
       "      <td>1.0</td>\n",
       "      <td>0.0</td>\n",
       "      <td>34.6542</td>\n",
       "    </tr>\n",
       "    <tr>\n",
       "      <th>175</th>\n",
       "      <td>0.0</td>\n",
       "      <td>0.0</td>\n",
       "      <td>2.0</td>\n",
       "      <td>45.0</td>\n",
       "      <td>0.0</td>\n",
       "      <td>1.0</td>\n",
       "      <td>0.0</td>\n",
       "      <td>1.0</td>\n",
       "      <td>26.2500</td>\n",
       "    </tr>\n",
       "    <tr>\n",
       "      <th>176</th>\n",
       "      <td>1.0</td>\n",
       "      <td>1.0</td>\n",
       "      <td>3.0</td>\n",
       "      <td>25.0</td>\n",
       "      <td>0.0</td>\n",
       "      <td>1.0</td>\n",
       "      <td>0.0</td>\n",
       "      <td>0.0</td>\n",
       "      <td>7.6500</td>\n",
       "    </tr>\n",
       "    <tr>\n",
       "      <th>177</th>\n",
       "      <td>1.0</td>\n",
       "      <td>1.0</td>\n",
       "      <td>3.0</td>\n",
       "      <td>19.0</td>\n",
       "      <td>0.0</td>\n",
       "      <td>1.0</td>\n",
       "      <td>0.0</td>\n",
       "      <td>0.0</td>\n",
       "      <td>14.5000</td>\n",
       "    </tr>\n",
       "    <tr>\n",
       "      <th>178</th>\n",
       "      <td>1.0</td>\n",
       "      <td>1.0</td>\n",
       "      <td>3.0</td>\n",
       "      <td>19.0</td>\n",
       "      <td>0.0</td>\n",
       "      <td>0.0</td>\n",
       "      <td>1.0</td>\n",
       "      <td>0.0</td>\n",
       "      <td>6.7500</td>\n",
       "    </tr>\n",
       "  </tbody>\n",
       "</table>\n",
       "<p>179 rows × 9 columns</p>\n",
       "</div>"
      ],
      "text/plain": [
       "     x0_male  x1_True  class   age  0_0  0_1  0_2  parch     fare\n",
       "0        1.0      0.0    3.0  40.5  0.0  1.0  0.0    2.0  14.5000\n",
       "1        1.0      1.0    3.0  33.0  0.0  1.0  0.0    0.0   9.5000\n",
       "2        0.0      0.0    3.0  39.0  0.0  1.0  0.0    5.0  31.2750\n",
       "3        1.0      1.0    3.0  28.0  0.0  1.0  0.0    0.0   9.5000\n",
       "4        0.0      1.0    1.0  24.0  0.0  1.0  1.0    0.0  83.1583\n",
       "..       ...      ...    ...   ...  ...  ...  ...    ...      ...\n",
       "174      1.0      1.0    1.0  71.0  0.0  1.0  1.0    0.0  34.6542\n",
       "175      0.0      0.0    2.0  45.0  0.0  1.0  0.0    1.0  26.2500\n",
       "176      1.0      1.0    3.0  25.0  0.0  1.0  0.0    0.0   7.6500\n",
       "177      1.0      1.0    3.0  19.0  0.0  1.0  0.0    0.0  14.5000\n",
       "178      1.0      1.0    3.0  19.0  0.0  0.0  1.0    0.0   6.7500\n",
       "\n",
       "[179 rows x 9 columns]"
      ]
     },
     "metadata": {},
     "execution_count": 37
    }
   ],
   "metadata": {}
  },
  {
   "cell_type": "code",
   "execution_count": 38,
   "source": [
    "# Check missing values\r\n",
    "X_train_prep.isna().sum()"
   ],
   "outputs": [
    {
     "output_type": "execute_result",
     "data": {
      "text/plain": [
       "x0_male    0\n",
       "x1_True    0\n",
       "class      0\n",
       "age        0\n",
       "0_0        0\n",
       "0_1        0\n",
       "0_2        0\n",
       "parch      0\n",
       "fare       0\n",
       "dtype: int64"
      ]
     },
     "metadata": {},
     "execution_count": 38
    }
   ],
   "metadata": {}
  },
  {
   "cell_type": "code",
   "execution_count": 39,
   "source": [
    "X_test_prep.isna().sum()"
   ],
   "outputs": [
    {
     "output_type": "execute_result",
     "data": {
      "text/plain": [
       "x0_male    0\n",
       "x1_True    0\n",
       "class      0\n",
       "age        0\n",
       "0_0        0\n",
       "0_1        0\n",
       "0_2        0\n",
       "parch      0\n",
       "fare       0\n",
       "dtype: int64"
      ]
     },
     "metadata": {},
     "execution_count": 39
    }
   ],
   "metadata": {}
  },
  {
   "cell_type": "markdown",
   "source": [
    "## **Model Performance**"
   ],
   "metadata": {}
  },
  {
   "cell_type": "code",
   "execution_count": 40,
   "source": [
    "# Define models\r\n",
    "knn = KNeighborsClassifier()\r\n",
    "tree = DecisionTreeClassifier(random_state=0)\r\n",
    "logreg = LogisticRegression(random_state=0)\r\n",
    "rf = RandomForestClassifier(random_state=0)\r\n",
    "\r\n",
    "# Define imbalance treatment methods\r\n",
    "models = [knn, tree, logreg, rf]\r\n",
    "score = []\r\n",
    "nilai_mean = []\r\n",
    "nilai_std = []\r\n",
    "\r\n",
    "for i in models:\r\n",
    "    skfold = StratifiedKFold(n_splits=5, shuffle=True, random_state=0)\r\n",
    "    estimator = Pipeline([\r\n",
    "        ('preprocessing', transformer),\r\n",
    "        ('model', i)\r\n",
    "    ])\r\n",
    "\r\n",
    "    model_cv = cross_val_score(estimator, X_train, y_train, cv=skfold, scoring='f1', error_score='raise')\r\n",
    "    score.append(model_cv)\r\n",
    "    nilai_mean.append(model_cv.mean())\r\n",
    "    nilai_std.append(model_cv.std())"
   ],
   "outputs": [],
   "metadata": {}
  },
  {
   "cell_type": "code",
   "execution_count": 41,
   "source": [
    "pd.DataFrame({\r\n",
    "    'model':['knn', 'tree', 'logreg', 'rf'],\r\n",
    "    'mean':nilai_mean,\r\n",
    "    'std':nilai_std\r\n",
    "})"
   ],
   "outputs": [
    {
     "output_type": "execute_result",
     "data": {
      "text/html": [
       "<div>\n",
       "<style scoped>\n",
       "    .dataframe tbody tr th:only-of-type {\n",
       "        vertical-align: middle;\n",
       "    }\n",
       "\n",
       "    .dataframe tbody tr th {\n",
       "        vertical-align: top;\n",
       "    }\n",
       "\n",
       "    .dataframe thead th {\n",
       "        text-align: right;\n",
       "    }\n",
       "</style>\n",
       "<table border=\"1\" class=\"dataframe\">\n",
       "  <thead>\n",
       "    <tr style=\"text-align: right;\">\n",
       "      <th></th>\n",
       "      <th>model</th>\n",
       "      <th>mean</th>\n",
       "      <th>std</th>\n",
       "    </tr>\n",
       "  </thead>\n",
       "  <tbody>\n",
       "    <tr>\n",
       "      <th>0</th>\n",
       "      <td>knn</td>\n",
       "      <td>0.568421</td>\n",
       "      <td>0.055999</td>\n",
       "    </tr>\n",
       "    <tr>\n",
       "      <th>1</th>\n",
       "      <td>tree</td>\n",
       "      <td>0.719023</td>\n",
       "      <td>0.043662</td>\n",
       "    </tr>\n",
       "    <tr>\n",
       "      <th>2</th>\n",
       "      <td>logreg</td>\n",
       "      <td>0.719123</td>\n",
       "      <td>0.041412</td>\n",
       "    </tr>\n",
       "    <tr>\n",
       "      <th>3</th>\n",
       "      <td>rf</td>\n",
       "      <td>0.758543</td>\n",
       "      <td>0.023324</td>\n",
       "    </tr>\n",
       "  </tbody>\n",
       "</table>\n",
       "</div>"
      ],
      "text/plain": [
       "    model      mean       std\n",
       "0     knn  0.568421  0.055999\n",
       "1    tree  0.719023  0.043662\n",
       "2  logreg  0.719123  0.041412\n",
       "3      rf  0.758543  0.023324"
      ]
     },
     "metadata": {},
     "execution_count": 41
    }
   ],
   "metadata": {}
  },
  {
   "cell_type": "markdown",
   "source": [
    "Dari hasil di atas, dapat dilihat bahwa model random forest memiliki performa paling baik dan stabil jika dilihat dari nilai rata-rata F1 score-nya dan standar deviasinya. Sedangkan untuk logistic regression dan decisition tree, hasilnya hanya berbeda sedikit, tapi logistic regression sedikit lebih baik."
   ],
   "metadata": {}
  },
  {
   "cell_type": "markdown",
   "source": [
    "## **Model Performance on Test Set**"
   ],
   "metadata": {}
  },
  {
   "cell_type": "code",
   "execution_count": 42,
   "source": [
    "models={\r\n",
    "    'Logistic Regression': LogisticRegression(random_state=0),\r\n",
    "    'Random Forest': RandomForestClassifier(random_state=0),  \r\n",
    "}\r\n",
    "\r\n",
    "score=[]\r\n",
    "\r\n",
    "for i in models:\r\n",
    "    models[i].fit(X_train_prep, y_train)\r\n",
    "    y_pred=models[i].predict(X_test_prep)\r\n",
    "    score.append([f1_score(y_test, y_pred)])\r\n",
    "\r\n",
    "score_before_tuning = pd.DataFrame(score, columns=['F1 score'], index = models.keys())\r\n",
    "score_before_tuning\r\n"
   ],
   "outputs": [
    {
     "output_type": "execute_result",
     "data": {
      "text/html": [
       "<div>\n",
       "<style scoped>\n",
       "    .dataframe tbody tr th:only-of-type {\n",
       "        vertical-align: middle;\n",
       "    }\n",
       "\n",
       "    .dataframe tbody tr th {\n",
       "        vertical-align: top;\n",
       "    }\n",
       "\n",
       "    .dataframe thead th {\n",
       "        text-align: right;\n",
       "    }\n",
       "</style>\n",
       "<table border=\"1\" class=\"dataframe\">\n",
       "  <thead>\n",
       "    <tr style=\"text-align: right;\">\n",
       "      <th></th>\n",
       "      <th>F1 score</th>\n",
       "    </tr>\n",
       "  </thead>\n",
       "  <tbody>\n",
       "    <tr>\n",
       "      <th>Logistic Regression</th>\n",
       "      <td>0.703125</td>\n",
       "    </tr>\n",
       "    <tr>\n",
       "      <th>Random Forest</th>\n",
       "      <td>0.687500</td>\n",
       "    </tr>\n",
       "  </tbody>\n",
       "</table>\n",
       "</div>"
      ],
      "text/plain": [
       "                     F1 score\n",
       "Logistic Regression  0.703125\n",
       "Random Forest        0.687500"
      ]
     },
     "metadata": {},
     "execution_count": 42
    }
   ],
   "metadata": {}
  },
  {
   "cell_type": "markdown",
   "source": [
    "## **Hyperparamater Tuning**"
   ],
   "metadata": {}
  },
  {
   "cell_type": "code",
   "execution_count": 43,
   "source": [
    "# Logistic Regression\r\n",
    "hyperparam_space_logreg = {\r\n",
    "    'C': [1000, 500, 100, 50, 10, 5, 1, 0.5, 0.1, 0.05, 0.01, 0.005, 0.001, 0.0005, 0.0001],\r\n",
    "    'solver': ['liblinear', 'newton-cg', 'lbfgs'],\r\n",
    "    'max_iter': [100, 200, 300, 400, 500, 1000]\r\n",
    "\r\n",
    "}\r\n",
    "\r\n",
    "# Random forest\r\n",
    "\r\n",
    "# Number of trees in random forest\r\n",
    "n_estimators = [int(x) for x in np.linspace(start = 200, stop = 2000, num = 10)]\r\n",
    "# Number of features to consider at every split\r\n",
    "max_features = ['auto', 'sqrt']\r\n",
    "# Maximum number of levels in tree\r\n",
    "max_depth = [int(x) for x in np.linspace(3, 12, num = 10)]\r\n",
    "# Minimum number of samples required to split a node\r\n",
    "min_samples_split = [2, 5, 10]\r\n",
    "# Minimum number of samples required at each leaf node\r\n",
    "min_samples_leaf = [1, 2, 4]\r\n",
    "# Method of selecting samples for training each tree\r\n",
    "bootstrap = [True, False]\r\n",
    "\r\n",
    "hyperparam_space_rf = {\r\n",
    "    'n_estimators': n_estimators,\r\n",
    "    'max_features': max_features,\r\n",
    "    'max_depth': max_depth,\r\n",
    "    'min_samples_split': min_samples_split,\r\n",
    "    'min_samples_leaf': min_samples_leaf,\r\n",
    "    'bootstrap': bootstrap\r\n",
    "}"
   ],
   "outputs": [],
   "metadata": {}
  },
  {
   "cell_type": "code",
   "execution_count": 44,
   "source": [
    "skfold = StratifiedKFold(n_splits=5, shuffle=True, random_state=0)\r\n",
    "\r\n",
    "logreg = LogisticRegression(random_state=0)\r\n",
    "rf = RandomForestClassifier(random_state=0)\r\n",
    "\r\n",
    "random_logreg = RandomizedSearchCV(\r\n",
    "    logreg,\r\n",
    "    param_distributions = hyperparam_space_logreg,\r\n",
    "    cv = skfold,\r\n",
    "    scoring= 'f1',\r\n",
    "    n_jobs= -1\r\n",
    ")\r\n",
    "\r\n",
    "random_rf = RandomizedSearchCV(\r\n",
    "    rf, \r\n",
    "    param_distributions = hyperparam_space_rf,\r\n",
    "    cv = skfold,\r\n",
    "    scoring= 'f1',\r\n",
    "    n_jobs= -1\r\n",
    ")"
   ],
   "outputs": [],
   "metadata": {}
  },
  {
   "cell_type": "code",
   "execution_count": 45,
   "source": [
    "random_logreg.fit(X_train_prep, y_train)"
   ],
   "outputs": [
    {
     "output_type": "execute_result",
     "data": {
      "text/plain": [
       "RandomizedSearchCV(cv=StratifiedKFold(n_splits=5, random_state=0, shuffle=True),\n",
       "                   estimator=LogisticRegression(random_state=0), n_jobs=-1,\n",
       "                   param_distributions={'C': [1000, 500, 100, 50, 10, 5, 1, 0.5,\n",
       "                                              0.1, 0.05, 0.01, 0.005, 0.001,\n",
       "                                              0.0005, 0.0001],\n",
       "                                        'max_iter': [100, 200, 300, 400, 500,\n",
       "                                                     1000],\n",
       "                                        'solver': ['liblinear', 'newton-cg',\n",
       "                                                   'lbfgs']},\n",
       "                   scoring='f1')"
      ]
     },
     "metadata": {},
     "execution_count": 45
    }
   ],
   "metadata": {}
  },
  {
   "cell_type": "code",
   "execution_count": 46,
   "source": [
    "random_rf.fit(X_train_prep, y_train)"
   ],
   "outputs": [
    {
     "output_type": "execute_result",
     "data": {
      "text/plain": [
       "RandomizedSearchCV(cv=StratifiedKFold(n_splits=5, random_state=0, shuffle=True),\n",
       "                   estimator=RandomForestClassifier(random_state=0), n_jobs=-1,\n",
       "                   param_distributions={'bootstrap': [True, False],\n",
       "                                        'max_depth': [10, 20, 30, 40, 50, 60,\n",
       "                                                      70, 80, 90, 100, 110],\n",
       "                                        'max_features': ['auto', 'sqrt'],\n",
       "                                        'min_samples_leaf': [1, 2, 4],\n",
       "                                        'min_samples_split': [2, 5, 10],\n",
       "                                        'n_estimators': [200, 400, 600, 800,\n",
       "                                                         1000, 1200, 1400, 1600,\n",
       "                                                         1800, 2000]},\n",
       "                   scoring='f1')"
      ]
     },
     "metadata": {},
     "execution_count": 46
    }
   ],
   "metadata": {}
  },
  {
   "cell_type": "code",
   "execution_count": 47,
   "source": [
    "print('Best score logreg:', random_logreg.best_score_)\r\n",
    "print('Best params logreg:', random_logreg.best_params_)\r\n",
    "print('Best score rf:', random_rf.best_score_)\r\n",
    "print('Best params rf:', random_rf.best_params_)"
   ],
   "outputs": [
    {
     "output_type": "stream",
     "name": "stdout",
     "text": [
      "Best score logreg: 0.7356436826369317\n",
      "Best params logreg: {'solver': 'lbfgs', 'max_iter': 200, 'C': 100}\n",
      "Best score rf: 0.781023358445859\n",
      "Best params rf: {'n_estimators': 2000, 'min_samples_split': 5, 'min_samples_leaf': 1, 'max_features': 'auto', 'max_depth': 70, 'bootstrap': True}\n"
     ]
    }
   ],
   "metadata": {}
  },
  {
   "cell_type": "markdown",
   "source": [
    "## **Model Performance After Tuning**"
   ],
   "metadata": {}
  },
  {
   "cell_type": "code",
   "execution_count": 48,
   "source": [
    "logreg_tuning = random_logreg.best_estimator_\r\n",
    "logreg_tuning.fit(X_train_prep, y_train)\r\n",
    "\r\n",
    "rf_tuning = random_rf.best_estimator_\r\n",
    "rf_tuning.fit(X_train_prep, y_train)\r\n",
    "\r\n",
    "y_pred_logreg_tuning = logreg_tuning.predict(X_test_prep)\r\n",
    "y_pred_rf_tuning = rf_tuning.predict(X_test_prep)\r\n",
    "\r\n",
    "f1_logreg_tuning = f1_score(y_test, y_pred_logreg_tuning)\r\n",
    "f1_rf_tuning = f1_score(y_test, y_pred_rf_tuning)"
   ],
   "outputs": [],
   "metadata": {}
  },
  {
   "cell_type": "code",
   "execution_count": 49,
   "source": [
    "score_list = [f1_logreg_tuning, f1_rf_tuning]\r\n",
    "models = ['Logistic Regression', 'Random Forest']\r\n",
    "score_after_tuning = pd.DataFrame({\r\n",
    "    'Model': models,\r\n",
    "    'F1 score': score_list\r\n",
    "})"
   ],
   "outputs": [],
   "metadata": {}
  },
  {
   "cell_type": "markdown",
   "source": [
    "## **Comparison of f1_score**"
   ],
   "metadata": {}
  },
  {
   "cell_type": "code",
   "execution_count": 50,
   "source": [
    "score_before_tuning"
   ],
   "outputs": [
    {
     "output_type": "execute_result",
     "data": {
      "text/html": [
       "<div>\n",
       "<style scoped>\n",
       "    .dataframe tbody tr th:only-of-type {\n",
       "        vertical-align: middle;\n",
       "    }\n",
       "\n",
       "    .dataframe tbody tr th {\n",
       "        vertical-align: top;\n",
       "    }\n",
       "\n",
       "    .dataframe thead th {\n",
       "        text-align: right;\n",
       "    }\n",
       "</style>\n",
       "<table border=\"1\" class=\"dataframe\">\n",
       "  <thead>\n",
       "    <tr style=\"text-align: right;\">\n",
       "      <th></th>\n",
       "      <th>F1 score</th>\n",
       "    </tr>\n",
       "  </thead>\n",
       "  <tbody>\n",
       "    <tr>\n",
       "      <th>Logistic Regression</th>\n",
       "      <td>0.703125</td>\n",
       "    </tr>\n",
       "    <tr>\n",
       "      <th>Random Forest</th>\n",
       "      <td>0.687500</td>\n",
       "    </tr>\n",
       "  </tbody>\n",
       "</table>\n",
       "</div>"
      ],
      "text/plain": [
       "                     F1 score\n",
       "Logistic Regression  0.703125\n",
       "Random Forest        0.687500"
      ]
     },
     "metadata": {},
     "execution_count": 50
    }
   ],
   "metadata": {}
  },
  {
   "cell_type": "code",
   "execution_count": 51,
   "source": [
    "score_after_tuning"
   ],
   "outputs": [
    {
     "output_type": "execute_result",
     "data": {
      "text/html": [
       "<div>\n",
       "<style scoped>\n",
       "    .dataframe tbody tr th:only-of-type {\n",
       "        vertical-align: middle;\n",
       "    }\n",
       "\n",
       "    .dataframe tbody tr th {\n",
       "        vertical-align: top;\n",
       "    }\n",
       "\n",
       "    .dataframe thead th {\n",
       "        text-align: right;\n",
       "    }\n",
       "</style>\n",
       "<table border=\"1\" class=\"dataframe\">\n",
       "  <thead>\n",
       "    <tr style=\"text-align: right;\">\n",
       "      <th></th>\n",
       "      <th>Model</th>\n",
       "      <th>F1 score</th>\n",
       "    </tr>\n",
       "  </thead>\n",
       "  <tbody>\n",
       "    <tr>\n",
       "      <th>0</th>\n",
       "      <td>Logistic Regression</td>\n",
       "      <td>0.703125</td>\n",
       "    </tr>\n",
       "    <tr>\n",
       "      <th>1</th>\n",
       "      <td>Random Forest</td>\n",
       "      <td>0.724409</td>\n",
       "    </tr>\n",
       "  </tbody>\n",
       "</table>\n",
       "</div>"
      ],
      "text/plain": [
       "                 Model  F1 score\n",
       "0  Logistic Regression  0.703125\n",
       "1        Random Forest  0.724409"
      ]
     },
     "metadata": {},
     "execution_count": 51
    }
   ],
   "metadata": {}
  },
  {
   "cell_type": "markdown",
   "source": [
    "## **Summary**"
   ],
   "metadata": {}
  },
  {
   "cell_type": "markdown",
   "source": [
    "1. Model terbaik untuk memprediksi seseorang berhasil survive atau tidak pada titanic dataset berdasarkan f1_scorenya adalah Random Forest dengan hyperparamater tuning.\r\n",
    "2. Proses hyperparamater tuning membuat f1_score pada model random forest meningkat sekitar 0.04, dari 0.68 menjadi 0.72. Lain halnya dengan model logistic regression yang tidak mengalami perubahan sama sekali pada f1_scorenya."
   ],
   "metadata": {}
  }
 ]
}